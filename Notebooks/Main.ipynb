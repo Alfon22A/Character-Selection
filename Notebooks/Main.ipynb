{
 "cells": [
  {
   "cell_type": "markdown",
   "id": "389db85d-4933-4281-8baa-0b65d30e38fa",
   "metadata": {},
   "source": [
    "# Libraries"
   ]
  },
  {
   "cell_type": "code",
   "execution_count": 1,
   "id": "930c4656-e9ec-4f43-aa06-667648266285",
   "metadata": {},
   "outputs": [],
   "source": [
    "import numpy as np\n",
    "import pandas as pd\n",
    "import glob\n",
    "from skimage import io\n",
    "\n",
    "import matplotlib.pyplot as plt\n",
    "%matplotlib inline\n",
    "\n",
    "from sklearn.model_selection import train_test_split\n",
    "from sklearn.metrics import cohen_kappa_score, classification_report, mean_absolute_error\n",
    "\n",
    "import tensorflow as tf\n",
    "from tensorflow.keras.models import Sequential\n",
    "from tensorflow.keras.layers import Conv2D, MaxPool2D, Activation, Flatten, Dense, AveragePooling2D\n",
    "from tensorflow.keras.preprocessing.image import ImageDataGenerator, img_to_array, load_img\n",
    "from tensorflow.keras.callbacks import EarlyStopping, ModelCheckpoint\n",
    "import keras\n",
    "from keras.models import load_model\n",
    "\n",
    "import pickle\n",
    "import sys\n",
    "sys.path.insert(1, '../Src/Lib')\n",
    "from functions import image_augmentation, image_preprocess\n",
    "\n",
    "tf.compat.v1.logging.set_verbosity(tf.compat.v1.logging.ERROR)"
   ]
  },
  {
   "cell_type": "markdown",
   "id": "fbe46d53-b382-46da-a8b7-ac56770f8045",
   "metadata": {},
   "source": [
    "# Dataset"
   ]
  },
  {
   "cell_type": "code",
   "execution_count": 2,
   "id": "b4d1b5f5-6732-4884-904c-c05d900ab147",
   "metadata": {},
   "outputs": [],
   "source": [
    "# Dataset is divided in 4 files, this concatenates them all\n",
    "\n",
    "df_list = []\n",
    "for file_name in glob.glob(\"../Data/Raw/Archive/*.txt\"):\n",
    "    df_temp = pd.read_csv(file_name, sep=\"\\t\")\n",
    "    df_list.append(df_temp)\n",
    "df = pd.concat(df_list, axis=0, ignore_index=True)"
   ]
  },
  {
   "cell_type": "markdown",
   "id": "b34a739f-adc5-478f-a6d8-bd6317471468",
   "metadata": {
    "tags": []
   },
   "source": [
    "## Cleaning"
   ]
  },
  {
   "cell_type": "code",
   "execution_count": 3,
   "id": "c0ede779-2b17-4da1-86ff-db4fa0c52731",
   "metadata": {},
   "outputs": [],
   "source": [
    "# Getting rid of missing values\n",
    "\n",
    "df = df.dropna()\n",
    "df = df[df[\"age\"] != \"None\"]"
   ]
  },
  {
   "cell_type": "code",
   "execution_count": 4,
   "id": "42819457-691f-4945-a6a7-a2a46ff3c60e",
   "metadata": {},
   "outputs": [
    {
     "data": {
      "text/plain": [
       "(25, 32)     4953\n",
       "(0, 2)       2488\n",
       "(38, 43)     2293\n",
       "(4, 6)       2140\n",
       "(8, 12)      2119\n",
       "(15, 20)     1642\n",
       "(60, 100)     867\n",
       "(48, 53)      825\n",
       "35            293\n",
       "13            168\n",
       "22            149\n",
       "34            105\n",
       "23             96\n",
       "45             88\n",
       "(27, 32)       77\n",
       "55             76\n",
       "36             56\n",
       "(38, 42)       46\n",
       "57             24\n",
       "3              18\n",
       "29             11\n",
       "(38, 48)        6\n",
       "58              5\n",
       "2               3\n",
       "(8, 23)         1\n",
       "42              1\n",
       "46              1\n",
       "Name: age, dtype: int64"
      ]
     },
     "execution_count": 4,
     "metadata": {},
     "output_type": "execute_result"
    }
   ],
   "source": [
    "# This dataset is meant to make the age a classification problem, but we are going to make it a regression one\n",
    "\n",
    "df[\"age\"].value_counts()"
   ]
  },
  {
   "cell_type": "code",
   "execution_count": 5,
   "id": "bfb05e6c-4f03-401a-89bb-a678f01c1b73",
   "metadata": {},
   "outputs": [],
   "source": [
    "# Creating two lists, one with the current values (keys) and one with the new values (values), latter being the average of the first.\n",
    "\n",
    "ages_keys = df[\"age\"].value_counts().index\n",
    "ages_values = []\n",
    "for x in df[\"age\"].value_counts().index:\n",
    "    if x.startswith(\"(\"):\n",
    "        x = x.split(\", \")\n",
    "        x[0] = x[0].replace(\"(\",\"\")\n",
    "        x[1] = x[1].replace(\")\",\"\")\n",
    "        x[0] = int(x[0])\n",
    "        x[1] = int(x[1])\n",
    "        x = int((x[0]+x[1])/2)\n",
    "        ages_values.append(x)\n",
    "    else:\n",
    "        ages_values.append(int(x))\n",
    "        \n",
    "# Age map to use for regression.\n",
    "ages_map = {}\n",
    "for key, value in zip(ages_keys, ages_values):\n",
    "    ages_map[key] = value\n",
    "    \n",
    "df[\"age\"] = df[\"age\"].map(ages_map)"
   ]
  },
  {
   "cell_type": "code",
   "execution_count": 6,
   "id": "4a3ab9c8-96f7-40bf-82bd-835acb7144e2",
   "metadata": {},
   "outputs": [],
   "source": [
    "# We will later make the model predict a non-binary category\n",
    "\n",
    "df = df[df[\"gender\"] != \"u\"]\n",
    "df[\"gender\"] = df[\"gender\"].apply(lambda x: 1 if x == \"m\" else 0).astype(int)"
   ]
  },
  {
   "cell_type": "code",
   "execution_count": 7,
   "id": "9fc16d45-ab9c-438e-a993-3574affdd5f5",
   "metadata": {},
   "outputs": [],
   "source": [
    "# Creating the path to the image\n",
    "\n",
    "df[\"face_id\"] = df[\"face_id\"].astype(str)\n",
    "df[\"path\"] = \"../Data/Raw/Archive/Faces/\"+df[\"user_id\"]+\"/coarse_tilt_aligned_face.\"+df[\"face_id\"]+\".\"+df[\"original_image\"]"
   ]
  },
  {
   "cell_type": "code",
   "execution_count": 9,
   "id": "12212082-e9d8-4b1e-82cd-207cce97605b",
   "metadata": {},
   "outputs": [],
   "source": [
    "# Saving the model for future use\n",
    "\n",
    "df.to_csv(\"../Data/Clean/Faces.csv\")"
   ]
  },
  {
   "cell_type": "markdown",
   "id": "2b49f8b9-cf9a-4016-8f6a-aab4940d9a58",
   "metadata": {},
   "source": [
    "## X/y Split"
   ]
  },
  {
   "cell_type": "code",
   "execution_count": 10,
   "id": "304031d5-3a10-4bdd-9eb5-925427259245",
   "metadata": {
    "tags": []
   },
   "outputs": [],
   "source": [
    "# As we will do two models, we have two targets\n",
    "\n",
    "X = df[\"path\"]\n",
    "y_age = df[\"age\"]\n",
    "y_gender = df[\"gender\"]"
   ]
  },
  {
   "cell_type": "markdown",
   "id": "04d45d24-0aa5-4262-9581-17e3ea666858",
   "metadata": {},
   "source": [
    "## Train/Test Split"
   ]
  },
  {
   "cell_type": "code",
   "execution_count": 11,
   "id": "738fbdd9-b4d4-4075-98d2-74f1767d9626",
   "metadata": {},
   "outputs": [],
   "source": [
    "# X_train and X_test is the same for both\n",
    "\n",
    "X_train, X_test, y_train_age, y_test_age = train_test_split(X, y_age, test_size = 0.22, random_state = 22)\n",
    "X_train, X_test, y_train_gender, y_test_gender = train_test_split(X, y_gender, test_size = 0.22, random_state = 22)"
   ]
  },
  {
   "cell_type": "markdown",
   "id": "49be3fdb-bd12-4634-a2f9-7a08468be006",
   "metadata": {},
   "source": [
    "## Image preprocess"
   ]
  },
  {
   "cell_type": "code",
   "execution_count": 12,
   "id": "8d1da794-705d-4f4b-9aeb-c3f713fb312f",
   "metadata": {},
   "outputs": [],
   "source": [
    "# Image greyscaled, downscaled, size adjusted and transformed.\n",
    "\n",
    "def image_preprocess(path):\n",
    "    img = tf.io.read_file(np.array(path).ravel()[0])\n",
    "    img = tf.image.decode_jpeg(img, channels = 1, ratio = 2)\n",
    "    img = tf.image.resize(img, [64,64])\n",
    "    img = img / 255 # This part normalizes the image, scaling it down; 255 is the max, while 0 is the min\n",
    "    return img"
   ]
  },
  {
   "cell_type": "code",
   "execution_count": 13,
   "id": "e37a470d-f94c-4cd1-b28e-e264eb2c32f2",
   "metadata": {},
   "outputs": [],
   "source": [
    "# Preparing the data that will be fed to the model, needs to be np.array\n",
    "\n",
    "X_train_images = np.array([image_preprocess(path) for path in X_train])\n",
    "X_test_images = np.array([image_preprocess(path) for path in X_test])"
   ]
  },
  {
   "cell_type": "code",
   "execution_count": 15,
   "id": "5b8f6184-2696-4e66-90dc-362dd25878a3",
   "metadata": {},
   "outputs": [],
   "source": [
    "# Saving both arrays for future use\n",
    "\n",
    "filename = \"../Data/Clean/X_train_images.pkl\"\n",
    "with open(filename, \"wb\") as file:\n",
    "    pickle.dump(X_train_images, file)\n",
    "    \n",
    "filename = \"../Data/Clean/X_test_images.pkl\"\n",
    "with open(filename, \"wb\") as file:\n",
    "    pickle.dump(X_test_images, file)"
   ]
  },
  {
   "cell_type": "markdown",
   "id": "62077594-80b7-4021-afd1-2ac9a56b6bd2",
   "metadata": {},
   "source": [
    "# Models"
   ]
  },
  {
   "cell_type": "markdown",
   "id": "1a84b3ac-0553-4638-99c4-2b1f6b9f53a4",
   "metadata": {
    "tags": []
   },
   "source": [
    "## Age"
   ]
  },
  {
   "cell_type": "code",
   "execution_count": 16,
   "id": "83f8f2a5-6ebf-4126-b6ab-bc45c268a23a",
   "metadata": {},
   "outputs": [
    {
     "name": "stdout",
     "output_type": "stream",
     "text": [
      "Model: \"sequential\"\n",
      "_________________________________________________________________\n",
      " Layer (type)                Output Shape              Param #   \n",
      "=================================================================\n",
      " conv2d (Conv2D)             (None, 63, 63, 64)        320       \n",
      "                                                                 \n",
      " max_pooling2d (MaxPooling2D  (None, 31, 31, 64)       0         \n",
      " )                                                               \n",
      "                                                                 \n",
      " conv2d_1 (Conv2D)           (None, 30, 30, 64)        16448     \n",
      "                                                                 \n",
      " max_pooling2d_1 (MaxPooling  (None, 15, 15, 64)       0         \n",
      " 2D)                                                             \n",
      "                                                                 \n",
      " conv2d_2 (Conv2D)           (None, 14, 14, 64)        16448     \n",
      "                                                                 \n",
      " max_pooling2d_2 (MaxPooling  (None, 7, 7, 64)         0         \n",
      " 2D)                                                             \n",
      "                                                                 \n",
      " flatten (Flatten)           (None, 3136)              0         \n",
      "                                                                 \n",
      " dense (Dense)               (None, 64)                200768    \n",
      "                                                                 \n",
      " dense_1 (Dense)             (None, 1)                 65        \n",
      "                                                                 \n",
      "=================================================================\n",
      "Total params: 234,049\n",
      "Trainable params: 234,049\n",
      "Non-trainable params: 0\n",
      "_________________________________________________________________\n"
     ]
    }
   ],
   "source": [
    "model_age = Sequential()\n",
    "# First layer needs as many nodes as inputs\n",
    "model_age.add(Conv2D(64,(2,2), activation = \"relu\", input_shape = (64,64,1)))\n",
    "model_age.add(MaxPool2D((2,2)))\n",
    "model_age.add(Conv2D(64,(2,2), activation = \"relu\"))\n",
    "model_age.add(MaxPool2D((2,2)))\n",
    "model_age.add(Conv2D(64,(2,2), activation = \"relu\"))\n",
    "model_age.add(MaxPool2D((2,2)))\n",
    "model_age.add(Flatten())\n",
    "model_age.add(Dense(64, activation = \"relu\"))\n",
    "model_age.add(Dense(1, activation = \"relu\"))\n",
    "opt = keras.optimizers.Adam(learning_rate = 0.01)\n",
    "model_age.compile(optimizer = opt,\n",
    "              loss = \"mse\",\n",
    "              metrics = [\"mae\", \"mse\", \"mape\"])\n",
    "model_age.summary()"
   ]
  },
  {
   "cell_type": "markdown",
   "id": "ffb6fe81-0446-45d8-a25d-86ec255036bc",
   "metadata": {},
   "source": [
    "### Callbacks"
   ]
  },
  {
   "cell_type": "code",
   "execution_count": 17,
   "id": "a1766e42-9af3-4590-885f-a7fde8291e3e",
   "metadata": {},
   "outputs": [],
   "source": [
    "# This changes the learning rate based on epochs\n",
    "\n",
    "def scheduler(epoch, lr):\n",
    "    if epoch < 5:\n",
    "        return lr\n",
    "    else:\n",
    "        return lr - (lr/(epoch))"
   ]
  },
  {
   "cell_type": "code",
   "execution_count": 18,
   "id": "1bfb87ea-b313-4386-b091-3bde0b6818e6",
   "metadata": {},
   "outputs": [],
   "source": [
    "# Patience\n",
    "    \n",
    "early_stop = EarlyStopping(patience=5)\n",
    "\n",
    "# Checkpoint\n",
    "\n",
    "checkpoint_path = '../Models/Age_NN7.hdf5'\n",
    "checkpoint = ModelCheckpoint(\n",
    "    filepath=checkpoint_path,\n",
    "    save_freq='epoch',\n",
    "    save_weights_only=False,\n",
    "    verbose=1\n",
    ")\n",
    "\n",
    "# Learning rate\n",
    "\n",
    "schedule = tf.keras.callbacks.LearningRateScheduler(scheduler)"
   ]
  },
  {
   "cell_type": "code",
   "execution_count": 19,
   "id": "049d4423-a1b3-4b88-91ef-f58d6c487289",
   "metadata": {
    "collapsed": true,
    "jupyter": {
     "outputs_hidden": true
    },
    "tags": []
   },
   "outputs": [
    {
     "name": "stdout",
     "output_type": "stream",
     "text": [
      "Epoch 1/100\n",
      "\n",
      "Epoch 1: saving model to ../Models\\Age_NN7.hdf5\n",
      "107/107 - 63s - loss: 530.3270 - mae: 17.2618 - mse: 530.3270 - mape: 240.9073 - val_loss: 354.3254 - val_mae: 14.4025 - val_mse: 354.3254 - val_mape: 290.7019 - lr: 0.0100 - 63s/epoch - 586ms/step\n",
      "Epoch 2/100\n",
      "\n",
      "Epoch 2: saving model to ../Models\\Age_NN7.hdf5\n",
      "107/107 - 60s - loss: 353.5919 - mae: 14.4090 - mse: 353.5919 - mape: 283.2497 - val_loss: 353.9168 - val_mae: 14.5000 - val_mse: 353.9168 - val_mape: 279.7786 - lr: 0.0100 - 60s/epoch - 561ms/step\n",
      "Epoch 3/100\n",
      "\n",
      "Epoch 3: saving model to ../Models\\Age_NN7.hdf5\n",
      "107/107 - 56s - loss: 354.0327 - mae: 14.4284 - mse: 354.0327 - mape: 282.1502 - val_loss: 353.5002 - val_mae: 14.4109 - val_mse: 353.5002 - val_mape: 287.4370 - lr: 0.0100 - 56s/epoch - 524ms/step\n",
      "Epoch 4/100\n",
      "\n",
      "Epoch 4: saving model to ../Models\\Age_NN7.hdf5\n",
      "107/107 - 52s - loss: 353.9098 - mae: 14.4126 - mse: 353.9098 - mape: 282.6396 - val_loss: 353.7107 - val_mae: 14.3681 - val_mse: 353.7107 - val_mape: 291.4324 - lr: 0.0100 - 52s/epoch - 486ms/step\n",
      "Epoch 5/100\n",
      "\n",
      "Epoch 5: saving model to ../Models\\Age_NN7.hdf5\n",
      "107/107 - 52s - loss: 353.1843 - mae: 14.3813 - mse: 353.1843 - mape: 282.6630 - val_loss: 353.0872 - val_mae: 14.4256 - val_mse: 353.0872 - val_mape: 282.1258 - lr: 0.0100 - 52s/epoch - 484ms/step\n",
      "Epoch 6/100\n",
      "\n",
      "Epoch 6: saving model to ../Models\\Age_NN7.hdf5\n",
      "107/107 - 54s - loss: 354.2182 - mae: 14.4112 - mse: 354.2182 - mape: 281.7717 - val_loss: 353.6205 - val_mae: 14.2945 - val_mse: 353.6205 - val_mape: 294.6454 - lr: 0.0080 - 54s/epoch - 501ms/step\n",
      "Epoch 7/100\n",
      "\n",
      "Epoch 7: saving model to ../Models\\Age_NN7.hdf5\n",
      "107/107 - 52s - loss: 352.8090 - mae: 14.3586 - mse: 352.8090 - mape: 282.7248 - val_loss: 353.2046 - val_mae: 14.4478 - val_mse: 353.2046 - val_mape: 274.8681 - lr: 0.0067 - 52s/epoch - 485ms/step\n",
      "Epoch 8/100\n",
      "\n",
      "Epoch 8: saving model to ../Models\\Age_NN7.hdf5\n",
      "107/107 - 54s - loss: 351.3679 - mae: 14.3040 - mse: 351.3679 - mape: 281.9099 - val_loss: 353.2410 - val_mae: 14.4628 - val_mse: 353.2410 - val_mape: 270.0744 - lr: 0.0057 - 54s/epoch - 508ms/step\n",
      "Epoch 9/100\n",
      "\n",
      "Epoch 9: saving model to ../Models\\Age_NN7.hdf5\n",
      "107/107 - 51s - loss: 351.1028 - mae: 14.3010 - mse: 351.1028 - mape: 279.5952 - val_loss: 352.5551 - val_mae: 14.1779 - val_mse: 352.5551 - val_mape: 297.3163 - lr: 0.0050 - 51s/epoch - 477ms/step\n",
      "Epoch 10/100\n",
      "\n",
      "Epoch 10: saving model to ../Models\\Age_NN7.hdf5\n",
      "107/107 - 53s - loss: 351.2330 - mae: 14.3045 - mse: 351.2330 - mape: 278.7661 - val_loss: 350.5245 - val_mae: 14.1841 - val_mse: 350.5245 - val_mape: 289.4392 - lr: 0.0044 - 53s/epoch - 499ms/step\n",
      "Epoch 11/100\n",
      "\n",
      "Epoch 11: saving model to ../Models\\Age_NN7.hdf5\n",
      "107/107 - 50s - loss: 350.3919 - mae: 14.2833 - mse: 350.3919 - mape: 277.4432 - val_loss: 349.7944 - val_mae: 14.1864 - val_mse: 349.7944 - val_mape: 286.6050 - lr: 0.0040 - 50s/epoch - 465ms/step\n",
      "Epoch 12/100\n",
      "\n",
      "Epoch 12: saving model to ../Models\\Age_NN7.hdf5\n",
      "107/107 - 50s - loss: 348.0572 - mae: 14.1923 - mse: 348.0572 - mape: 277.7674 - val_loss: 346.1790 - val_mae: 14.0919 - val_mse: 346.1790 - val_mape: 281.6662 - lr: 0.0036 - 50s/epoch - 466ms/step\n",
      "Epoch 13/100\n",
      "\n",
      "Epoch 13: saving model to ../Models\\Age_NN7.hdf5\n",
      "107/107 - 53s - loss: 340.2401 - mae: 14.0232 - mse: 340.2401 - mape: 267.3945 - val_loss: 335.9950 - val_mae: 13.9164 - val_mse: 335.9950 - val_mape: 272.3076 - lr: 0.0033 - 53s/epoch - 495ms/step\n",
      "Epoch 14/100\n",
      "\n",
      "Epoch 14: saving model to ../Models\\Age_NN7.hdf5\n",
      "107/107 - 51s - loss: 332.3254 - mae: 13.8906 - mse: 332.3254 - mape: 251.2959 - val_loss: 330.7333 - val_mae: 13.6637 - val_mse: 330.7333 - val_mape: 234.1201 - lr: 0.0031 - 51s/epoch - 475ms/step\n",
      "Epoch 15/100\n",
      "\n",
      "Epoch 15: saving model to ../Models\\Age_NN7.hdf5\n",
      "107/107 - 61s - loss: 324.2725 - mae: 13.7262 - mse: 324.2725 - mape: 243.6872 - val_loss: 322.7444 - val_mae: 13.4995 - val_mse: 322.7444 - val_mape: 233.8178 - lr: 0.0029 - 61s/epoch - 571ms/step\n",
      "Epoch 16/100\n",
      "\n",
      "Epoch 16: saving model to ../Models\\Age_NN7.hdf5\n",
      "107/107 - 52s - loss: 317.5379 - mae: 13.5619 - mse: 317.5379 - mape: 237.7236 - val_loss: 319.8923 - val_mae: 13.6351 - val_mse: 319.8923 - val_mape: 252.5261 - lr: 0.0027 - 52s/epoch - 487ms/step\n",
      "Epoch 17/100\n",
      "\n",
      "Epoch 17: saving model to ../Models\\Age_NN7.hdf5\n",
      "107/107 - 54s - loss: 312.6701 - mae: 13.4692 - mse: 312.6701 - mape: 233.1787 - val_loss: 314.5858 - val_mae: 13.4662 - val_mse: 314.5858 - val_mape: 243.8756 - lr: 0.0025 - 54s/epoch - 504ms/step\n",
      "Epoch 18/100\n",
      "\n",
      "Epoch 18: saving model to ../Models\\Age_NN7.hdf5\n",
      "107/107 - 54s - loss: 307.3348 - mae: 13.3180 - mse: 307.3348 - mape: 228.5183 - val_loss: 310.2828 - val_mae: 13.3837 - val_mse: 310.2828 - val_mape: 239.5747 - lr: 0.0024 - 54s/epoch - 506ms/step\n",
      "Epoch 19/100\n",
      "\n",
      "Epoch 19: saving model to ../Models\\Age_NN7.hdf5\n",
      "107/107 - 59s - loss: 302.9992 - mae: 13.2128 - mse: 302.9992 - mape: 224.0618 - val_loss: 304.7731 - val_mae: 13.2566 - val_mse: 304.7731 - val_mape: 237.0873 - lr: 0.0022 - 59s/epoch - 554ms/step\n",
      "Epoch 20/100\n",
      "\n",
      "Epoch 20: saving model to ../Models\\Age_NN7.hdf5\n",
      "107/107 - 58s - loss: 297.6823 - mae: 13.0807 - mse: 297.6823 - mape: 218.5431 - val_loss: 299.5707 - val_mae: 12.9985 - val_mse: 299.5707 - val_mape: 215.5093 - lr: 0.0021 - 58s/epoch - 543ms/step\n",
      "Epoch 21/100\n",
      "\n",
      "Epoch 21: saving model to ../Models\\Age_NN7.hdf5\n",
      "107/107 - 56s - loss: 292.7020 - mae: 12.9437 - mse: 292.7020 - mape: 214.2222 - val_loss: 293.7398 - val_mae: 12.7394 - val_mse: 293.7398 - val_mape: 199.4234 - lr: 0.0020 - 56s/epoch - 524ms/step\n",
      "Epoch 22/100\n",
      "\n",
      "Epoch 22: saving model to ../Models\\Age_NN7.hdf5\n",
      "107/107 - 57s - loss: 286.5884 - mae: 12.7689 - mse: 286.5884 - mape: 206.6150 - val_loss: 291.0057 - val_mae: 12.6305 - val_mse: 291.0057 - val_mape: 190.4627 - lr: 0.0019 - 57s/epoch - 537ms/step\n",
      "Epoch 23/100\n",
      "\n",
      "Epoch 23: saving model to ../Models\\Age_NN7.hdf5\n",
      "107/107 - 56s - loss: 281.7846 - mae: 12.6143 - mse: 281.7846 - mape: 198.8295 - val_loss: 282.4578 - val_mae: 12.6641 - val_mse: 282.4578 - val_mape: 207.7341 - lr: 0.0018 - 56s/epoch - 523ms/step\n",
      "Epoch 24/100\n",
      "\n",
      "Epoch 24: saving model to ../Models\\Age_NN7.hdf5\n",
      "107/107 - 54s - loss: 276.3232 - mae: 12.4679 - mse: 276.3232 - mape: 193.8129 - val_loss: 279.9995 - val_mae: 12.3579 - val_mse: 279.9995 - val_mape: 183.7117 - lr: 0.0017 - 54s/epoch - 504ms/step\n",
      "Epoch 25/100\n",
      "\n",
      "Epoch 25: saving model to ../Models\\Age_NN7.hdf5\n",
      "107/107 - 52s - loss: 272.1411 - mae: 12.3160 - mse: 272.1411 - mape: 186.8848 - val_loss: 277.9386 - val_mae: 12.7347 - val_mse: 277.9386 - val_mape: 216.8067 - lr: 0.0017 - 52s/epoch - 491ms/step\n",
      "Epoch 26/100\n",
      "\n",
      "Epoch 26: saving model to ../Models\\Age_NN7.hdf5\n",
      "107/107 - 56s - loss: 267.2168 - mae: 12.1699 - mse: 267.2168 - mape: 181.2348 - val_loss: 270.2039 - val_mae: 11.9932 - val_mse: 270.2039 - val_mape: 165.3998 - lr: 0.0016 - 56s/epoch - 521ms/step\n",
      "Epoch 27/100\n",
      "\n",
      "Epoch 27: saving model to ../Models\\Age_NN7.hdf5\n",
      "107/107 - 57s - loss: 265.2692 - mae: 12.0912 - mse: 265.2692 - mape: 175.9965 - val_loss: 267.0647 - val_mae: 12.2564 - val_mse: 267.0647 - val_mape: 189.1956 - lr: 0.0015 - 57s/epoch - 533ms/step\n",
      "Epoch 28/100\n",
      "\n",
      "Epoch 28: saving model to ../Models\\Age_NN7.hdf5\n",
      "107/107 - 55s - loss: 260.4384 - mae: 11.9832 - mse: 260.4384 - mape: 175.1875 - val_loss: 264.3106 - val_mae: 11.7401 - val_mse: 264.3106 - val_mape: 149.3712 - lr: 0.0015 - 55s/epoch - 515ms/step\n",
      "Epoch 29/100\n",
      "\n",
      "Epoch 29: saving model to ../Models\\Age_NN7.hdf5\n",
      "107/107 - 59s - loss: 257.2468 - mae: 11.8638 - mse: 257.2468 - mape: 168.8960 - val_loss: 259.4131 - val_mae: 11.9844 - val_mse: 259.4131 - val_mape: 181.5599 - lr: 0.0014 - 59s/epoch - 549ms/step\n",
      "Epoch 30/100\n",
      "\n",
      "Epoch 30: saving model to ../Models\\Age_NN7.hdf5\n",
      "107/107 - 59s - loss: 253.1239 - mae: 11.7365 - mse: 253.1239 - mape: 165.3610 - val_loss: 255.1747 - val_mae: 11.6434 - val_mse: 255.1747 - val_mape: 154.0704 - lr: 0.0014 - 59s/epoch - 553ms/step\n",
      "Epoch 31/100\n",
      "\n",
      "Epoch 31: saving model to ../Models\\Age_NN7.hdf5\n",
      "107/107 - 56s - loss: 250.9375 - mae: 11.6873 - mse: 250.9375 - mape: 161.5300 - val_loss: 252.1427 - val_mae: 11.6638 - val_mse: 252.1427 - val_mape: 161.4386 - lr: 0.0013 - 56s/epoch - 528ms/step\n",
      "Epoch 32/100\n",
      "\n",
      "Epoch 32: saving model to ../Models\\Age_NN7.hdf5\n",
      "107/107 - 56s - loss: 249.0697 - mae: 11.6217 - mse: 249.0697 - mape: 159.7272 - val_loss: 266.0375 - val_mae: 12.5324 - val_mse: 266.0375 - val_mape: 190.3419 - lr: 0.0013 - 56s/epoch - 519ms/step\n",
      "Epoch 33/100\n",
      "\n",
      "Epoch 33: saving model to ../Models\\Age_NN7.hdf5\n",
      "107/107 - 95s - loss: 247.2745 - mae: 11.5873 - mse: 247.2745 - mape: 157.7971 - val_loss: 250.7172 - val_mae: 11.7162 - val_mse: 250.7172 - val_mape: 162.0305 - lr: 0.0013 - 95s/epoch - 891ms/step\n",
      "Epoch 34/100\n",
      "\n",
      "Epoch 34: saving model to ../Models\\Age_NN7.hdf5\n",
      "107/107 - 59s - loss: 244.1145 - mae: 11.4700 - mse: 244.1145 - mape: 155.5910 - val_loss: 250.2177 - val_mae: 11.8307 - val_mse: 250.2177 - val_mape: 167.5688 - lr: 0.0012 - 59s/epoch - 554ms/step\n",
      "Epoch 35/100\n",
      "\n",
      "Epoch 35: saving model to ../Models\\Age_NN7.hdf5\n",
      "107/107 - 54s - loss: 243.3828 - mae: 11.4494 - mse: 243.3828 - mape: 152.7113 - val_loss: 249.6025 - val_mae: 11.2036 - val_mse: 249.6025 - val_mape: 132.1215 - lr: 0.0012 - 54s/epoch - 506ms/step\n",
      "Epoch 36/100\n",
      "\n",
      "Epoch 36: saving model to ../Models\\Age_NN7.hdf5\n",
      "107/107 - 55s - loss: 242.3667 - mae: 11.4132 - mse: 242.3667 - mape: 152.6433 - val_loss: 245.4984 - val_mae: 11.6911 - val_mse: 245.4984 - val_mape: 167.6118 - lr: 0.0011 - 55s/epoch - 519ms/step\n",
      "Epoch 37/100\n",
      "\n",
      "Epoch 37: saving model to ../Models\\Age_NN7.hdf5\n",
      "107/107 - 57s - loss: 241.0069 - mae: 11.3802 - mse: 241.0069 - mape: 150.5980 - val_loss: 245.0645 - val_mae: 11.1465 - val_mse: 245.0645 - val_mape: 131.4563 - lr: 0.0011 - 57s/epoch - 532ms/step\n",
      "Epoch 38/100\n",
      "\n",
      "Epoch 38: saving model to ../Models\\Age_NN7.hdf5\n",
      "107/107 - 51s - loss: 239.7290 - mae: 11.3605 - mse: 239.7290 - mape: 150.8425 - val_loss: 248.1142 - val_mae: 11.0582 - val_mse: 248.1142 - val_mape: 119.6814 - lr: 0.0011 - 51s/epoch - 474ms/step\n",
      "Epoch 39/100\n",
      "\n",
      "Epoch 39: saving model to ../Models\\Age_NN7.hdf5\n",
      "107/107 - 53s - loss: 238.7198 - mae: 11.3039 - mse: 238.7198 - mape: 150.0266 - val_loss: 240.0548 - val_mae: 11.3857 - val_mse: 240.0548 - val_mape: 152.7022 - lr: 0.0011 - 53s/epoch - 493ms/step\n",
      "Epoch 40/100\n",
      "\n",
      "Epoch 40: saving model to ../Models\\Age_NN7.hdf5\n",
      "107/107 - 54s - loss: 236.8769 - mae: 11.2725 - mse: 236.8769 - mape: 147.3628 - val_loss: 239.7786 - val_mae: 11.2009 - val_mse: 239.7786 - val_mape: 142.0771 - lr: 0.0010 - 54s/epoch - 506ms/step\n",
      "Epoch 41/100\n",
      "\n",
      "Epoch 41: saving model to ../Models\\Age_NN7.hdf5\n",
      "107/107 - 59s - loss: 235.8255 - mae: 11.2418 - mse: 235.8255 - mape: 146.9246 - val_loss: 240.4264 - val_mae: 11.0434 - val_mse: 240.4264 - val_mape: 126.2972 - lr: 0.0010 - 59s/epoch - 549ms/step\n",
      "Epoch 42/100\n",
      "\n",
      "Epoch 42: saving model to ../Models\\Age_NN7.hdf5\n",
      "107/107 - 53s - loss: 235.0088 - mae: 11.2185 - mse: 235.0088 - mape: 146.3524 - val_loss: 239.2047 - val_mae: 11.4554 - val_mse: 239.2047 - val_mape: 157.1838 - lr: 9.7561e-04 - 53s/epoch - 493ms/step\n",
      "Epoch 43/100\n",
      "\n",
      "Epoch 43: saving model to ../Models\\Age_NN7.hdf5\n",
      "107/107 - 55s - loss: 234.7086 - mae: 11.2212 - mse: 234.7086 - mape: 146.2240 - val_loss: 240.8502 - val_mae: 10.9842 - val_mse: 240.8502 - val_mape: 124.3778 - lr: 9.5238e-04 - 55s/epoch - 511ms/step\n",
      "Epoch 44/100\n",
      "\n",
      "Epoch 44: saving model to ../Models\\Age_NN7.hdf5\n",
      "107/107 - 54s - loss: 232.9508 - mae: 11.1434 - mse: 232.9508 - mape: 144.8578 - val_loss: 236.8114 - val_mae: 11.2811 - val_mse: 236.8114 - val_mape: 149.6619 - lr: 9.3023e-04 - 54s/epoch - 505ms/step\n",
      "Epoch 45/100\n",
      "\n",
      "Epoch 45: saving model to ../Models\\Age_NN7.hdf5\n",
      "107/107 - 56s - loss: 231.2258 - mae: 11.1040 - mse: 231.2258 - mape: 144.1691 - val_loss: 235.7249 - val_mae: 11.0966 - val_mse: 235.7249 - val_mape: 139.2695 - lr: 9.0909e-04 - 56s/epoch - 524ms/step\n",
      "Epoch 46/100\n",
      "\n",
      "Epoch 46: saving model to ../Models\\Age_NN7.hdf5\n",
      "107/107 - 59s - loss: 231.7189 - mae: 11.1405 - mse: 231.7189 - mape: 145.0291 - val_loss: 237.9774 - val_mae: 10.9501 - val_mse: 237.9774 - val_mape: 124.1516 - lr: 8.8889e-04 - 59s/epoch - 553ms/step\n",
      "Epoch 47/100\n",
      "\n",
      "Epoch 47: saving model to ../Models\\Age_NN7.hdf5\n",
      "107/107 - 56s - loss: 229.5380 - mae: 11.0685 - mse: 229.5380 - mape: 142.4087 - val_loss: 235.3395 - val_mae: 10.9360 - val_mse: 235.3395 - val_mape: 127.0093 - lr: 8.6957e-04 - 56s/epoch - 519ms/step\n",
      "Epoch 48/100\n",
      "\n",
      "Epoch 48: saving model to ../Models\\Age_NN7.hdf5\n",
      "107/107 - 57s - loss: 228.1042 - mae: 11.0149 - mse: 228.1042 - mape: 141.9082 - val_loss: 233.4431 - val_mae: 11.1938 - val_mse: 233.4431 - val_mape: 148.3203 - lr: 8.5106e-04 - 57s/epoch - 531ms/step\n",
      "Epoch 49/100\n",
      "\n",
      "Epoch 49: saving model to ../Models\\Age_NN7.hdf5\n",
      "107/107 - 56s - loss: 227.9985 - mae: 11.0224 - mse: 227.9985 - mape: 141.6810 - val_loss: 232.6819 - val_mae: 11.0238 - val_mse: 232.6819 - val_mape: 139.1759 - lr: 8.3333e-04 - 56s/epoch - 524ms/step\n",
      "Epoch 50/100\n",
      "\n",
      "Epoch 50: saving model to ../Models\\Age_NN7.hdf5\n",
      "107/107 - 55s - loss: 226.0762 - mae: 10.9657 - mse: 226.0762 - mape: 140.7190 - val_loss: 232.0084 - val_mae: 11.0583 - val_mse: 232.0084 - val_mape: 143.0315 - lr: 8.1633e-04 - 55s/epoch - 515ms/step\n",
      "Epoch 51/100\n",
      "\n",
      "Epoch 51: saving model to ../Models\\Age_NN7.hdf5\n",
      "107/107 - 54s - loss: 224.3290 - mae: 10.9417 - mse: 224.3290 - mape: 141.4086 - val_loss: 230.8708 - val_mae: 11.1811 - val_mse: 230.8708 - val_mape: 146.7405 - lr: 8.0000e-04 - 54s/epoch - 501ms/step\n",
      "Epoch 52/100\n",
      "\n",
      "Epoch 52: saving model to ../Models\\Age_NN7.hdf5\n",
      "107/107 - 58s - loss: 223.3707 - mae: 10.9157 - mse: 223.3707 - mape: 138.8649 - val_loss: 229.3577 - val_mae: 11.0810 - val_mse: 229.3577 - val_mape: 139.6214 - lr: 7.8431e-04 - 58s/epoch - 541ms/step\n",
      "Epoch 53/100\n",
      "\n",
      "Epoch 53: saving model to ../Models\\Age_NN7.hdf5\n",
      "107/107 - 50s - loss: 220.0916 - mae: 10.8451 - mse: 220.0916 - mape: 138.0192 - val_loss: 232.2233 - val_mae: 10.8224 - val_mse: 232.2233 - val_mape: 122.2285 - lr: 7.6923e-04 - 50s/epoch - 467ms/step\n",
      "Epoch 54/100\n",
      "\n",
      "Epoch 54: saving model to ../Models\\Age_NN7.hdf5\n",
      "107/107 - 50s - loss: 219.4096 - mae: 10.8236 - mse: 219.4096 - mape: 136.4818 - val_loss: 227.8990 - val_mae: 11.1815 - val_mse: 227.8990 - val_mape: 150.0118 - lr: 7.5472e-04 - 50s/epoch - 464ms/step\n",
      "Epoch 55/100\n",
      "\n",
      "Epoch 55: saving model to ../Models\\Age_NN7.hdf5\n",
      "107/107 - 51s - loss: 219.0679 - mae: 10.8425 - mse: 219.0679 - mape: 137.9023 - val_loss: 228.3318 - val_mae: 10.7059 - val_mse: 228.3318 - val_mape: 116.9815 - lr: 7.4074e-04 - 51s/epoch - 474ms/step\n",
      "Epoch 56/100\n",
      "\n",
      "Epoch 56: saving model to ../Models\\Age_NN7.hdf5\n",
      "107/107 - 50s - loss: 214.7305 - mae: 10.7012 - mse: 214.7305 - mape: 134.2758 - val_loss: 223.5454 - val_mae: 10.7865 - val_mse: 223.5454 - val_mape: 128.1973 - lr: 7.2727e-04 - 50s/epoch - 467ms/step\n",
      "Epoch 57/100\n",
      "\n",
      "Epoch 57: saving model to ../Models\\Age_NN7.hdf5\n",
      "107/107 - 51s - loss: 213.7317 - mae: 10.6895 - mse: 213.7317 - mape: 133.0253 - val_loss: 224.8716 - val_mae: 10.6716 - val_mse: 224.8716 - val_mape: 120.6335 - lr: 7.1429e-04 - 51s/epoch - 478ms/step\n",
      "Epoch 58/100\n",
      "\n",
      "Epoch 58: saving model to ../Models\\Age_NN7.hdf5\n",
      "107/107 - 52s - loss: 213.4205 - mae: 10.6911 - mse: 213.4205 - mape: 132.2842 - val_loss: 236.0448 - val_mae: 11.7622 - val_mse: 236.0448 - val_mape: 164.0325 - lr: 7.0175e-04 - 52s/epoch - 484ms/step\n",
      "Epoch 59/100\n",
      "\n",
      "Epoch 59: saving model to ../Models\\Age_NN7.hdf5\n",
      "107/107 - 57s - loss: 211.3486 - mae: 10.6098 - mse: 211.3486 - mape: 131.2720 - val_loss: 221.5865 - val_mae: 10.9462 - val_mse: 221.5865 - val_mape: 140.6076 - lr: 6.8966e-04 - 57s/epoch - 533ms/step\n",
      "Epoch 60/100\n",
      "\n",
      "Epoch 60: saving model to ../Models\\Age_NN7.hdf5\n",
      "107/107 - 51s - loss: 208.7073 - mae: 10.5364 - mse: 208.7073 - mape: 128.6256 - val_loss: 219.1943 - val_mae: 10.8747 - val_mse: 219.1943 - val_mape: 136.1129 - lr: 6.7797e-04 - 51s/epoch - 472ms/step\n",
      "Epoch 61/100\n",
      "\n",
      "Epoch 61: saving model to ../Models\\Age_NN7.hdf5\n",
      "107/107 - 50s - loss: 206.6941 - mae: 10.5023 - mse: 206.6941 - mape: 127.4275 - val_loss: 223.2036 - val_mae: 11.2604 - val_mse: 223.2036 - val_mape: 152.6562 - lr: 6.6667e-04 - 50s/epoch - 466ms/step\n",
      "Epoch 62/100\n",
      "\n",
      "Epoch 62: saving model to ../Models\\Age_NN7.hdf5\n",
      "107/107 - 50s - loss: 207.1373 - mae: 10.4979 - mse: 207.1373 - mape: 127.8390 - val_loss: 220.4784 - val_mae: 11.0751 - val_mse: 220.4784 - val_mape: 141.8878 - lr: 6.5574e-04 - 50s/epoch - 469ms/step\n",
      "Epoch 63/100\n",
      "\n",
      "Epoch 63: saving model to ../Models\\Age_NN7.hdf5\n",
      "107/107 - 51s - loss: 202.7004 - mae: 10.3870 - mse: 202.7004 - mape: 125.3421 - val_loss: 215.0241 - val_mae: 10.5734 - val_mse: 215.0241 - val_mape: 120.8583 - lr: 6.4516e-04 - 51s/epoch - 478ms/step\n",
      "Epoch 64/100\n",
      "\n",
      "Epoch 64: saving model to ../Models\\Age_NN7.hdf5\n",
      "107/107 - 50s - loss: 201.3027 - mae: 10.3257 - mse: 201.3027 - mape: 122.6423 - val_loss: 213.6715 - val_mae: 10.6580 - val_mse: 213.6715 - val_mape: 129.0813 - lr: 6.3492e-04 - 50s/epoch - 466ms/step\n",
      "Epoch 65/100\n",
      "\n",
      "Epoch 65: saving model to ../Models\\Age_NN7.hdf5\n",
      "107/107 - 51s - loss: 200.5817 - mae: 10.3085 - mse: 200.5817 - mape: 121.8324 - val_loss: 215.1993 - val_mae: 10.8576 - val_mse: 215.1993 - val_mape: 135.9526 - lr: 6.2500e-04 - 51s/epoch - 474ms/step\n",
      "Epoch 66/100\n",
      "\n",
      "Epoch 66: saving model to ../Models\\Age_NN7.hdf5\n",
      "107/107 - 50s - loss: 200.2787 - mae: 10.3191 - mse: 200.2787 - mape: 122.3313 - val_loss: 211.7377 - val_mae: 10.4831 - val_mse: 211.7377 - val_mape: 121.9393 - lr: 6.1538e-04 - 50s/epoch - 471ms/step\n",
      "Epoch 67/100\n",
      "\n",
      "Epoch 67: saving model to ../Models\\Age_NN7.hdf5\n",
      "107/107 - 51s - loss: 198.9270 - mae: 10.2772 - mse: 198.9270 - mape: 120.3657 - val_loss: 213.7723 - val_mae: 10.3149 - val_mse: 213.7723 - val_mape: 109.1852 - lr: 6.0606e-04 - 51s/epoch - 475ms/step\n",
      "Epoch 68/100\n",
      "\n",
      "Epoch 68: saving model to ../Models\\Age_NN7.hdf5\n",
      "107/107 - 50s - loss: 196.1815 - mae: 10.1986 - mse: 196.1815 - mape: 120.1091 - val_loss: 210.4234 - val_mae: 10.3556 - val_mse: 210.4234 - val_mape: 114.1292 - lr: 5.9702e-04 - 50s/epoch - 467ms/step\n",
      "Epoch 69/100\n",
      "\n",
      "Epoch 69: saving model to ../Models\\Age_NN7.hdf5\n",
      "107/107 - 50s - loss: 195.3393 - mae: 10.1706 - mse: 195.3393 - mape: 117.5720 - val_loss: 209.9551 - val_mae: 10.3005 - val_mse: 209.9551 - val_mape: 112.0197 - lr: 5.8824e-04 - 50s/epoch - 468ms/step\n",
      "Epoch 70/100\n",
      "\n",
      "Epoch 70: saving model to ../Models\\Age_NN7.hdf5\n",
      "107/107 - 50s - loss: 192.6509 - mae: 10.0974 - mse: 192.6509 - mape: 116.9719 - val_loss: 209.0271 - val_mae: 10.5206 - val_mse: 209.0271 - val_mape: 125.0163 - lr: 5.7971e-04 - 50s/epoch - 466ms/step\n",
      "Epoch 71/100\n",
      "\n",
      "Epoch 71: saving model to ../Models\\Age_NN7.hdf5\n",
      "107/107 - 53s - loss: 192.0302 - mae: 10.0766 - mse: 192.0302 - mape: 115.7737 - val_loss: 213.3254 - val_mae: 10.8776 - val_mse: 213.3254 - val_mape: 135.8687 - lr: 5.7143e-04 - 53s/epoch - 492ms/step\n",
      "Epoch 72/100\n",
      "\n",
      "Epoch 72: saving model to ../Models\\Age_NN7.hdf5\n",
      "107/107 - 49s - loss: 191.7339 - mae: 10.0616 - mse: 191.7339 - mape: 116.1318 - val_loss: 208.4819 - val_mae: 10.2699 - val_mse: 208.4819 - val_mape: 108.1273 - lr: 5.6338e-04 - 49s/epoch - 460ms/step\n",
      "Epoch 73/100\n",
      "\n",
      "Epoch 73: saving model to ../Models\\Age_NN7.hdf5\n",
      "107/107 - 49s - loss: 189.2288 - mae: 10.0005 - mse: 189.2288 - mape: 113.9341 - val_loss: 207.5684 - val_mae: 10.4830 - val_mse: 207.5684 - val_mape: 123.9991 - lr: 5.5556e-04 - 49s/epoch - 458ms/step\n",
      "Epoch 74/100\n",
      "\n",
      "Epoch 74: saving model to ../Models\\Age_NN7.hdf5\n",
      "107/107 - 49s - loss: 188.3855 - mae: 9.9786 - mse: 188.3855 - mape: 113.9319 - val_loss: 205.5324 - val_mae: 10.2828 - val_mse: 205.5324 - val_mape: 114.2693 - lr: 5.4795e-04 - 49s/epoch - 460ms/step\n",
      "Epoch 75/100\n",
      "\n",
      "Epoch 75: saving model to ../Models\\Age_NN7.hdf5\n",
      "107/107 - 49s - loss: 187.5283 - mae: 9.9491 - mse: 187.5283 - mape: 112.6876 - val_loss: 208.1031 - val_mae: 10.6259 - val_mse: 208.1031 - val_mape: 127.4075 - lr: 5.4054e-04 - 49s/epoch - 458ms/step\n",
      "Epoch 76/100\n",
      "\n",
      "Epoch 76: saving model to ../Models\\Age_NN7.hdf5\n",
      "107/107 - 49s - loss: 186.5694 - mae: 9.9274 - mse: 186.5694 - mape: 112.7311 - val_loss: 203.8116 - val_mae: 10.1689 - val_mse: 203.8116 - val_mape: 111.2037 - lr: 5.3333e-04 - 49s/epoch - 457ms/step\n",
      "Epoch 77/100\n",
      "\n",
      "Epoch 77: saving model to ../Models\\Age_NN7.hdf5\n",
      "107/107 - 49s - loss: 184.8785 - mae: 9.8775 - mse: 184.8785 - mape: 111.6436 - val_loss: 205.5478 - val_mae: 10.1636 - val_mse: 205.5478 - val_mape: 105.1151 - lr: 5.2632e-04 - 49s/epoch - 458ms/step\n",
      "Epoch 78/100\n",
      "\n",
      "Epoch 78: saving model to ../Models\\Age_NN7.hdf5\n",
      "107/107 - 49s - loss: 183.4930 - mae: 9.8373 - mse: 183.4930 - mape: 111.6918 - val_loss: 204.3344 - val_mae: 10.0537 - val_mse: 204.3344 - val_mape: 103.5026 - lr: 5.1948e-04 - 49s/epoch - 458ms/step\n",
      "Epoch 79/100\n",
      "\n",
      "Epoch 79: saving model to ../Models\\Age_NN7.hdf5\n",
      "107/107 - 55s - loss: 182.7933 - mae: 9.8277 - mse: 182.7933 - mape: 110.8059 - val_loss: 203.0358 - val_mae: 10.0901 - val_mse: 203.0358 - val_mape: 104.9303 - lr: 5.1282e-04 - 55s/epoch - 519ms/step\n",
      "Epoch 80/100\n",
      "\n",
      "Epoch 80: saving model to ../Models\\Age_NN7.hdf5\n",
      "107/107 - 63s - loss: 181.2210 - mae: 9.7710 - mse: 181.2210 - mape: 108.3752 - val_loss: 201.6266 - val_mae: 10.1143 - val_mse: 201.6266 - val_mape: 110.2161 - lr: 5.0633e-04 - 63s/epoch - 586ms/step\n",
      "Epoch 81/100\n",
      "\n",
      "Epoch 81: saving model to ../Models\\Age_NN7.hdf5\n",
      "107/107 - 63s - loss: 179.7958 - mae: 9.7355 - mse: 179.7958 - mape: 108.6992 - val_loss: 206.4927 - val_mae: 9.9681 - val_mse: 206.4927 - val_mape: 96.3308 - lr: 5.0000e-04 - 63s/epoch - 591ms/step\n",
      "Epoch 82/100\n",
      "\n",
      "Epoch 82: saving model to ../Models\\Age_NN7.hdf5\n",
      "107/107 - 62s - loss: 179.0574 - mae: 9.7196 - mse: 179.0574 - mape: 109.0775 - val_loss: 200.4585 - val_mae: 10.0706 - val_mse: 200.4585 - val_mape: 107.3868 - lr: 4.9383e-04 - 62s/epoch - 577ms/step\n",
      "Epoch 83/100\n",
      "\n",
      "Epoch 83: saving model to ../Models\\Age_NN7.hdf5\n",
      "107/107 - 64s - loss: 177.5756 - mae: 9.6686 - mse: 177.5756 - mape: 106.6114 - val_loss: 203.1425 - val_mae: 10.4595 - val_mse: 203.1425 - val_mape: 124.6478 - lr: 4.8780e-04 - 64s/epoch - 599ms/step\n",
      "Epoch 84/100\n",
      "\n",
      "Epoch 84: saving model to ../Models\\Age_NN7.hdf5\n",
      "107/107 - 62s - loss: 177.4120 - mae: 9.6859 - mse: 177.4120 - mape: 107.5674 - val_loss: 199.5967 - val_mae: 10.0458 - val_mse: 199.5967 - val_mape: 108.9523 - lr: 4.8193e-04 - 62s/epoch - 579ms/step\n",
      "Epoch 85/100\n",
      "\n",
      "Epoch 85: saving model to ../Models\\Age_NN7.hdf5\n",
      "107/107 - 66s - loss: 175.7767 - mae: 9.6171 - mse: 175.7767 - mape: 106.1232 - val_loss: 198.6364 - val_mae: 9.9949 - val_mse: 198.6364 - val_mape: 107.4206 - lr: 4.7619e-04 - 66s/epoch - 621ms/step\n",
      "Epoch 86/100\n",
      "\n",
      "Epoch 86: saving model to ../Models\\Age_NN7.hdf5\n",
      "107/107 - 74s - loss: 174.5772 - mae: 9.5811 - mse: 174.5772 - mape: 106.0000 - val_loss: 200.8064 - val_mae: 9.9877 - val_mse: 200.8064 - val_mape: 100.7420 - lr: 4.7059e-04 - 74s/epoch - 694ms/step\n",
      "Epoch 87/100\n",
      "\n",
      "Epoch 87: saving model to ../Models\\Age_NN7.hdf5\n",
      "107/107 - 64s - loss: 173.1205 - mae: 9.5505 - mse: 173.1205 - mape: 105.3090 - val_loss: 198.7957 - val_mae: 10.1235 - val_mse: 198.7957 - val_mape: 110.9936 - lr: 4.6512e-04 - 64s/epoch - 602ms/step\n",
      "Epoch 88/100\n",
      "\n",
      "Epoch 88: saving model to ../Models\\Age_NN7.hdf5\n",
      "107/107 - 57s - loss: 172.3869 - mae: 9.5142 - mse: 172.3869 - mape: 104.2359 - val_loss: 205.4319 - val_mae: 9.8777 - val_mse: 205.4319 - val_mape: 92.1201 - lr: 4.5977e-04 - 57s/epoch - 536ms/step\n",
      "Epoch 89/100\n",
      "\n",
      "Epoch 89: saving model to ../Models\\Age_NN7.hdf5\n",
      "107/107 - 56s - loss: 171.5549 - mae: 9.4969 - mse: 171.5549 - mape: 104.5546 - val_loss: 198.5274 - val_mae: 10.1606 - val_mse: 198.5274 - val_mape: 112.6272 - lr: 4.5455e-04 - 56s/epoch - 526ms/step\n",
      "Epoch 90/100\n",
      "\n",
      "Epoch 90: saving model to ../Models\\Age_NN7.hdf5\n",
      "107/107 - 59s - loss: 170.3879 - mae: 9.4537 - mse: 170.3879 - mape: 102.3789 - val_loss: 196.5123 - val_mae: 9.9183 - val_mse: 196.5123 - val_mape: 106.2747 - lr: 4.4944e-04 - 59s/epoch - 547ms/step\n",
      "Epoch 91/100\n",
      "\n",
      "Epoch 91: saving model to ../Models\\Age_NN7.hdf5\n",
      "107/107 - 58s - loss: 171.1510 - mae: 9.5288 - mse: 171.1510 - mape: 105.1003 - val_loss: 197.5000 - val_mae: 9.9424 - val_mse: 197.5000 - val_mape: 101.6669 - lr: 4.4444e-04 - 58s/epoch - 539ms/step\n",
      "Epoch 92/100\n",
      "\n",
      "Epoch 92: saving model to ../Models\\Age_NN7.hdf5\n",
      "107/107 - 68s - loss: 168.6603 - mae: 9.4130 - mse: 168.6603 - mape: 101.8611 - val_loss: 196.6563 - val_mae: 10.1208 - val_mse: 196.6563 - val_mape: 113.0077 - lr: 4.3956e-04 - 68s/epoch - 636ms/step\n",
      "Epoch 93/100\n",
      "\n",
      "Epoch 93: saving model to ../Models\\Age_NN7.hdf5\n",
      "107/107 - 54s - loss: 168.1879 - mae: 9.4034 - mse: 168.1879 - mape: 102.3978 - val_loss: 199.9731 - val_mae: 10.3878 - val_mse: 199.9731 - val_mape: 122.2083 - lr: 4.3478e-04 - 54s/epoch - 508ms/step\n",
      "Epoch 94/100\n",
      "\n",
      "Epoch 94: saving model to ../Models\\Age_NN7.hdf5\n",
      "107/107 - 63s - loss: 167.5978 - mae: 9.3961 - mse: 167.5978 - mape: 101.7123 - val_loss: 195.4619 - val_mae: 9.8748 - val_mse: 195.4619 - val_mape: 103.6808 - lr: 4.3011e-04 - 63s/epoch - 588ms/step\n",
      "Epoch 95/100\n",
      "\n",
      "Epoch 95: saving model to ../Models\\Age_NN7.hdf5\n",
      "107/107 - 60s - loss: 165.6154 - mae: 9.3261 - mse: 165.6154 - mape: 102.4000 - val_loss: 193.8208 - val_mae: 9.9466 - val_mse: 193.8208 - val_mape: 107.7887 - lr: 4.2553e-04 - 60s/epoch - 560ms/step\n",
      "Epoch 96/100\n",
      "\n",
      "Epoch 96: saving model to ../Models\\Age_NN7.hdf5\n",
      "107/107 - 60s - loss: 164.8921 - mae: 9.3084 - mse: 164.8921 - mape: 101.0264 - val_loss: 197.7004 - val_mae: 9.7720 - val_mse: 197.7004 - val_mape: 93.8909 - lr: 4.2105e-04 - 60s/epoch - 557ms/step\n",
      "Epoch 97/100\n",
      "\n",
      "Epoch 97: saving model to ../Models\\Age_NN7.hdf5\n",
      "107/107 - 67s - loss: 163.7947 - mae: 9.2706 - mse: 163.7947 - mape: 100.4390 - val_loss: 194.5541 - val_mae: 9.8383 - val_mse: 194.5541 - val_mape: 100.3601 - lr: 4.1667e-04 - 67s/epoch - 622ms/step\n",
      "Epoch 98/100\n",
      "\n",
      "Epoch 98: saving model to ../Models\\Age_NN7.hdf5\n",
      "107/107 - 50s - loss: 162.4639 - mae: 9.2360 - mse: 162.4639 - mape: 99.9229 - val_loss: 194.5004 - val_mae: 9.7410 - val_mse: 194.5004 - val_mape: 97.6877 - lr: 4.1237e-04 - 50s/epoch - 470ms/step\n",
      "Epoch 99/100\n",
      "\n",
      "Epoch 99: saving model to ../Models\\Age_NN7.hdf5\n",
      "107/107 - 50s - loss: 161.7587 - mae: 9.2091 - mse: 161.7587 - mape: 99.6586 - val_loss: 196.0929 - val_mae: 10.1998 - val_mse: 196.0929 - val_mape: 117.7370 - lr: 4.0816e-04 - 50s/epoch - 471ms/step\n",
      "Epoch 100/100\n",
      "\n",
      "Epoch 100: saving model to ../Models\\Age_NN7.hdf5\n",
      "107/107 - 50s - loss: 161.4980 - mae: 9.2106 - mse: 161.4980 - mape: 99.4578 - val_loss: 197.0290 - val_mae: 10.2579 - val_mse: 197.0290 - val_mape: 118.7845 - lr: 4.0404e-04 - 50s/epoch - 469ms/step\n"
     ]
    }
   ],
   "source": [
    "history = model_age.fit(\n",
    "    X_train_images, y_train_age,\n",
    "    epochs=100,\n",
    "    validation_data = (X_test_images, y_test_age),\n",
    "    batch_size=128,\n",
    "    verbose=2,\n",
    "    callbacks=[early_stop, checkpoint, schedule]\n",
    ")"
   ]
  },
  {
   "cell_type": "markdown",
   "id": "bfef71a1-57e7-411e-bada-157261d54d27",
   "metadata": {},
   "source": [
    "### Predictions"
   ]
  },
  {
   "cell_type": "code",
   "execution_count": 20,
   "id": "4f819187-4ca0-40b1-a310-15e197db2fad",
   "metadata": {},
   "outputs": [
    {
     "name": "stdout",
     "output_type": "stream",
     "text": [
      "426/426 [==============================] - 13s 31ms/step\n",
      "120/120 [==============================] - 4s 30ms/step\n"
     ]
    },
    {
     "data": {
      "text/plain": [
       "9.547633582426718"
      ]
     },
     "metadata": {},
     "output_type": "display_data"
    },
    {
     "data": {
      "text/plain": [
       "10.257937909166019"
      ]
     },
     "metadata": {},
     "output_type": "display_data"
    }
   ],
   "source": [
    "y_train_pred = model_age.predict(X_train_images)\n",
    "y_test_pred  = model_age.predict(X_test_images)\n",
    "\n",
    "display(mean_absolute_error(y_train_age,y_train_pred))\n",
    "display(mean_absolute_error(y_test_age,y_test_pred))"
   ]
  },
  {
   "cell_type": "markdown",
   "id": "2dea186d-0cae-4943-8520-b3146672ed21",
   "metadata": {
    "tags": []
   },
   "source": [
    "## Gender"
   ]
  },
  {
   "cell_type": "code",
   "execution_count": 21,
   "id": "3935bd8a-252e-40bc-84fb-0f1c1e9e3b13",
   "metadata": {},
   "outputs": [
    {
     "name": "stdout",
     "output_type": "stream",
     "text": [
      "Model: \"sequential_1\"\n",
      "_________________________________________________________________\n",
      " Layer (type)                Output Shape              Param #   \n",
      "=================================================================\n",
      " conv2d_3 (Conv2D)           (None, 63, 63, 64)        320       \n",
      "                                                                 \n",
      " max_pooling2d_3 (MaxPooling  (None, 31, 31, 64)       0         \n",
      " 2D)                                                             \n",
      "                                                                 \n",
      " conv2d_4 (Conv2D)           (None, 30, 30, 64)        16448     \n",
      "                                                                 \n",
      " max_pooling2d_4 (MaxPooling  (None, 15, 15, 64)       0         \n",
      " 2D)                                                             \n",
      "                                                                 \n",
      " conv2d_5 (Conv2D)           (None, 14, 14, 64)        16448     \n",
      "                                                                 \n",
      " max_pooling2d_5 (MaxPooling  (None, 7, 7, 64)         0         \n",
      " 2D)                                                             \n",
      "                                                                 \n",
      " flatten_1 (Flatten)         (None, 3136)              0         \n",
      "                                                                 \n",
      " dense_2 (Dense)             (None, 64)                200768    \n",
      "                                                                 \n",
      " dense_3 (Dense)             (None, 1)                 65        \n",
      "                                                                 \n",
      "=================================================================\n",
      "Total params: 234,049\n",
      "Trainable params: 234,049\n",
      "Non-trainable params: 0\n",
      "_________________________________________________________________\n"
     ]
    }
   ],
   "source": [
    "model_gender = Sequential()\n",
    "# First layer needs as many nodes as inputs\n",
    "model_gender.add(Conv2D(64,(2,2), activation = \"relu\", input_shape = (64,64,1)))\n",
    "model_gender.add(MaxPool2D((2,2)))\n",
    "model_gender.add(Conv2D(64,(2,2), activation = \"relu\"))\n",
    "model_gender.add(MaxPool2D((2,2)))\n",
    "model_gender.add(Conv2D(64,(2,2), activation = \"relu\"))\n",
    "model_gender.add(MaxPool2D((2,2)))\n",
    "model_gender.add(Flatten())\n",
    "model_gender.add(Dense(64, activation = \"relu\"))\n",
    "model_gender.add(Dense(1, activation = \"sigmoid\"))\n",
    "model_gender.compile(optimizer = \"adam\",\n",
    "              loss = \"binary_crossentropy\",\n",
    "              metrics = \"accuracy\")\n",
    "model_gender.summary()"
   ]
  },
  {
   "cell_type": "markdown",
   "id": "815b70d4-57e5-414c-8a40-18e2a2b852fa",
   "metadata": {},
   "source": [
    "### Callbacks"
   ]
  },
  {
   "cell_type": "code",
   "execution_count": 22,
   "id": "9d86da9f-df37-42e5-936c-746c48c855d7",
   "metadata": {},
   "outputs": [],
   "source": [
    "early_stop = EarlyStopping(patience=5)\n",
    "\n",
    "checkpoint_path = '../Models/Gender_NN17.hdf5'\n",
    "checkpoint = ModelCheckpoint(\n",
    "    filepath=checkpoint_path,\n",
    "    save_freq='epoch',\n",
    "    save_weights_only=False,\n",
    "    verbose=1\n",
    ")\n",
    "\n",
    "schedule = tf.keras.callbacks.LearningRateScheduler(scheduler)"
   ]
  },
  {
   "cell_type": "code",
   "execution_count": 23,
   "id": "a3590e5d-fe2a-4cfa-a93d-30ae5d746613",
   "metadata": {},
   "outputs": [
    {
     "name": "stdout",
     "output_type": "stream",
     "text": [
      "Epoch 1/50\n",
      "\n",
      "Epoch 1: saving model to ../Models\\Gender_NN17.hdf5\n",
      "107/107 - 54s - loss: 0.6269 - accuracy: 0.6352 - val_loss: 0.5803 - val_accuracy: 0.6917 - lr: 0.0010 - 54s/epoch - 503ms/step\n",
      "Epoch 2/50\n",
      "\n",
      "Epoch 2: saving model to ../Models\\Gender_NN17.hdf5\n",
      "107/107 - 53s - loss: 0.5301 - accuracy: 0.7308 - val_loss: 0.5370 - val_accuracy: 0.7260 - lr: 0.0010 - 53s/epoch - 493ms/step\n",
      "Epoch 3/50\n",
      "\n",
      "Epoch 3: saving model to ../Models\\Gender_NN17.hdf5\n",
      "107/107 - 60s - loss: 0.4796 - accuracy: 0.7645 - val_loss: 0.5071 - val_accuracy: 0.7422 - lr: 0.0010 - 60s/epoch - 563ms/step\n",
      "Epoch 4/50\n",
      "\n",
      "Epoch 4: saving model to ../Models\\Gender_NN17.hdf5\n",
      "107/107 - 59s - loss: 0.4384 - accuracy: 0.7929 - val_loss: 0.4728 - val_accuracy: 0.7750 - lr: 0.0010 - 59s/epoch - 551ms/step\n",
      "Epoch 5/50\n",
      "\n",
      "Epoch 5: saving model to ../Models\\Gender_NN17.hdf5\n",
      "107/107 - 54s - loss: 0.4007 - accuracy: 0.8152 - val_loss: 0.4986 - val_accuracy: 0.7576 - lr: 0.0010 - 54s/epoch - 500ms/step\n",
      "Epoch 6/50\n",
      "\n",
      "Epoch 6: saving model to ../Models\\Gender_NN17.hdf5\n",
      "107/107 - 55s - loss: 0.3734 - accuracy: 0.8272 - val_loss: 0.4158 - val_accuracy: 0.8052 - lr: 8.0000e-04 - 55s/epoch - 511ms/step\n",
      "Epoch 7/50\n",
      "\n",
      "Epoch 7: saving model to ../Models\\Gender_NN17.hdf5\n",
      "107/107 - 57s - loss: 0.3375 - accuracy: 0.8483 - val_loss: 0.3950 - val_accuracy: 0.8174 - lr: 6.6667e-04 - 57s/epoch - 537ms/step\n",
      "Epoch 8/50\n",
      "\n",
      "Epoch 8: saving model to ../Models\\Gender_NN17.hdf5\n",
      "107/107 - 55s - loss: 0.3183 - accuracy: 0.8606 - val_loss: 0.3890 - val_accuracy: 0.8253 - lr: 5.7143e-04 - 55s/epoch - 510ms/step\n",
      "Epoch 9/50\n",
      "\n",
      "Epoch 9: saving model to ../Models\\Gender_NN17.hdf5\n",
      "107/107 - 56s - loss: 0.2953 - accuracy: 0.8745 - val_loss: 0.3851 - val_accuracy: 0.8253 - lr: 5.0000e-04 - 56s/epoch - 526ms/step\n",
      "Epoch 10/50\n",
      "\n",
      "Epoch 10: saving model to ../Models\\Gender_NN17.hdf5\n",
      "107/107 - 59s - loss: 0.2755 - accuracy: 0.8822 - val_loss: 0.3761 - val_accuracy: 0.8346 - lr: 4.4444e-04 - 59s/epoch - 548ms/step\n",
      "Epoch 11/50\n",
      "\n",
      "Epoch 11: saving model to ../Models\\Gender_NN17.hdf5\n",
      "107/107 - 57s - loss: 0.2577 - accuracy: 0.8927 - val_loss: 0.3755 - val_accuracy: 0.8362 - lr: 4.0000e-04 - 57s/epoch - 529ms/step\n",
      "Epoch 12/50\n",
      "\n",
      "Epoch 12: saving model to ../Models\\Gender_NN17.hdf5\n",
      "107/107 - 61s - loss: 0.2393 - accuracy: 0.9035 - val_loss: 0.3768 - val_accuracy: 0.8419 - lr: 3.6364e-04 - 61s/epoch - 573ms/step\n",
      "Epoch 13/50\n",
      "\n",
      "Epoch 13: saving model to ../Models\\Gender_NN17.hdf5\n",
      "107/107 - 60s - loss: 0.2273 - accuracy: 0.9060 - val_loss: 0.3862 - val_accuracy: 0.8375 - lr: 3.3333e-04 - 60s/epoch - 564ms/step\n",
      "Epoch 14/50\n",
      "\n",
      "Epoch 14: saving model to ../Models\\Gender_NN17.hdf5\n",
      "107/107 - 54s - loss: 0.2154 - accuracy: 0.9140 - val_loss: 0.3809 - val_accuracy: 0.8417 - lr: 3.0769e-04 - 54s/epoch - 506ms/step\n",
      "Epoch 15/50\n",
      "\n",
      "Epoch 15: saving model to ../Models\\Gender_NN17.hdf5\n",
      "107/107 - 54s - loss: 0.2051 - accuracy: 0.9184 - val_loss: 0.4237 - val_accuracy: 0.8245 - lr: 2.8571e-04 - 54s/epoch - 507ms/step\n",
      "Epoch 16/50\n",
      "\n",
      "Epoch 16: saving model to ../Models\\Gender_NN17.hdf5\n",
      "107/107 - 53s - loss: 0.1926 - accuracy: 0.9241 - val_loss: 0.3848 - val_accuracy: 0.8458 - lr: 2.6667e-04 - 53s/epoch - 495ms/step\n"
     ]
    }
   ],
   "source": [
    "history = model_gender.fit(\n",
    "    X_train_images, y_train_gender,\n",
    "    epochs=50,\n",
    "    validation_data = (X_test_images, y_test_gender),\n",
    "    batch_size=128,\n",
    "    verbose=2,\n",
    "    callbacks=[early_stop, checkpoint, schedule]\n",
    ")"
   ]
  },
  {
   "cell_type": "markdown",
   "id": "557ad717-bef0-4bd5-8506-2f431687bd32",
   "metadata": {},
   "source": [
    "### Predictions"
   ]
  },
  {
   "cell_type": "code",
   "execution_count": 24,
   "id": "2c4afb48-7247-42af-b9b5-a181511d5d79",
   "metadata": {},
   "outputs": [
    {
     "name": "stdout",
     "output_type": "stream",
     "text": [
      "426/426 [==============================] - 13s 29ms/step\n",
      "120/120 [==============================] - 3s 28ms/step\n",
      "Kappa score: 0.8644258304484084\n",
      "              precision    recall  f1-score   support\n",
      "\n",
      "           0       0.95      0.92      0.94      7317\n",
      "           1       0.91      0.95      0.93      6295\n",
      "\n",
      "    accuracy                           0.93     13612\n",
      "   macro avg       0.93      0.93      0.93     13612\n",
      "weighted avg       0.93      0.93      0.93     13612\n",
      "\n",
      "Kappa score: 0.6917381629423514\n",
      "              precision    recall  f1-score   support\n",
      "\n",
      "           0       0.87      0.83      0.85      2015\n",
      "           1       0.82      0.87      0.84      1825\n",
      "\n",
      "    accuracy                           0.85      3840\n",
      "   macro avg       0.85      0.85      0.85      3840\n",
      "weighted avg       0.85      0.85      0.85      3840\n",
      "\n",
      "1/1 [==============================] - 0s 30ms/step\n"
     ]
    },
    {
     "data": {
      "text/plain": [
       "array([[0.08714797]], dtype=float32)"
      ]
     },
     "metadata": {},
     "output_type": "display_data"
    },
    {
     "name": "stdout",
     "output_type": "stream",
     "text": [
      "1/1 [==============================] - 0s 23ms/step\n"
     ]
    },
    {
     "data": {
      "text/plain": [
       "array([[0.46664947]], dtype=float32)"
      ]
     },
     "metadata": {},
     "output_type": "display_data"
    },
    {
     "name": "stdout",
     "output_type": "stream",
     "text": [
      "1/1 [==============================] - 0s 24ms/step\n"
     ]
    },
    {
     "data": {
      "text/plain": [
       "array([[0.7260104]], dtype=float32)"
      ]
     },
     "metadata": {},
     "output_type": "display_data"
    },
    {
     "name": "stdout",
     "output_type": "stream",
     "text": [
      "1/1 [==============================] - 0s 24ms/step\n"
     ]
    },
    {
     "data": {
      "text/plain": [
       "array([[0.1690999]], dtype=float32)"
      ]
     },
     "metadata": {},
     "output_type": "display_data"
    },
    {
     "name": "stdout",
     "output_type": "stream",
     "text": [
      "1/1 [==============================] - 0s 23ms/step\n"
     ]
    },
    {
     "data": {
      "text/plain": [
       "array([[0.8954597]], dtype=float32)"
      ]
     },
     "metadata": {},
     "output_type": "display_data"
    },
    {
     "name": "stdout",
     "output_type": "stream",
     "text": [
      "1/1 [==============================] - 0s 24ms/step\n"
     ]
    },
    {
     "data": {
      "text/plain": [
       "array([[0.00138267]], dtype=float32)"
      ]
     },
     "metadata": {},
     "output_type": "display_data"
    },
    {
     "name": "stdout",
     "output_type": "stream",
     "text": [
      "1/1 [==============================] - 0s 24ms/step\n"
     ]
    },
    {
     "data": {
      "text/plain": [
       "array([[0.00032523]], dtype=float32)"
      ]
     },
     "metadata": {},
     "output_type": "display_data"
    },
    {
     "name": "stdout",
     "output_type": "stream",
     "text": [
      "1/1 [==============================] - 0s 24ms/step\n"
     ]
    },
    {
     "data": {
      "text/plain": [
       "array([[0.01838342]], dtype=float32)"
      ]
     },
     "metadata": {},
     "output_type": "display_data"
    },
    {
     "name": "stdout",
     "output_type": "stream",
     "text": [
      "1/1 [==============================] - 0s 22ms/step\n"
     ]
    },
    {
     "data": {
      "text/plain": [
       "array([[0.7786135]], dtype=float32)"
      ]
     },
     "metadata": {},
     "output_type": "display_data"
    },
    {
     "name": "stdout",
     "output_type": "stream",
     "text": [
      "1/1 [==============================] - 0s 23ms/step\n"
     ]
    },
    {
     "data": {
      "text/plain": [
       "array([[0.7611312]], dtype=float32)"
      ]
     },
     "metadata": {},
     "output_type": "display_data"
    },
    {
     "name": "stdout",
     "output_type": "stream",
     "text": [
      "1/1 [==============================] - 0s 23ms/step\n"
     ]
    },
    {
     "data": {
      "text/plain": [
       "array([[0.9443798]], dtype=float32)"
      ]
     },
     "metadata": {},
     "output_type": "display_data"
    },
    {
     "name": "stdout",
     "output_type": "stream",
     "text": [
      "1/1 [==============================] - 0s 23ms/step\n"
     ]
    },
    {
     "data": {
      "text/plain": [
       "array([[0.57721555]], dtype=float32)"
      ]
     },
     "metadata": {},
     "output_type": "display_data"
    }
   ],
   "source": [
    "y_train_pred = model_gender.predict(X_train_images)\n",
    "y_test_pred  = model_gender.predict(X_test_images)\n",
    "\n",
    "\n",
    "# This is for binary_crossentropy (1 neuron final output)\n",
    "y_train_pred2 = [int(round(y_train_pred[x][0],0)) for x in range(len(y_train_pred))]\n",
    "y_test_pred2 = [int(round(y_test_pred[x][0],0)) for x in range(len(y_test_pred))]\n",
    "\n",
    "\n",
    "# This is for sparse_categorical_crossestropy (2 neurons final output)\n",
    "# y_train_pred2 = np.argmax(y_train_pred, axis=1).reshape(-1,1)\n",
    "# y_test_pred2 = np.argmax(y_test_pred, axis=1).reshape(-1,1)\n",
    "\n",
    "print(\"Kappa score:\",cohen_kappa_score(y_train_gender, y_train_pred2))\n",
    "print(classification_report(y_train_gender, y_train_pred2, zero_division = True))\n",
    "print(\"Kappa score:\",cohen_kappa_score(y_test_gender, y_test_pred2))\n",
    "print(classification_report(y_test_gender, y_test_pred2, zero_division = True))\n",
    "\n",
    "\n",
    "display(model_gender.predict(np.array([image_preprocess(\"../Data/Test/20Female.jpg\")])))\n",
    "display(model_gender.predict(np.array([image_preprocess(\"../Data/Test/25Female1.jpg\")])))\n",
    "display(model_gender.predict(np.array([image_preprocess(\"../Data/Test/25Female2.jpg\")])))\n",
    "display(model_gender.predict(np.array([image_preprocess(\"../Data/Test/50Female1.jpg\")])))\n",
    "display(model_gender.predict(np.array([image_preprocess(\"../Data/Test/50Female2.jpg\")])))\n",
    "display(model_gender.predict(np.array([image_preprocess(\"../Data/Test/50Female3.jpg\")])))\n",
    "display(model_gender.predict(np.array([image_preprocess(\"../Data/Test/50Female4.jpg\")])))\n",
    "\n",
    "display(model_gender.predict(np.array([image_preprocess(\"../Data/Test/30Male1.jpg\")])))\n",
    "display(model_gender.predict(np.array([image_preprocess(\"../Data/Test/30Male2.jpg\")])))\n",
    "display(model_gender.predict(np.array([image_preprocess(\"../Data/Test/30Male3.jpg\")])))\n",
    "display(model_gender.predict(np.array([image_preprocess(\"../Data/Test/40Male.jpg\")])))\n",
    "display(model_gender.predict(np.array([image_preprocess(\"../Data/Test/50Male.jpg\")])))"
   ]
  },
  {
   "cell_type": "markdown",
   "id": "1bb4ce2f-4bf1-4162-adc8-fb23e579d3f8",
   "metadata": {
    "tags": []
   },
   "source": [
    "## Data Augmentation"
   ]
  },
  {
   "cell_type": "code",
   "execution_count": 25,
   "id": "8bf42643-f704-4df0-8713-5191bdadcbc7",
   "metadata": {},
   "outputs": [],
   "source": [
    "model_age = load_model(\"../Models/Age_NN3.hdf5\")\n",
    "model_gender = load_model(\"../Models/Gender_NN3.hdf5\")"
   ]
  },
  {
   "cell_type": "code",
   "execution_count": 26,
   "id": "10bacc0a-dde1-412c-a154-27cdcd1d9214",
   "metadata": {
    "tags": []
   },
   "outputs": [],
   "source": [
    "data_augmentation = tf.keras.Sequential([\n",
    "    tf.keras.layers.RandomFlip(\"horizontal_and_vertical\"),\n",
    "    tf.keras.layers.RandomRotation(0.2)\n",
    "])"
   ]
  },
  {
   "cell_type": "code",
   "execution_count": 28,
   "id": "8cf7b3b7-47b3-441c-ad62-d4179e5936ba",
   "metadata": {
    "tags": []
   },
   "outputs": [],
   "source": [
    "images = []\n",
    "image1 = image_preprocess(\"../Data/Test/25Female1.jpg\")\n",
    "images.append(np.array([image1]))\n",
    "i = 0\n",
    "while i < 9:\n",
    "    image = image_preprocess(\"../Data/Test/25Female1.jpg\")\n",
    "    image = tf.cast(tf.expand_dims(image, 0), tf.float32)\n",
    "    image = data_augmentation(image)\n",
    "    images.append(image)\n",
    "    i = i+1"
   ]
  },
  {
   "cell_type": "code",
   "execution_count": 29,
   "id": "8cfd31ca-080d-4ba8-8d92-496380acf5c7",
   "metadata": {
    "tags": []
   },
   "outputs": [
    {
     "name": "stdout",
     "output_type": "stream",
     "text": [
      "1/1 [==============================] - 0s 91ms/step\n",
      "1/1 [==============================] - 0s 89ms/step\n",
      "1/1 [==============================] - 0s 25ms/step\n",
      "1/1 [==============================] - 0s 29ms/step\n",
      "1/1 [==============================] - 0s 25ms/step\n",
      "1/1 [==============================] - 0s 23ms/step\n",
      "1/1 [==============================] - 0s 24ms/step\n",
      "1/1 [==============================] - 0s 24ms/step\n",
      "1/1 [==============================] - 0s 25ms/step\n",
      "1/1 [==============================] - 0s 25ms/step\n",
      "1/1 [==============================] - 0s 23ms/step\n",
      "1/1 [==============================] - 0s 23ms/step\n",
      "1/1 [==============================] - 0s 25ms/step\n",
      "1/1 [==============================] - 0s 26ms/step\n",
      "1/1 [==============================] - 0s 24ms/step\n",
      "1/1 [==============================] - 0s 24ms/step\n",
      "1/1 [==============================] - 0s 27ms/step\n",
      "1/1 [==============================] - 0s 28ms/step\n",
      "1/1 [==============================] - 0s 23ms/step\n",
      "1/1 [==============================] - 0s 24ms/step\n",
      "1/1 [==============================] - 0s 24ms/step\n",
      "1/1 [==============================] - 0s 25ms/step\n",
      "1/1 [==============================] - 0s 25ms/step\n",
      "1/1 [==============================] - 0s 27ms/step\n",
      "1/1 [==============================] - 0s 34ms/step\n",
      "1/1 [==============================] - 0s 32ms/step\n",
      "1/1 [==============================] - 0s 30ms/step\n",
      "1/1 [==============================] - 0s 31ms/step\n",
      "1/1 [==============================] - 0s 25ms/step\n",
      "1/1 [==============================] - 0s 24ms/step\n",
      "8.789905\n",
      "0.72879493\n",
      "0.20026755\n"
     ]
    }
   ],
   "source": [
    "predictions_age = []\n",
    "predictions_female = []\n",
    "predictions_male = []\n",
    "for image in images:\n",
    "    predictions_age.append(model_age.predict(image)[0])\n",
    "    predictions_female.append(model_gender.predict(image)[0][0])\n",
    "    predictions_male.append(model_gender.predict(image)[0][1])\n",
    "    \n",
    "print(np.mean(predictions_age))\n",
    "print(np.mean(predictions_female))\n",
    "print(np.mean(predictions_male))"
   ]
  },
  {
   "cell_type": "code",
   "execution_count": 30,
   "id": "4f7cab1d-2531-4b27-a6fd-4f0537cfb83a",
   "metadata": {
    "tags": []
   },
   "outputs": [
    {
     "name": "stdout",
     "output_type": "stream",
     "text": [
      "1/1 [==============================] - 0s 25ms/step\n",
      "1/1 [==============================] - 0s 26ms/step\n",
      "1/1 [==============================] - 0s 25ms/step\n",
      "1/1 [==============================] - 0s 26ms/step\n",
      "1/1 [==============================] - 0s 23ms/step\n",
      "1/1 [==============================] - 0s 25ms/step\n",
      "1/1 [==============================] - 0s 26ms/step\n",
      "1/1 [==============================] - 0s 26ms/step\n",
      "1/1 [==============================] - 0s 27ms/step\n",
      "1/1 [==============================] - 0s 26ms/step\n",
      "1/1 [==============================] - 0s 27ms/step\n",
      "1/1 [==============================] - 0s 40ms/step\n",
      "1/1 [==============================] - 0s 30ms/step\n",
      "1/1 [==============================] - 0s 26ms/step\n",
      "1/1 [==============================] - 0s 24ms/step\n",
      "1/1 [==============================] - 0s 30ms/step\n",
      "1/1 [==============================] - 0s 24ms/step\n",
      "1/1 [==============================] - 0s 25ms/step\n",
      "1/1 [==============================] - 0s 24ms/step\n",
      "1/1 [==============================] - 0s 25ms/step\n",
      "1/1 [==============================] - 0s 26ms/step\n",
      "1/1 [==============================] - 0s 27ms/step\n",
      "1/1 [==============================] - 0s 25ms/step\n",
      "1/1 [==============================] - 0s 24ms/step\n",
      "1/1 [==============================] - 0s 25ms/step\n",
      "1/1 [==============================] - 0s 25ms/step\n",
      "1/1 [==============================] - 0s 24ms/step\n",
      "1/1 [==============================] - 0s 24ms/step\n",
      "1/1 [==============================] - 0s 26ms/step\n",
      "1/1 [==============================] - 0s 29ms/step\n",
      "Age: 14.361950874328613, Female: 0.6030124425888062, Male: 0.46290987730026245\n"
     ]
    }
   ],
   "source": [
    "image = image_preprocess(\"../Data/Test/25Female1.jpg\")\n",
    "age, female, male = image_augmentation(image, model_age, model_gender)\n",
    "\n",
    "print(\"Age: {}, Female: {}, Male: {}\".format(age, female, male))"
   ]
  }
 ],
 "metadata": {
  "kernelspec": {
   "display_name": "Python 3 (ipykernel)",
   "language": "python",
   "name": "python3"
  },
  "language_info": {
   "codemirror_mode": {
    "name": "ipython",
    "version": 3
   },
   "file_extension": ".py",
   "mimetype": "text/x-python",
   "name": "python",
   "nbconvert_exporter": "python",
   "pygments_lexer": "ipython3",
   "version": "3.9.13"
  }
 },
 "nbformat": 4,
 "nbformat_minor": 5
}
