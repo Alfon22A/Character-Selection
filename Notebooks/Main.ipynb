{
 "cells": [
  {
   "cell_type": "code",
   "execution_count": 1,
   "id": "91f21f97-de22-4ece-90f2-ed2a1324f5ad",
   "metadata": {},
   "outputs": [],
   "source": [
    "import numpy as np\n",
    "import pandas as pd\n",
    "import glob\n",
    "from skimage import io\n",
    "\n",
    "from sklearn.model_selection import train_test_split\n",
    "from sklearn.metrics import cohen_kappa_score, classification_report, mean_absolute_error\n",
    "\n",
    "\n",
    "import matplotlib.pyplot as plt\n",
    "%matplotlib inline\n",
    "\n",
    "import tensorflow as tf\n",
    "from tensorflow.keras.models import Sequential\n",
    "from tensorflow.keras.layers import Conv2D, MaxPool2D, Activation, Dropout, Flatten, Dense, Dropout, LayerNormalization, AveragePooling2D\n",
    "from tensorflow.keras.preprocessing.image import ImageDataGenerator, img_to_array, load_img\n",
    "from tensorflow.keras.callbacks import EarlyStopping, ModelCheckpoint\n",
    "import keras\n",
    "\n",
    "import pickle"
   ]
  },
  {
   "cell_type": "code",
   "execution_count": 2,
   "id": "7da6ae12-809d-45f4-975e-bb49a116b83b",
   "metadata": {},
   "outputs": [],
   "source": [
    "# Dataset is divided in 4 files, this concatenates them all\n",
    "df_list = []\n",
    "for file_name in glob.glob(\"../Data/Raw/Archive/*.txt\"):\n",
    "    df_temp = pd.read_csv(file_name, sep=\"\\t\")\n",
    "    df_list.append(df_temp)\n",
    "df = pd.concat(df_list, axis=0, ignore_index=True)"
   ]
  },
  {
   "cell_type": "code",
   "execution_count": 3,
   "id": "2774adf7-7eae-44bc-8ed3-6f09886cd6f3",
   "metadata": {
    "tags": []
   },
   "outputs": [
    {
     "data": {
      "text/html": [
       "<div>\n",
       "<style scoped>\n",
       "    .dataframe tbody tr th:only-of-type {\n",
       "        vertical-align: middle;\n",
       "    }\n",
       "\n",
       "    .dataframe tbody tr th {\n",
       "        vertical-align: top;\n",
       "    }\n",
       "\n",
       "    .dataframe thead th {\n",
       "        text-align: right;\n",
       "    }\n",
       "</style>\n",
       "<table border=\"1\" class=\"dataframe\">\n",
       "  <thead>\n",
       "    <tr style=\"text-align: right;\">\n",
       "      <th></th>\n",
       "      <th>user_id</th>\n",
       "      <th>original_image</th>\n",
       "      <th>face_id</th>\n",
       "      <th>age</th>\n",
       "      <th>gender</th>\n",
       "      <th>x</th>\n",
       "      <th>y</th>\n",
       "      <th>dx</th>\n",
       "      <th>dy</th>\n",
       "      <th>tilt_ang</th>\n",
       "      <th>fiducial_yaw_angle</th>\n",
       "      <th>fiducial_score</th>\n",
       "    </tr>\n",
       "  </thead>\n",
       "  <tbody>\n",
       "    <tr>\n",
       "      <th>0</th>\n",
       "      <td>30601258@N03</td>\n",
       "      <td>10399646885_67c7d20df9_o.jpg</td>\n",
       "      <td>1</td>\n",
       "      <td>(25, 32)</td>\n",
       "      <td>f</td>\n",
       "      <td>0</td>\n",
       "      <td>414</td>\n",
       "      <td>1086</td>\n",
       "      <td>1383</td>\n",
       "      <td>-115</td>\n",
       "      <td>30</td>\n",
       "      <td>17</td>\n",
       "    </tr>\n",
       "    <tr>\n",
       "      <th>1</th>\n",
       "      <td>30601258@N03</td>\n",
       "      <td>10424815813_e94629b1ec_o.jpg</td>\n",
       "      <td>2</td>\n",
       "      <td>(25, 32)</td>\n",
       "      <td>m</td>\n",
       "      <td>301</td>\n",
       "      <td>105</td>\n",
       "      <td>640</td>\n",
       "      <td>641</td>\n",
       "      <td>0</td>\n",
       "      <td>0</td>\n",
       "      <td>94</td>\n",
       "    </tr>\n",
       "    <tr>\n",
       "      <th>2</th>\n",
       "      <td>30601258@N03</td>\n",
       "      <td>10437979845_5985be4b26_o.jpg</td>\n",
       "      <td>1</td>\n",
       "      <td>(25, 32)</td>\n",
       "      <td>f</td>\n",
       "      <td>2395</td>\n",
       "      <td>876</td>\n",
       "      <td>771</td>\n",
       "      <td>771</td>\n",
       "      <td>175</td>\n",
       "      <td>-30</td>\n",
       "      <td>74</td>\n",
       "    </tr>\n",
       "    <tr>\n",
       "      <th>3</th>\n",
       "      <td>30601258@N03</td>\n",
       "      <td>10437979845_5985be4b26_o.jpg</td>\n",
       "      <td>3</td>\n",
       "      <td>(25, 32)</td>\n",
       "      <td>m</td>\n",
       "      <td>752</td>\n",
       "      <td>1255</td>\n",
       "      <td>484</td>\n",
       "      <td>485</td>\n",
       "      <td>180</td>\n",
       "      <td>0</td>\n",
       "      <td>47</td>\n",
       "    </tr>\n",
       "    <tr>\n",
       "      <th>4</th>\n",
       "      <td>30601258@N03</td>\n",
       "      <td>11816644924_075c3d8d59_o.jpg</td>\n",
       "      <td>2</td>\n",
       "      <td>(25, 32)</td>\n",
       "      <td>m</td>\n",
       "      <td>175</td>\n",
       "      <td>80</td>\n",
       "      <td>769</td>\n",
       "      <td>768</td>\n",
       "      <td>-75</td>\n",
       "      <td>0</td>\n",
       "      <td>34</td>\n",
       "    </tr>\n",
       "    <tr>\n",
       "      <th>...</th>\n",
       "      <td>...</td>\n",
       "      <td>...</td>\n",
       "      <td>...</td>\n",
       "      <td>...</td>\n",
       "      <td>...</td>\n",
       "      <td>...</td>\n",
       "      <td>...</td>\n",
       "      <td>...</td>\n",
       "      <td>...</td>\n",
       "      <td>...</td>\n",
       "      <td>...</td>\n",
       "      <td>...</td>\n",
       "    </tr>\n",
       "    <tr>\n",
       "      <th>19365</th>\n",
       "      <td>7153718@N04</td>\n",
       "      <td>11598838386_349a0d4849_o.jpg</td>\n",
       "      <td>2282</td>\n",
       "      <td>None</td>\n",
       "      <td>NaN</td>\n",
       "      <td>596</td>\n",
       "      <td>460</td>\n",
       "      <td>1472</td>\n",
       "      <td>1473</td>\n",
       "      <td>-75</td>\n",
       "      <td>0</td>\n",
       "      <td>30</td>\n",
       "    </tr>\n",
       "    <tr>\n",
       "      <th>19366</th>\n",
       "      <td>7153718@N04</td>\n",
       "      <td>11598166203_c70bb34c80_o.jpg</td>\n",
       "      <td>2283</td>\n",
       "      <td>None</td>\n",
       "      <td>NaN</td>\n",
       "      <td>1179</td>\n",
       "      <td>755</td>\n",
       "      <td>331</td>\n",
       "      <td>331</td>\n",
       "      <td>5</td>\n",
       "      <td>0</td>\n",
       "      <td>108</td>\n",
       "    </tr>\n",
       "    <tr>\n",
       "      <th>19367</th>\n",
       "      <td>7153718@N04</td>\n",
       "      <td>11598166203_c70bb34c80_o.jpg</td>\n",
       "      <td>2282</td>\n",
       "      <td>None</td>\n",
       "      <td>NaN</td>\n",
       "      <td>1201</td>\n",
       "      <td>1179</td>\n",
       "      <td>293</td>\n",
       "      <td>293</td>\n",
       "      <td>5</td>\n",
       "      <td>0</td>\n",
       "      <td>99</td>\n",
       "    </tr>\n",
       "    <tr>\n",
       "      <th>19368</th>\n",
       "      <td>7153718@N04</td>\n",
       "      <td>11598145163_733cb99713_o.jpg</td>\n",
       "      <td>2282</td>\n",
       "      <td>None</td>\n",
       "      <td>NaN</td>\n",
       "      <td>1027</td>\n",
       "      <td>946</td>\n",
       "      <td>408</td>\n",
       "      <td>408</td>\n",
       "      <td>-85</td>\n",
       "      <td>0</td>\n",
       "      <td>49</td>\n",
       "    </tr>\n",
       "    <tr>\n",
       "      <th>19369</th>\n",
       "      <td>7153718@N04</td>\n",
       "      <td>11598013005_240c2bc9c7_o.jpg</td>\n",
       "      <td>2282</td>\n",
       "      <td>None</td>\n",
       "      <td>NaN</td>\n",
       "      <td>498</td>\n",
       "      <td>643</td>\n",
       "      <td>772</td>\n",
       "      <td>772</td>\n",
       "      <td>-80</td>\n",
       "      <td>0</td>\n",
       "      <td>111</td>\n",
       "    </tr>\n",
       "  </tbody>\n",
       "</table>\n",
       "<p>19370 rows × 12 columns</p>\n",
       "</div>"
      ],
      "text/plain": [
       "            user_id                original_image  face_id       age gender  \\\n",
       "0      30601258@N03  10399646885_67c7d20df9_o.jpg        1  (25, 32)      f   \n",
       "1      30601258@N03  10424815813_e94629b1ec_o.jpg        2  (25, 32)      m   \n",
       "2      30601258@N03  10437979845_5985be4b26_o.jpg        1  (25, 32)      f   \n",
       "3      30601258@N03  10437979845_5985be4b26_o.jpg        3  (25, 32)      m   \n",
       "4      30601258@N03  11816644924_075c3d8d59_o.jpg        2  (25, 32)      m   \n",
       "...             ...                           ...      ...       ...    ...   \n",
       "19365   7153718@N04  11598838386_349a0d4849_o.jpg     2282      None    NaN   \n",
       "19366   7153718@N04  11598166203_c70bb34c80_o.jpg     2283      None    NaN   \n",
       "19367   7153718@N04  11598166203_c70bb34c80_o.jpg     2282      None    NaN   \n",
       "19368   7153718@N04  11598145163_733cb99713_o.jpg     2282      None    NaN   \n",
       "19369   7153718@N04  11598013005_240c2bc9c7_o.jpg     2282      None    NaN   \n",
       "\n",
       "          x     y    dx    dy  tilt_ang  fiducial_yaw_angle  fiducial_score  \n",
       "0         0   414  1086  1383      -115                  30              17  \n",
       "1       301   105   640   641         0                   0              94  \n",
       "2      2395   876   771   771       175                 -30              74  \n",
       "3       752  1255   484   485       180                   0              47  \n",
       "4       175    80   769   768       -75                   0              34  \n",
       "...     ...   ...   ...   ...       ...                 ...             ...  \n",
       "19365   596   460  1472  1473       -75                   0              30  \n",
       "19366  1179   755   331   331         5                   0             108  \n",
       "19367  1201  1179   293   293         5                   0              99  \n",
       "19368  1027   946   408   408       -85                   0              49  \n",
       "19369   498   643   772   772       -80                   0             111  \n",
       "\n",
       "[19370 rows x 12 columns]"
      ]
     },
     "execution_count": 3,
     "metadata": {},
     "output_type": "execute_result"
    }
   ],
   "source": [
    "df"
   ]
  },
  {
   "cell_type": "code",
   "execution_count": 4,
   "id": "e9cb4e1e-2af8-4511-90c7-15bcff507f73",
   "metadata": {},
   "outputs": [],
   "source": [
    "df = df.dropna()"
   ]
  },
  {
   "cell_type": "code",
   "execution_count": 5,
   "id": "e30c3bbc-d3b8-4efc-9e2b-ba9803bd170a",
   "metadata": {
    "tags": []
   },
   "outputs": [
    {
     "data": {
      "text/plain": [
       "(25, 32)     4953\n",
       "(0, 2)       2488\n",
       "(38, 43)     2293\n",
       "(4, 6)       2140\n",
       "(8, 12)      2119\n",
       "(15, 20)     1642\n",
       "(60, 100)     867\n",
       "(48, 53)      825\n",
       "35            293\n",
       "13            168\n",
       "22            149\n",
       "34            105\n",
       "23             96\n",
       "45             88\n",
       "(27, 32)       77\n",
       "55             76\n",
       "36             56\n",
       "(38, 42)       46\n",
       "None           40\n",
       "57             24\n",
       "3              18\n",
       "29             11\n",
       "(38, 48)        6\n",
       "58              5\n",
       "2               3\n",
       "(8, 23)         1\n",
       "42              1\n",
       "46              1\n",
       "Name: age, dtype: int64"
      ]
     },
     "execution_count": 5,
     "metadata": {},
     "output_type": "execute_result"
    }
   ],
   "source": [
    "df[\"age\"].value_counts()"
   ]
  },
  {
   "cell_type": "markdown",
   "id": "1b248b12-fd0a-43b2-9341-8fded9660176",
   "metadata": {},
   "source": [
    "Age map to use for regression, this dataset is meant to make the age a classification problem, but we are going to make it a regression one"
   ]
  },
  {
   "cell_type": "code",
   "execution_count": 6,
   "id": "928505ab-0f0a-45c8-acf2-5d7fc8fd0758",
   "metadata": {
    "tags": []
   },
   "outputs": [],
   "source": [
    "df = df[df[\"age\"] != \"None\"]\n",
    "\n",
    "ages_map = {}\n",
    "ages_keys = df[\"age\"].value_counts().index\n",
    "ages_values = []\n",
    "\n",
    "for x in df[\"age\"].value_counts().index:\n",
    "    if x.startswith(\"(\"):\n",
    "        x = x.split(\", \")\n",
    "        x[0] = x[0].replace(\"(\",\"\")\n",
    "        x[1] = x[1].replace(\")\",\"\")\n",
    "        x[0] = int(x[0])\n",
    "        x[1] = int(x[1])\n",
    "        x = int((x[0]+x[1])/2)\n",
    "        ages_values.append(x)\n",
    "    else:\n",
    "        ages_values.append(int(x))"
   ]
  },
  {
   "cell_type": "code",
   "execution_count": 7,
   "id": "6d2133fd-f23a-4d97-8390-6c42f84a0095",
   "metadata": {
    "tags": []
   },
   "outputs": [],
   "source": [
    "for key, value in zip(ages_keys, ages_values):\n",
    "    ages_map[key] = value"
   ]
  },
  {
   "cell_type": "code",
   "execution_count": 8,
   "id": "3bcebb7a-247c-4e57-b969-e6ade2d4b7b3",
   "metadata": {
    "tags": []
   },
   "outputs": [],
   "source": [
    "df[\"age\"] = df[\"age\"].map(ages_map)"
   ]
  },
  {
   "cell_type": "code",
   "execution_count": 9,
   "id": "fc56400a-17ae-4bb7-bc11-678f9449a933",
   "metadata": {},
   "outputs": [
    {
     "data": {
      "text/plain": [
       "f    9332\n",
       "m    8120\n",
       "u    1099\n",
       "Name: gender, dtype: int64"
      ]
     },
     "execution_count": 9,
     "metadata": {},
     "output_type": "execute_result"
    }
   ],
   "source": [
    "df[\"gender\"].value_counts()"
   ]
  },
  {
   "cell_type": "code",
   "execution_count": 10,
   "id": "4b15e616-ab11-4ab7-aa06-0f279477edac",
   "metadata": {},
   "outputs": [],
   "source": [
    "# We will later make the model predict a non-binary category\n",
    "\n",
    "df = df[df[\"gender\"] != \"u\"]\n",
    "df[\"gender\"] = df[\"gender\"].apply(lambda x: 1 if x == \"m\" else 0).astype(int)"
   ]
  },
  {
   "cell_type": "code",
   "execution_count": 11,
   "id": "c925dce8-5a77-42d6-acb1-d6f5cad01576",
   "metadata": {
    "tags": []
   },
   "outputs": [],
   "source": [
    "# Creating the path to the image\n",
    "\n",
    "df[\"face_id\"] = df[\"face_id\"].astype(str)\n",
    "df[\"path\"] = \"../Data/Raw/Archive/Faces/\"+df[\"user_id\"]+\"/coarse_tilt_aligned_face.\"+df[\"face_id\"]+\".\"+df[\"original_image\"]"
   ]
  },
  {
   "cell_type": "code",
   "execution_count": 12,
   "id": "804f818a-10b3-450e-9ccd-b04c2266177f",
   "metadata": {},
   "outputs": [],
   "source": [
    "df.to_csv(\"../Data/Clean/Faces.csv\")"
   ]
  },
  {
   "cell_type": "code",
   "execution_count": 13,
   "id": "6f0159e7-dab5-4ac0-a5bf-5b66db5ba79a",
   "metadata": {},
   "outputs": [],
   "source": [
    "X = df[\"path\"]\n",
    "y_age = df[\"age\"]\n",
    "y_gender = df[\"gender\"]"
   ]
  },
  {
   "cell_type": "code",
   "execution_count": 14,
   "id": "abf36d3b-8ca2-4903-bd4c-966a936580f9",
   "metadata": {},
   "outputs": [],
   "source": [
    "X_train, X_test, y_train_age, y_test_age = train_test_split(X, y_age, test_size = 0.22, random_state = 22)\n",
    "X_train, X_test, y_train_gender, y_test_gender = train_test_split(X, y_gender, test_size = 0.22, random_state = 22)"
   ]
  },
  {
   "cell_type": "markdown",
   "id": "619bd733-f24d-455e-8093-2fd7d332af92",
   "metadata": {},
   "source": [
    "Image greyscaled, downscaled, size adjusted and transformed."
   ]
  },
  {
   "cell_type": "code",
   "execution_count": 15,
   "id": "a10847a6-9c0e-4402-baae-3b7f201a891a",
   "metadata": {},
   "outputs": [],
   "source": [
    "def image_preprocess(path):\n",
    "    img = tf.io.read_file(np.array(path).ravel()[0])\n",
    "    img = tf.image.decode_jpeg(img, channels = 1, ratio = 2)\n",
    "    img = tf.image.resize(img, [64,64])\n",
    "    img = img / 255 # This part normalizes the image, scaling it down; 255 is the max, while 0 is the min\n",
    "    return img"
   ]
  },
  {
   "cell_type": "code",
   "execution_count": 16,
   "id": "3d4a64fc-df39-41c7-8e34-bbad7cd6ecf1",
   "metadata": {
    "tags": []
   },
   "outputs": [
    {
     "data": {
      "text/plain": [
       "<matplotlib.image.AxesImage at 0x1ea60d4fdf0>"
      ]
     },
     "execution_count": 16,
     "metadata": {},
     "output_type": "execute_result"
    },
    {
     "data": {
      "image/png": "[encoded data removed]",
      "text/plain": [
       "<Figure size 640x480 with 1 Axes>"
      ]
     },
     "metadata": {},
     "output_type": "display_data"
    }
   ],
   "source": [
    "plt.imshow(image_preprocess(df[\"path\"][22]))"
   ]
  },
  {
   "cell_type": "code",
   "execution_count": 17,
   "id": "7e636d2a-213a-4dba-ad96-0433280cbf7b",
   "metadata": {},
   "outputs": [],
   "source": [
    "# Preparing the data that will be fed to the model\n",
    "\n",
    "X_train_images = np.array([image_preprocess(path) for path in X_train])\n",
    "X_test_images = np.array([image_preprocess(path) for path in X_test])"
   ]
  },
  {
   "cell_type": "code",
   "execution_count": 18,
   "id": "1eee5705-96b1-4f21-9e5b-4e54f2e31497",
   "metadata": {},
   "outputs": [],
   "source": [
    "filename = \"../Data/Clean/X_train_images.pkl\"\n",
    "with open(filename, \"wb\") as file:\n",
    "    pickle.dump(X_train_images, file)"
   ]
  },
  {
   "cell_type": "code",
   "execution_count": 19,
   "id": "00280792-7976-4a63-947b-84faef77a75a",
   "metadata": {},
   "outputs": [],
   "source": [
    "filename = \"../Data/Clean/X_test_images.pkl\"\n",
    "with open(filename, \"wb\") as file:\n",
    "    pickle.dump(X_test_images, file)"
   ]
  },
  {
   "cell_type": "code",
   "execution_count": 20,
   "id": "3d11f07b-5463-4572-987f-3cecc56a4ce6",
   "metadata": {},
   "outputs": [],
   "source": [
    "# This changes the learning rate based on epochs\n",
    "\n",
    "def scheduler(epoch, lr):\n",
    "    if epoch < 5:\n",
    "        return lr\n",
    "    else:\n",
    "        return lr - (lr/(epoch))"
   ]
  },
  {
   "cell_type": "code",
   "execution_count": 21,
   "id": "a02f0314-f53b-46fa-98c1-60bd7c7072d3",
   "metadata": {
    "tags": []
   },
   "outputs": [
    {
     "name": "stdout",
     "output_type": "stream",
     "text": [
      "Model: \"sequential\"\n",
      "_________________________________________________________________\n",
      " Layer (type)                Output Shape              Param #   \n",
      "=================================================================\n",
      " conv2d (Conv2D)             (None, 63, 63, 64)        320       \n",
      "                                                                 \n",
      " max_pooling2d (MaxPooling2D  (None, 31, 31, 64)       0         \n",
      " )                                                               \n",
      "                                                                 \n",
      " conv2d_1 (Conv2D)           (None, 30, 30, 64)        16448     \n",
      "                                                                 \n",
      " max_pooling2d_1 (MaxPooling  (None, 15, 15, 64)       0         \n",
      " 2D)                                                             \n",
      "                                                                 \n",
      " conv2d_2 (Conv2D)           (None, 14, 14, 64)        16448     \n",
      "                                                                 \n",
      " max_pooling2d_2 (MaxPooling  (None, 7, 7, 64)         0         \n",
      " 2D)                                                             \n",
      "                                                                 \n",
      " flatten (Flatten)           (None, 3136)              0         \n",
      "                                                                 \n",
      " dense (Dense)               (None, 64)                200768    \n",
      "                                                                 \n",
      " dense_1 (Dense)             (None, 1)                 65        \n",
      "                                                                 \n",
      "=================================================================\n",
      "Total params: 234,049\n",
      "Trainable params: 234,049\n",
      "Non-trainable params: 0\n",
      "_________________________________________________________________\n"
     ]
    }
   ],
   "source": [
    "model_age = Sequential()\n",
    "# First layer needs as many nodes as inputs\n",
    "model_age.add(Conv2D(64,(2,2), activation = \"relu\", input_shape = (64,64,1)))\n",
    "model_age.add(MaxPool2D((2,2)))\n",
    "model_age.add(Conv2D(64,(2,2), activation = \"relu\"))\n",
    "model_age.add(MaxPool2D((2,2)))\n",
    "model_age.add(Conv2D(64,(2,2), activation = \"relu\"))\n",
    "model_age.add(MaxPool2D((2,2)))\n",
    "model_age.add(Flatten())\n",
    "model_age.add(Dense(64, activation = \"relu\"))\n",
    "model_age.add(Dense(1, activation = \"relu\"))\n",
    "opt = keras.optimizers.Adam(learning_rate = 0.01)\n",
    "model_age.compile(optimizer = opt,\n",
    "              loss = \"mse\",\n",
    "              metrics = [\"mae\", \"mse\", \"mape\"])\n",
    "model_age.summary()"
   ]
  },
  {
   "cell_type": "code",
   "execution_count": 24,
   "id": "7304ed8a-6a6c-4fd9-8f84-beeca348d225",
   "metadata": {},
   "outputs": [],
   "source": [
    "early_stop = EarlyStopping(patience=5)\n",
    "\n",
    "checkpoint_path = '../Models/Age_NN6.hdf5'\n",
    "checkpoint = ModelCheckpoint(\n",
    "    filepath=checkpoint_path,\n",
    "    save_freq='epoch',\n",
    "    save_weights_only=False,\n",
    "    verbose=1\n",
    ")\n",
    "\n",
    "schedule = tf.keras.callbacks.LearningRateScheduler(scheduler)"
   ]
  },
  {
   "cell_type": "code",
   "execution_count": null,
   "id": "96c58fb3-1ab8-4d14-8d20-2b12df94e0bf",
   "metadata": {
    "tags": []
   },
   "outputs": [
    {
     "name": "stdout",
     "output_type": "stream",
     "text": [
      "Epoch 1/100\n",
      "\n",
      "Epoch 1: saving model to ../Models\\Age_NN6.hdf5\n",
      "107/107 - 72s - loss: 924.0138 - mae: 23.7823 - mse: 924.0138 - mape: 104.6028 - val_loss: 723.0570 - val_mae: 20.1978 - val_mse: 723.0570 - val_mape: 99.8579 - lr: 0.0100 - 72s/epoch - 672ms/step\n",
      "Epoch 2/100\n",
      "\n",
      "Epoch 2: saving model to ../Models\\Age_NN6.hdf5\n",
      "107/107 - 73s - loss: 499.1007 - mae: 16.8535 - mse: 499.1007 - mape: 175.2074 - val_loss: 356.9782 - val_mae: 14.6514 - val_mse: 356.9782 - val_mape: 265.8598 - lr: 0.0100 - 73s/epoch - 683ms/step\n",
      "Epoch 3/100\n"
     ]
    }
   ],
   "source": [
    "history = model_age.fit(\n",
    "    X_train_images, y_train_age,\n",
    "    epochs=100,\n",
    "    validation_data = (X_test_images, y_test_age),\n",
    "    batch_size=128,\n",
    "    verbose=2,\n",
    "    callbacks=[early_stop, checkpoint, schedule]\n",
    ")"
   ]
  },
  {
   "cell_type": "code",
   "execution_count": 237,
   "id": "77734416-a0cb-4e17-87c9-4e74b69aee3b",
   "metadata": {},
   "outputs": [
    {
     "name": "stdout",
     "output_type": "stream",
     "text": [
      "426/426 [==============================] - 14s 33ms/step\n",
      "120/120 [==============================] - 4s 34ms/step\n"
     ]
    },
    {
     "data": {
      "text/plain": [
       "7.07074832626819"
      ]
     },
     "metadata": {},
     "output_type": "display_data"
    },
    {
     "data": {
      "text/plain": [
       "10.022828334585453"
      ]
     },
     "metadata": {},
     "output_type": "display_data"
    }
   ],
   "source": [
    "y_train_pred = model_age.predict(X_train_images)\n",
    "y_test_pred  = model_age.predict(X_test_images)\n",
    "\n",
    "display(mean_absolute_error(y_train_age,y_train_pred))\n",
    "display(mean_absolute_error(y_test_age,y_test_pred))"
   ]
  },
  {
   "cell_type": "code",
   "execution_count": 231,
   "id": "7ad661ad-49a8-4550-bc83-fc1ea3cbe4da",
   "metadata": {},
   "outputs": [],
   "source": [
    "model_age = load_model(\"../Models/Age_NN3.hdf5\")"
   ]
  },
  {
   "cell_type": "code",
   "execution_count": 232,
   "id": "d7d344db-5724-44d4-8a5f-6383d3fcad07",
   "metadata": {},
   "outputs": [
    {
     "name": "stdout",
     "output_type": "stream",
     "text": [
      "426/426 [==============================] - 22s 51ms/step\n",
      "120/120 [==============================] - 6s 48ms/step\n"
     ]
    },
    {
     "data": {
      "text/plain": [
       "4.357551175066471"
      ]
     },
     "metadata": {},
     "output_type": "display_data"
    },
    {
     "data": {
      "text/plain": [
       "7.97575630665912"
      ]
     },
     "metadata": {},
     "output_type": "display_data"
    }
   ],
   "source": [
    "y_train_pred = model_age.predict(X_train_images)\n",
    "y_test_pred  = model_age.predict(X_test_images)\n",
    "\n",
    "display(mean_absolute_error(y_train_age,y_train_pred))\n",
    "display(mean_absolute_error(y_test_age,y_test_pred))"
   ]
  },
  {
   "cell_type": "markdown",
   "id": "591ac4ae-f63d-4bce-a534-c04026782913",
   "metadata": {
    "tags": []
   },
   "source": [
    "## Gender"
   ]
  },
  {
   "cell_type": "code",
   "execution_count": 216,
   "id": "6ca7755c-b2f6-443e-8da1-228776e5304e",
   "metadata": {
    "tags": []
   },
   "outputs": [
    {
     "name": "stdout",
     "output_type": "stream",
     "text": [
      "Model: \"sequential_43\"\n",
      "_________________________________________________________________\n",
      " Layer (type)                Output Shape              Param #   \n",
      "=================================================================\n",
      " conv2d_165 (Conv2D)         (None, 63, 63, 64)        320       \n",
      "                                                                 \n",
      " max_pooling2d_37 (MaxPoolin  (None, 31, 31, 64)       0         \n",
      " g2D)                                                            \n",
      "                                                                 \n",
      " conv2d_166 (Conv2D)         (None, 30, 30, 64)        16448     \n",
      "                                                                 \n",
      " max_pooling2d_38 (MaxPoolin  (None, 15, 15, 64)       0         \n",
      " g2D)                                                            \n",
      "                                                                 \n",
      " conv2d_167 (Conv2D)         (None, 14, 14, 64)        16448     \n",
      "                                                                 \n",
      " max_pooling2d_39 (MaxPoolin  (None, 7, 7, 64)         0         \n",
      " g2D)                                                            \n",
      "                                                                 \n",
      " flatten_30 (Flatten)        (None, 3136)              0         \n",
      "                                                                 \n",
      " dense_78 (Dense)            (None, 64)                200768    \n",
      "                                                                 \n",
      " dense_79 (Dense)            (None, 1)                 65        \n",
      "                                                                 \n",
      "=================================================================\n",
      "Total params: 234,049\n",
      "Trainable params: 234,049\n",
      "Non-trainable params: 0\n",
      "_________________________________________________________________\n"
     ]
    }
   ],
   "source": [
    "model_gender = Sequential()\n",
    "# First layer needs as many nodes as inputs\n",
    "model_gender.add(Conv2D(64,(2,2), activation = \"relu\", input_shape = (64,64,1)))\n",
    "model_gender.add(MaxPool2D((2,2)))\n",
    "model_gender.add(Conv2D(64,(2,2), activation = \"relu\"))\n",
    "model_gender.add(MaxPool2D((2,2)))\n",
    "model_gender.add(Conv2D(64,(2,2), activation = \"relu\"))\n",
    "model_gender.add(MaxPool2D((2,2)))\n",
    "model_gender.add(Flatten())\n",
    "model_gender.add(Dense(64, activation = \"relu\"))\n",
    "model_gender.add(Dense(1, activation = \"sigmoid\"))\n",
    "model_gender.compile(optimizer = \"adam\",\n",
    "              loss = \"binary_crossentropy\",\n",
    "              metrics = \"accuracy\")\n",
    "model_gender.summary()"
   ]
  },
  {
   "cell_type": "code",
   "execution_count": 211,
   "id": "f858a1ca-1253-4b80-a88b-24fb9f8d638f",
   "metadata": {},
   "outputs": [],
   "source": [
    "early_stop = EarlyStopping(patience=5)\n",
    "\n",
    "checkpoint_path = '../Models/Gender_NN14.hdf5'\n",
    "checkpoint = ModelCheckpoint(\n",
    "    filepath=checkpoint_path,\n",
    "    save_freq='epoch',\n",
    "    save_weights_only=False,\n",
    "    verbose=1\n",
    ")\n",
    "\n",
    "schedule = tf.keras.callbacks.LearningRateScheduler(scheduler)"
   ]
  },
  {
   "cell_type": "code",
   "execution_count": 217,
   "id": "d349ff10-a077-4f1b-b150-29623cabae6c",
   "metadata": {
    "tags": []
   },
   "outputs": [
    {
     "name": "stdout",
     "output_type": "stream",
     "text": [
      "Epoch 1/50\n",
      "\n",
      "Epoch 1: saving model to ../Models\\Gender_NN14.hdf5\n",
      "107/107 - 51s - loss: 0.6152 - accuracy: 0.6488 - val_loss: 0.5823 - val_accuracy: 0.6992 - lr: 0.0010 - 51s/epoch - 473ms/step\n",
      "Epoch 2/50\n",
      "\n",
      "Epoch 2: saving model to ../Models\\Gender_NN14.hdf5\n",
      "107/107 - 53s - loss: 0.5278 - accuracy: 0.7348 - val_loss: 0.5298 - val_accuracy: 0.7354 - lr: 0.0010 - 53s/epoch - 495ms/step\n",
      "Epoch 3/50\n",
      "\n",
      "Epoch 3: saving model to ../Models\\Gender_NN14.hdf5\n",
      "107/107 - 51s - loss: 0.4695 - accuracy: 0.7752 - val_loss: 0.4835 - val_accuracy: 0.7685 - lr: 0.0010 - 51s/epoch - 476ms/step\n",
      "Epoch 4/50\n",
      "\n",
      "Epoch 4: saving model to ../Models\\Gender_NN14.hdf5\n",
      "107/107 - 50s - loss: 0.4340 - accuracy: 0.7969 - val_loss: 0.4531 - val_accuracy: 0.7901 - lr: 0.0010 - 50s/epoch - 467ms/step\n",
      "Epoch 5/50\n",
      "\n",
      "Epoch 5: saving model to ../Models\\Gender_NN14.hdf5\n",
      "107/107 - 51s - loss: 0.3968 - accuracy: 0.8205 - val_loss: 0.4207 - val_accuracy: 0.8076 - lr: 0.0010 - 51s/epoch - 474ms/step\n",
      "Epoch 6/50\n",
      "\n",
      "Epoch 6: saving model to ../Models\\Gender_NN14.hdf5\n",
      "107/107 - 56s - loss: 0.3663 - accuracy: 0.8377 - val_loss: 0.4066 - val_accuracy: 0.8190 - lr: 9.0000e-04 - 56s/epoch - 522ms/step\n",
      "Epoch 7/50\n",
      "\n",
      "Epoch 7: saving model to ../Models\\Gender_NN14.hdf5\n",
      "107/107 - 55s - loss: 0.3349 - accuracy: 0.8508 - val_loss: 0.3985 - val_accuracy: 0.8273 - lr: 8.2500e-04 - 55s/epoch - 514ms/step\n",
      "Epoch 8/50\n",
      "\n",
      "Epoch 8: saving model to ../Models\\Gender_NN14.hdf5\n",
      "107/107 - 63s - loss: 0.3129 - accuracy: 0.8636 - val_loss: 0.4016 - val_accuracy: 0.8227 - lr: 7.6607e-04 - 63s/epoch - 587ms/step\n",
      "Epoch 9/50\n",
      "\n",
      "Epoch 9: saving model to ../Models\\Gender_NN14.hdf5\n",
      "107/107 - 57s - loss: 0.2857 - accuracy: 0.8771 - val_loss: 0.3686 - val_accuracy: 0.8424 - lr: 7.1819e-04 - 57s/epoch - 529ms/step\n",
      "Epoch 10/50\n",
      "\n",
      "Epoch 10: saving model to ../Models\\Gender_NN14.hdf5\n",
      "107/107 - 58s - loss: 0.2682 - accuracy: 0.8851 - val_loss: 0.3579 - val_accuracy: 0.8430 - lr: 6.7829e-04 - 58s/epoch - 546ms/step\n",
      "Epoch 11/50\n",
      "\n",
      "Epoch 11: saving model to ../Models\\Gender_NN14.hdf5\n",
      "107/107 - 58s - loss: 0.2515 - accuracy: 0.8963 - val_loss: 0.3639 - val_accuracy: 0.8440 - lr: 6.4438e-04 - 58s/epoch - 545ms/step\n",
      "Epoch 12/50\n",
      "\n",
      "Epoch 12: saving model to ../Models\\Gender_NN14.hdf5\n",
      "107/107 - 64s - loss: 0.2336 - accuracy: 0.9026 - val_loss: 0.3773 - val_accuracy: 0.8388 - lr: 6.1509e-04 - 64s/epoch - 601ms/step\n",
      "Epoch 13/50\n",
      "\n",
      "Epoch 13: saving model to ../Models\\Gender_NN14.hdf5\n",
      "107/107 - 56s - loss: 0.2249 - accuracy: 0.9053 - val_loss: 0.3595 - val_accuracy: 0.8487 - lr: 5.8946e-04 - 56s/epoch - 519ms/step\n",
      "Epoch 14/50\n",
      "\n",
      "Epoch 14: saving model to ../Models\\Gender_NN14.hdf5\n",
      "107/107 - 62s - loss: 0.2028 - accuracy: 0.9161 - val_loss: 0.3675 - val_accuracy: 0.8464 - lr: 5.6679e-04 - 62s/epoch - 575ms/step\n",
      "Epoch 15/50\n",
      "\n",
      "Epoch 15: saving model to ../Models\\Gender_NN14.hdf5\n",
      "107/107 - 57s - loss: 0.1908 - accuracy: 0.9217 - val_loss: 0.3572 - val_accuracy: 0.8508 - lr: 5.4655e-04 - 57s/epoch - 537ms/step\n",
      "Epoch 16/50\n",
      "\n",
      "Epoch 16: saving model to ../Models\\Gender_NN14.hdf5\n",
      "107/107 - 57s - loss: 0.1862 - accuracy: 0.9229 - val_loss: 0.3756 - val_accuracy: 0.8510 - lr: 5.2833e-04 - 57s/epoch - 534ms/step\n",
      "Epoch 17/50\n",
      "\n",
      "Epoch 17: saving model to ../Models\\Gender_NN14.hdf5\n",
      "107/107 - 57s - loss: 0.1706 - accuracy: 0.9310 - val_loss: 0.3758 - val_accuracy: 0.8526 - lr: 5.1182e-04 - 57s/epoch - 535ms/step\n",
      "Epoch 18/50\n",
      "\n",
      "Epoch 18: saving model to ../Models\\Gender_NN14.hdf5\n",
      "107/107 - 58s - loss: 0.1554 - accuracy: 0.9402 - val_loss: 0.3781 - val_accuracy: 0.8518 - lr: 4.9676e-04 - 58s/epoch - 538ms/step\n",
      "Epoch 19/50\n",
      "\n",
      "Epoch 19: saving model to ../Models\\Gender_NN14.hdf5\n",
      "107/107 - 58s - loss: 0.1451 - accuracy: 0.9439 - val_loss: 0.3944 - val_accuracy: 0.8490 - lr: 4.8296e-04 - 58s/epoch - 540ms/step\n",
      "Epoch 20/50\n",
      "\n",
      "Epoch 20: saving model to ../Models\\Gender_NN14.hdf5\n",
      "107/107 - 57s - loss: 0.1355 - accuracy: 0.9486 - val_loss: 0.3914 - val_accuracy: 0.8484 - lr: 4.7025e-04 - 57s/epoch - 532ms/step\n"
     ]
    }
   ],
   "source": [
    "history = model_gender.fit(\n",
    "    X_train_images, y_train_gender,\n",
    "    epochs=50,\n",
    "    validation_data = (X_test_images, y_test_gender),\n",
    "    batch_size=128,\n",
    "    verbose=2,\n",
    "    callbacks=[early_stop, checkpoint, schedule]\n",
    ")"
   ]
  },
  {
   "cell_type": "code",
   "execution_count": 218,
   "id": "c289d592-2279-48c7-a890-ecde12daa3f6",
   "metadata": {},
   "outputs": [
    {
     "name": "stdout",
     "output_type": "stream",
     "text": [
      "426/426 [==============================] - 15s 35ms/step\n",
      "120/120 [==============================] - 4s 35ms/step\n",
      "Kappa score: 0.9123469090040686\n",
      "              precision    recall  f1-score   support\n",
      "\n",
      "           0       0.96      0.96      0.96      7317\n",
      "           1       0.96      0.95      0.95      6295\n",
      "\n",
      "    accuracy                           0.96     13612\n",
      "   macro avg       0.96      0.96      0.96     13612\n",
      "weighted avg       0.96      0.96      0.96     13612\n",
      "\n",
      "Kappa score: 0.6962566205341549\n",
      "              precision    recall  f1-score   support\n",
      "\n",
      "           0       0.86      0.85      0.86      2015\n",
      "           1       0.84      0.84      0.84      1825\n",
      "\n",
      "    accuracy                           0.85      3840\n",
      "   macro avg       0.85      0.85      0.85      3840\n",
      "weighted avg       0.85      0.85      0.85      3840\n",
      "\n",
      "1/1 [==============================] - 0s 26ms/step\n"
     ]
    },
    {
     "data": {
      "text/plain": [
       "array([[0.30743808]], dtype=float32)"
      ]
     },
     "metadata": {},
     "output_type": "display_data"
    },
    {
     "name": "stdout",
     "output_type": "stream",
     "text": [
      "1/1 [==============================] - 0s 25ms/step\n"
     ]
    },
    {
     "data": {
      "text/plain": [
       "array([[0.57551116]], dtype=float32)"
      ]
     },
     "metadata": {},
     "output_type": "display_data"
    },
    {
     "name": "stdout",
     "output_type": "stream",
     "text": [
      "1/1 [==============================] - 0s 23ms/step\n"
     ]
    },
    {
     "data": {
      "text/plain": [
       "array([[0.4375831]], dtype=float32)"
      ]
     },
     "metadata": {},
     "output_type": "display_data"
    },
    {
     "name": "stdout",
     "output_type": "stream",
     "text": [
      "1/1 [==============================] - 0s 24ms/step\n"
     ]
    },
    {
     "data": {
      "text/plain": [
       "array([[0.61811656]], dtype=float32)"
      ]
     },
     "metadata": {},
     "output_type": "display_data"
    },
    {
     "name": "stdout",
     "output_type": "stream",
     "text": [
      "1/1 [==============================] - 0s 25ms/step\n"
     ]
    },
    {
     "data": {
      "text/plain": [
       "array([[0.77895784]], dtype=float32)"
      ]
     },
     "metadata": {},
     "output_type": "display_data"
    },
    {
     "name": "stdout",
     "output_type": "stream",
     "text": [
      "1/1 [==============================] - 0s 26ms/step\n"
     ]
    },
    {
     "data": {
      "text/plain": [
       "array([[0.00361885]], dtype=float32)"
      ]
     },
     "metadata": {},
     "output_type": "display_data"
    },
    {
     "name": "stdout",
     "output_type": "stream",
     "text": [
      "1/1 [==============================] - 0s 24ms/step\n"
     ]
    },
    {
     "data": {
      "text/plain": [
       "array([[0.00406393]], dtype=float32)"
      ]
     },
     "metadata": {},
     "output_type": "display_data"
    },
    {
     "name": "stdout",
     "output_type": "stream",
     "text": [
      "1/1 [==============================] - 0s 24ms/step\n"
     ]
    },
    {
     "data": {
      "text/plain": [
       "array([[0.12396926]], dtype=float32)"
      ]
     },
     "metadata": {},
     "output_type": "display_data"
    },
    {
     "name": "stdout",
     "output_type": "stream",
     "text": [
      "1/1 [==============================] - 0s 26ms/step\n"
     ]
    },
    {
     "data": {
      "text/plain": [
       "array([[0.1857658]], dtype=float32)"
      ]
     },
     "metadata": {},
     "output_type": "display_data"
    },
    {
     "name": "stdout",
     "output_type": "stream",
     "text": [
      "1/1 [==============================] - 0s 22ms/step\n"
     ]
    },
    {
     "data": {
      "text/plain": [
       "array([[0.0554034]], dtype=float32)"
      ]
     },
     "metadata": {},
     "output_type": "display_data"
    },
    {
     "name": "stdout",
     "output_type": "stream",
     "text": [
      "1/1 [==============================] - 0s 25ms/step\n"
     ]
    },
    {
     "data": {
      "text/plain": [
       "array([[0.61759406]], dtype=float32)"
      ]
     },
     "metadata": {},
     "output_type": "display_data"
    },
    {
     "name": "stdout",
     "output_type": "stream",
     "text": [
      "1/1 [==============================] - 0s 25ms/step\n"
     ]
    },
    {
     "data": {
      "text/plain": [
       "array([[0.79290736]], dtype=float32)"
      ]
     },
     "metadata": {},
     "output_type": "display_data"
    }
   ],
   "source": [
    "y_train_pred = model_gender.predict(X_train_images)\n",
    "y_test_pred  = model_gender.predict(X_test_images)\n",
    "\n",
    "\n",
    "# This is for binary_crossentropy (1 neuron final output)\n",
    "y_train_pred2 = [int(round(y_train_pred[x][0],0)) for x in range(len(y_train_pred))]\n",
    "y_test_pred2 = [int(round(y_test_pred[x][0],0)) for x in range(len(y_test_pred))]\n",
    "\n",
    "\n",
    "# This is for sparse_categorical_crossestropy (2 neurons final output)\n",
    "# y_train_pred2 = np.argmax(y_train_pred, axis=1).reshape(-1,1)\n",
    "# y_test_pred2 = np.argmax(y_test_pred, axis=1).reshape(-1,1)\n",
    "\n",
    "print(\"Kappa score:\",cohen_kappa_score(y_train_gender, y_train_pred2))\n",
    "print(classification_report(y_train_gender, y_train_pred2, zero_division = True))\n",
    "print(\"Kappa score:\",cohen_kappa_score(y_test_gender, y_test_pred2))\n",
    "print(classification_report(y_test_gender, y_test_pred2, zero_division = True))\n",
    "\n",
    "\n",
    "display(model_gender.predict(np.array([image_preprocess(\"../Data/Test/Cande.jpg\")])))\n",
    "display(model_gender.predict(np.array([image_preprocess(\"../Data/Test/Lydia.jpg\")])))\n",
    "display(model_gender.predict(np.array([image_preprocess(\"../Data/Test/Lydia2.jpg\")])))\n",
    "display(model_gender.predict(np.array([image_preprocess(\"../Data/Test/Mama.jpg\")])))\n",
    "display(model_gender.predict(np.array([image_preprocess(\"../Data/Test/Paz.jpg\")])))\n",
    "display(model_gender.predict(np.array([image_preprocess(\"../Data/Test/Paz2.jpg\")])))\n",
    "display(model_gender.predict(np.array([image_preprocess(\"../Data/Test/Pilar.jpg\")])))\n",
    "\n",
    "display(model_gender.predict(np.array([image_preprocess(\"../Data/Test/Alfon.jpg\")])))\n",
    "display(model_gender.predict(np.array([image_preprocess(\"../Data/Test/Alfon2.jpg\")])))\n",
    "display(model_gender.predict(np.array([image_preprocess(\"../Data/Test/Alfon3.jpg\")])))\n",
    "display(model_gender.predict(np.array([image_preprocess(\"../Data/Test/Ignacio.jpg\")])))\n",
    "display(model_gender.predict(np.array([image_preprocess(\"../Data/Test/Ra.jpg\")])))"
   ]
  },
  {
   "cell_type": "code",
   "execution_count": 2,
   "id": "7126a466-a750-46ba-8135-976df36a24de",
   "metadata": {},
   "outputs": [],
   "source": [
    "from keras.models import load_model"
   ]
  },
  {
   "cell_type": "code",
   "execution_count": 180,
   "id": "787a8e60-2e88-465b-b0a1-8a10f8eff757",
   "metadata": {
    "tags": []
   },
   "outputs": [
    {
     "name": "stdout",
     "output_type": "stream",
     "text": [
      "426/426 [==============================] - 20s 46ms/step\n",
      "120/120 [==============================] - 5s 45ms/step\n",
      "Kappa score: 0.9603125693479869\n",
      "              precision    recall  f1-score   support\n",
      "\n",
      "           0       0.97      1.00      0.98      7317\n",
      "           1       0.99      0.96      0.98      6295\n",
      "\n",
      "    accuracy                           0.98     13612\n",
      "   macro avg       0.98      0.98      0.98     13612\n",
      "weighted avg       0.98      0.98      0.98     13612\n",
      "\n",
      "Kappa score: 0.7135060608586455\n",
      "              precision    recall  f1-score   support\n",
      "\n",
      "           0       0.83      0.91      0.87      2015\n",
      "           1       0.89      0.80      0.84      1825\n",
      "\n",
      "    accuracy                           0.86      3840\n",
      "   macro avg       0.86      0.85      0.86      3840\n",
      "weighted avg       0.86      0.86      0.86      3840\n",
      "\n",
      "1/1 [==============================] - 0s 27ms/step\n"
     ]
    },
    {
     "data": {
      "text/plain": [
       "array([[0.00496252]], dtype=float32)"
      ]
     },
     "metadata": {},
     "output_type": "display_data"
    },
    {
     "name": "stdout",
     "output_type": "stream",
     "text": [
      "1/1 [==============================] - 0s 30ms/step\n"
     ]
    },
    {
     "data": {
      "text/plain": [
       "array([[0.46562913]], dtype=float32)"
      ]
     },
     "metadata": {},
     "output_type": "display_data"
    },
    {
     "name": "stdout",
     "output_type": "stream",
     "text": [
      "1/1 [==============================] - 0s 27ms/step\n"
     ]
    },
    {
     "data": {
      "text/plain": [
       "array([[0.00355448]], dtype=float32)"
      ]
     },
     "metadata": {},
     "output_type": "display_data"
    },
    {
     "name": "stdout",
     "output_type": "stream",
     "text": [
      "1/1 [==============================] - 0s 30ms/step\n"
     ]
    },
    {
     "data": {
      "text/plain": [
       "array([[0.027608]], dtype=float32)"
      ]
     },
     "metadata": {},
     "output_type": "display_data"
    },
    {
     "name": "stdout",
     "output_type": "stream",
     "text": [
      "1/1 [==============================] - 0s 26ms/step\n"
     ]
    },
    {
     "data": {
      "text/plain": [
       "array([[0.12322083]], dtype=float32)"
      ]
     },
     "metadata": {},
     "output_type": "display_data"
    },
    {
     "name": "stdout",
     "output_type": "stream",
     "text": [
      "1/1 [==============================] - 0s 26ms/step\n"
     ]
    },
    {
     "data": {
      "text/plain": [
       "array([[0.00957087]], dtype=float32)"
      ]
     },
     "metadata": {},
     "output_type": "display_data"
    },
    {
     "name": "stdout",
     "output_type": "stream",
     "text": [
      "1/1 [==============================] - 0s 29ms/step\n"
     ]
    },
    {
     "data": {
      "text/plain": [
       "array([[0.9703398]], dtype=float32)"
      ]
     },
     "metadata": {},
     "output_type": "display_data"
    },
    {
     "name": "stdout",
     "output_type": "stream",
     "text": [
      "1/1 [==============================] - 0s 30ms/step\n"
     ]
    },
    {
     "data": {
      "text/plain": [
       "array([[2.4654832e-06]], dtype=float32)"
      ]
     },
     "metadata": {},
     "output_type": "display_data"
    },
    {
     "name": "stdout",
     "output_type": "stream",
     "text": [
      "1/1 [==============================] - 0s 32ms/step\n"
     ]
    },
    {
     "data": {
      "text/plain": [
       "array([[0.07899495]], dtype=float32)"
      ]
     },
     "metadata": {},
     "output_type": "display_data"
    },
    {
     "name": "stdout",
     "output_type": "stream",
     "text": [
      "1/1 [==============================] - 0s 31ms/step\n"
     ]
    },
    {
     "data": {
      "text/plain": [
       "array([[0.00011965]], dtype=float32)"
      ]
     },
     "metadata": {},
     "output_type": "display_data"
    },
    {
     "name": "stdout",
     "output_type": "stream",
     "text": [
      "1/1 [==============================] - 0s 26ms/step\n"
     ]
    },
    {
     "data": {
      "text/plain": [
       "array([[0.12507984]], dtype=float32)"
      ]
     },
     "metadata": {},
     "output_type": "display_data"
    },
    {
     "name": "stdout",
     "output_type": "stream",
     "text": [
      "1/1 [==============================] - 0s 27ms/step\n"
     ]
    },
    {
     "data": {
      "text/plain": [
       "array([[0.06703958]], dtype=float32)"
      ]
     },
     "metadata": {},
     "output_type": "display_data"
    }
   ],
   "source": [
    "model = load_model('../Models/Gender_NN1.hdf5')\n",
    "\n",
    "y_train_pred = model.predict(X_train_images)\n",
    "y_test_pred  = model.predict(X_test_images)\n",
    "\n",
    "y_train_pred2 = [int(round(y_train_pred[x][0],0)) for x in range(len(y_train_pred))]\n",
    "y_test_pred2 = [int(round(y_test_pred[x][0],0)) for x in range(len(y_test_pred))]\n",
    "\n",
    "print(\"Kappa score:\",cohen_kappa_score(y_train_gender, y_train_pred2))\n",
    "print(classification_report(y_train_gender, y_train_pred2, zero_division = True))\n",
    "print(\"Kappa score:\",cohen_kappa_score(y_test_gender, y_test_pred2))\n",
    "print(classification_report(y_test_gender, y_test_pred2, zero_division = True))\n",
    "\n",
    "display(model.predict(np.array([image_preprocess(\"../Data/Test/Alfon.jpg\")])))\n",
    "display(model.predict(np.array([image_preprocess(\"../Data/Test/Alfon2.jpg\")])))\n",
    "display(model.predict(np.array([image_preprocess(\"../Data/Test/Alfon3.jpg\")])))\n",
    "display(model.predict(np.array([image_preprocess(\"../Data/Test/Cande.jpg\")])))\n",
    "display(model.predict(np.array([image_preprocess(\"../Data/Test/Ignacio.jpg\")])))\n",
    "display(model.predict(np.array([image_preprocess(\"../Data/Test/Lydia.jpg\")])))\n",
    "display(model.predict(np.array([image_preprocess(\"../Data/Test/Lydia2.jpg\")])))\n",
    "display(model.predict(np.array([image_preprocess(\"../Data/Test/Mama.jpg\")])))\n",
    "display(model.predict(np.array([image_preprocess(\"../Data/Test/Paz.jpg\")])))\n",
    "display(model.predict(np.array([image_preprocess(\"../Data/Test/Paz2.jpg\")])))\n",
    "display(model.predict(np.array([image_preprocess(\"../Data/Test/Pilar.jpg\")])))\n",
    "display(model.predict(np.array([image_preprocess(\"../Data/Test/Ra.jpg\")])))"
   ]
  },
  {
   "cell_type": "code",
   "execution_count": 181,
   "id": "658f16b1-8f63-43a7-baf4-61b9ea51f14b",
   "metadata": {
    "tags": []
   },
   "outputs": [
    {
     "name": "stdout",
     "output_type": "stream",
     "text": [
      "426/426 [==============================] - 16s 37ms/step\n",
      "120/120 [==============================] - 4s 37ms/step\n",
      "Kappa score: 0.899815112283669\n",
      "              precision    recall  f1-score   support\n",
      "\n",
      "           0       0.96      0.94      0.95      7317\n",
      "           1       0.94      0.96      0.95      6295\n",
      "\n",
      "    accuracy                           0.95     13612\n",
      "   macro avg       0.95      0.95      0.95     13612\n",
      "weighted avg       0.95      0.95      0.95     13612\n",
      "\n",
      "Kappa score: 0.6843100805531096\n",
      "              precision    recall  f1-score   support\n",
      "\n",
      "           0       0.85      0.84      0.85      2015\n",
      "           1       0.83      0.84      0.84      1825\n",
      "\n",
      "    accuracy                           0.84      3840\n",
      "   macro avg       0.84      0.84      0.84      3840\n",
      "weighted avg       0.84      0.84      0.84      3840\n",
      "\n",
      "1/1 [==============================] - 0s 28ms/step\n"
     ]
    },
    {
     "data": {
      "text/plain": [
       "array([[0.9916688]], dtype=float32)"
      ]
     },
     "metadata": {},
     "output_type": "display_data"
    },
    {
     "name": "stdout",
     "output_type": "stream",
     "text": [
      "1/1 [==============================] - 0s 35ms/step\n"
     ]
    },
    {
     "data": {
      "text/plain": [
       "array([[0.14759696]], dtype=float32)"
      ]
     },
     "metadata": {},
     "output_type": "display_data"
    },
    {
     "name": "stdout",
     "output_type": "stream",
     "text": [
      "1/1 [==============================] - 0s 29ms/step\n"
     ]
    },
    {
     "data": {
      "text/plain": [
       "array([[0.37386474]], dtype=float32)"
      ]
     },
     "metadata": {},
     "output_type": "display_data"
    },
    {
     "name": "stdout",
     "output_type": "stream",
     "text": [
      "1/1 [==============================] - 0s 25ms/step\n"
     ]
    },
    {
     "data": {
      "text/plain": [
       "array([[0.00217511]], dtype=float32)"
      ]
     },
     "metadata": {},
     "output_type": "display_data"
    },
    {
     "name": "stdout",
     "output_type": "stream",
     "text": [
      "1/1 [==============================] - 0s 29ms/step\n"
     ]
    },
    {
     "data": {
      "text/plain": [
       "array([[0.09738189]], dtype=float32)"
      ]
     },
     "metadata": {},
     "output_type": "display_data"
    },
    {
     "name": "stdout",
     "output_type": "stream",
     "text": [
      "1/1 [==============================] - 0s 26ms/step\n"
     ]
    },
    {
     "data": {
      "text/plain": [
       "array([[0.00863037]], dtype=float32)"
      ]
     },
     "metadata": {},
     "output_type": "display_data"
    },
    {
     "name": "stdout",
     "output_type": "stream",
     "text": [
      "1/1 [==============================] - 0s 26ms/step\n"
     ]
    },
    {
     "data": {
      "text/plain": [
       "array([[0.20059496]], dtype=float32)"
      ]
     },
     "metadata": {},
     "output_type": "display_data"
    },
    {
     "name": "stdout",
     "output_type": "stream",
     "text": [
      "1/1 [==============================] - 0s 27ms/step\n"
     ]
    },
    {
     "data": {
      "text/plain": [
       "array([[0.00031576]], dtype=float32)"
      ]
     },
     "metadata": {},
     "output_type": "display_data"
    },
    {
     "name": "stdout",
     "output_type": "stream",
     "text": [
      "1/1 [==============================] - 0s 25ms/step\n"
     ]
    },
    {
     "data": {
      "text/plain": [
       "array([[0.6929264]], dtype=float32)"
      ]
     },
     "metadata": {},
     "output_type": "display_data"
    },
    {
     "name": "stdout",
     "output_type": "stream",
     "text": [
      "1/1 [==============================] - 0s 26ms/step\n"
     ]
    },
    {
     "data": {
      "text/plain": [
       "array([[0.12973307]], dtype=float32)"
      ]
     },
     "metadata": {},
     "output_type": "display_data"
    },
    {
     "name": "stdout",
     "output_type": "stream",
     "text": [
      "1/1 [==============================] - 0s 29ms/step\n"
     ]
    },
    {
     "data": {
      "text/plain": [
       "array([[0.00083649]], dtype=float32)"
      ]
     },
     "metadata": {},
     "output_type": "display_data"
    },
    {
     "name": "stdout",
     "output_type": "stream",
     "text": [
      "1/1 [==============================] - 0s 25ms/step\n"
     ]
    },
    {
     "data": {
      "text/plain": [
       "array([[0.01781248]], dtype=float32)"
      ]
     },
     "metadata": {},
     "output_type": "display_data"
    }
   ],
   "source": [
    "model = load_model('../Models/Gender_NN2.hdf5')\n",
    "\n",
    "y_train_pred = model.predict(X_train_images)\n",
    "y_test_pred  = model.predict(X_test_images)\n",
    "\n",
    "y_train_pred2 = [int(round(y_train_pred[x][0],0)) for x in range(len(y_train_pred))]\n",
    "y_test_pred2 = [int(round(y_test_pred[x][0],0)) for x in range(len(y_test_pred))]\n",
    "\n",
    "print(\"Kappa score:\",cohen_kappa_score(y_train_gender, y_train_pred2))\n",
    "print(classification_report(y_train_gender, y_train_pred2, zero_division = True))\n",
    "print(\"Kappa score:\",cohen_kappa_score(y_test_gender, y_test_pred2))\n",
    "print(classification_report(y_test_gender, y_test_pred2, zero_division = True))\n",
    "\n",
    "display(model.predict(np.array([image_preprocess(\"../Data/Test/Alfon.jpg\")])))\n",
    "display(model.predict(np.array([image_preprocess(\"../Data/Test/Alfon2.jpg\")])))\n",
    "display(model.predict(np.array([image_preprocess(\"../Data/Test/Alfon3.jpg\")])))\n",
    "display(model.predict(np.array([image_preprocess(\"../Data/Test/Cande.jpg\")])))\n",
    "display(model.predict(np.array([image_preprocess(\"../Data/Test/Ignacio.jpg\")])))\n",
    "display(model.predict(np.array([image_preprocess(\"../Data/Test/Lydia.jpg\")])))\n",
    "display(model.predict(np.array([image_preprocess(\"../Data/Test/Lydia2.jpg\")])))\n",
    "display(model.predict(np.array([image_preprocess(\"../Data/Test/Mama.jpg\")])))\n",
    "display(model.predict(np.array([image_preprocess(\"../Data/Test/Paz.jpg\")])))\n",
    "display(model.predict(np.array([image_preprocess(\"../Data/Test/Paz2.jpg\")])))\n",
    "display(model.predict(np.array([image_preprocess(\"../Data/Test/Pilar.jpg\")])))\n",
    "display(model.predict(np.array([image_preprocess(\"../Data/Test/Ra.jpg\")])))"
   ]
  },
  {
   "cell_type": "code",
   "execution_count": 186,
   "id": "a95a06dd-44f5-444c-82e3-25141cec61c0",
   "metadata": {
    "tags": []
   },
   "outputs": [
    {
     "name": "stdout",
     "output_type": "stream",
     "text": [
      "426/426 [==============================] - 24s 55ms/step\n",
      "120/120 [==============================] - 9s 74ms/step\n",
      "Kappa score: 0.9613240793942013\n",
      "              precision    recall  f1-score   support\n",
      "\n",
      "           0       0.99      0.98      0.98      7317\n",
      "           1       0.97      0.99      0.98      6295\n",
      "\n",
      "    accuracy                           0.98     13612\n",
      "   macro avg       0.98      0.98      0.98     13612\n",
      "weighted avg       0.98      0.98      0.98     13612\n",
      "\n",
      "Kappa score: 0.7388336677373024\n",
      "              precision    recall  f1-score   support\n",
      "\n",
      "           0       0.89      0.86      0.87      2015\n",
      "           1       0.85      0.88      0.86      1825\n",
      "\n",
      "    accuracy                           0.87      3840\n",
      "   macro avg       0.87      0.87      0.87      3840\n",
      "weighted avg       0.87      0.87      0.87      3840\n",
      "\n",
      "1/1 [==============================] - 2s 2s/step\n"
     ]
    },
    {
     "data": {
      "text/plain": [
       "array([[0.7225587 , 0.47037253]], dtype=float32)"
      ]
     },
     "metadata": {},
     "output_type": "display_data"
    },
    {
     "name": "stdout",
     "output_type": "stream",
     "text": [
      "1/1 [==============================] - 0s 27ms/step\n"
     ]
    },
    {
     "data": {
      "text/plain": [
       "array([[0.61995155, 0.13939387]], dtype=float32)"
      ]
     },
     "metadata": {},
     "output_type": "display_data"
    },
    {
     "name": "stdout",
     "output_type": "stream",
     "text": [
      "1/1 [==============================] - 0s 28ms/step\n"
     ]
    },
    {
     "data": {
      "text/plain": [
       "array([[0.0558153, 0.9033253]], dtype=float32)"
      ]
     },
     "metadata": {},
     "output_type": "display_data"
    },
    {
     "name": "stdout",
     "output_type": "stream",
     "text": [
      "1/1 [==============================] - 0s 25ms/step\n"
     ]
    },
    {
     "data": {
      "text/plain": [
       "array([[0.9932083 , 0.01173154]], dtype=float32)"
      ]
     },
     "metadata": {},
     "output_type": "display_data"
    },
    {
     "name": "stdout",
     "output_type": "stream",
     "text": [
      "1/1 [==============================] - 0s 26ms/step\n"
     ]
    },
    {
     "data": {
      "text/plain": [
       "array([[0.15030806, 0.9099361 ]], dtype=float32)"
      ]
     },
     "metadata": {},
     "output_type": "display_data"
    },
    {
     "name": "stdout",
     "output_type": "stream",
     "text": [
      "1/1 [==============================] - 0s 24ms/step\n"
     ]
    },
    {
     "data": {
      "text/plain": [
       "array([[0.86575  , 0.0824468]], dtype=float32)"
      ]
     },
     "metadata": {},
     "output_type": "display_data"
    },
    {
     "name": "stdout",
     "output_type": "stream",
     "text": [
      "1/1 [==============================] - 0s 27ms/step\n"
     ]
    },
    {
     "data": {
      "text/plain": [
       "array([[0.84765184, 0.33214435]], dtype=float32)"
      ]
     },
     "metadata": {},
     "output_type": "display_data"
    },
    {
     "name": "stdout",
     "output_type": "stream",
     "text": [
      "1/1 [==============================] - 0s 25ms/step\n"
     ]
    },
    {
     "data": {
      "text/plain": [
       "array([[0.6272185 , 0.00441729]], dtype=float32)"
      ]
     },
     "metadata": {},
     "output_type": "display_data"
    },
    {
     "name": "stdout",
     "output_type": "stream",
     "text": [
      "1/1 [==============================] - 0s 25ms/step\n"
     ]
    },
    {
     "data": {
      "text/plain": [
       "array([[0.8283349, 0.2126803]], dtype=float32)"
      ]
     },
     "metadata": {},
     "output_type": "display_data"
    },
    {
     "name": "stdout",
     "output_type": "stream",
     "text": [
      "1/1 [==============================] - 0s 26ms/step\n"
     ]
    },
    {
     "data": {
      "text/plain": [
       "array([[0.8788509 , 0.00777648]], dtype=float32)"
      ]
     },
     "metadata": {},
     "output_type": "display_data"
    },
    {
     "name": "stdout",
     "output_type": "stream",
     "text": [
      "1/1 [==============================] - 0s 29ms/step\n"
     ]
    },
    {
     "data": {
      "text/plain": [
       "array([[0.93306607, 0.12620154]], dtype=float32)"
      ]
     },
     "metadata": {},
     "output_type": "display_data"
    },
    {
     "name": "stdout",
     "output_type": "stream",
     "text": [
      "1/1 [==============================] - 0s 31ms/step\n"
     ]
    },
    {
     "data": {
      "text/plain": [
       "array([[0.00160575, 0.99948037]], dtype=float32)"
      ]
     },
     "metadata": {},
     "output_type": "display_data"
    }
   ],
   "source": [
    "model = load_model('../Models/Gender_NN3.hdf5')\n",
    "\n",
    "y_train_pred = model.predict(X_train_images)\n",
    "y_test_pred  = model.predict(X_test_images)\n",
    "\n",
    "y_train_pred2 = np.argmax(y_train_pred, axis=1).reshape(-1,1)\n",
    "y_test_pred2 = np.argmax(y_test_pred, axis=1).reshape(-1,1)\n",
    "\n",
    "print(\"Kappa score:\",cohen_kappa_score(y_train_gender, y_train_pred2))\n",
    "print(classification_report(y_train_gender, y_train_pred2, zero_division = True))\n",
    "print(\"Kappa score:\",cohen_kappa_score(y_test_gender, y_test_pred2))\n",
    "print(classification_report(y_test_gender, y_test_pred2, zero_division = True))\n",
    "\n",
    "display(model.predict(np.array([image_preprocess(\"../Data/Test/Alfon.jpg\")])))\n",
    "display(model.predict(np.array([image_preprocess(\"../Data/Test/Alfon2.jpg\")])))\n",
    "display(model.predict(np.array([image_preprocess(\"../Data/Test/Alfon3.jpg\")])))\n",
    "display(model.predict(np.array([image_preprocess(\"../Data/Test/Cande.jpg\")])))\n",
    "display(model.predict(np.array([image_preprocess(\"../Data/Test/Ignacio.jpg\")])))\n",
    "display(model.predict(np.array([image_preprocess(\"../Data/Test/Lydia.jpg\")])))\n",
    "display(model.predict(np.array([image_preprocess(\"../Data/Test/Lydia2.jpg\")])))\n",
    "display(model.predict(np.array([image_preprocess(\"../Data/Test/Mama.jpg\")])))\n",
    "display(model.predict(np.array([image_preprocess(\"../Data/Test/Paz.jpg\")])))\n",
    "display(model.predict(np.array([image_preprocess(\"../Data/Test/Paz2.jpg\")])))\n",
    "display(model.predict(np.array([image_preprocess(\"../Data/Test/Pilar.jpg\")])))\n",
    "display(model.predict(np.array([image_preprocess(\"../Data/Test/Ra.jpg\")])))"
   ]
  },
  {
   "cell_type": "code",
   "execution_count": 199,
   "id": "b526e7ef-4e3d-4399-b3b5-e1b37b522a22",
   "metadata": {},
   "outputs": [
    {
     "name": "stdout",
     "output_type": "stream",
     "text": [
      "Model: \"sequential_7\"\n",
      "_________________________________________________________________\n",
      " Layer (type)                Output Shape              Param #   \n",
      "=================================================================\n",
      " conv2d_21 (Conv2D)          (None, 62, 62, 64)        640       \n",
      "                                                                 \n",
      " max_pooling2d_21 (MaxPoolin  (None, 31, 31, 64)       0         \n",
      " g2D)                                                            \n",
      "                                                                 \n",
      " conv2d_22 (Conv2D)          (None, 29, 29, 64)        36928     \n",
      "                                                                 \n",
      " max_pooling2d_22 (MaxPoolin  (None, 14, 14, 64)       0         \n",
      " g2D)                                                            \n",
      "                                                                 \n",
      " conv2d_23 (Conv2D)          (None, 12, 12, 64)        36928     \n",
      "                                                                 \n",
      " max_pooling2d_23 (MaxPoolin  (None, 6, 6, 64)         0         \n",
      " g2D)                                                            \n",
      "                                                                 \n",
      " flatten_7 (Flatten)         (None, 2304)              0         \n",
      "                                                                 \n",
      " dense_14 (Dense)            (None, 64)                147520    \n",
      "                                                                 \n",
      " dense_15 (Dense)            (None, 2)                 130       \n",
      "                                                                 \n",
      "=================================================================\n",
      "Total params: 222,146\n",
      "Trainable params: 222,146\n",
      "Non-trainable params: 0\n",
      "_________________________________________________________________\n"
     ]
    }
   ],
   "source": [
    "model = load_model('../Models/Gender_NN3.hdf5')\n",
    "model.summary()"
   ]
  },
  {
   "cell_type": "code",
   "execution_count": 187,
   "id": "1c3c1144-98a9-4805-b436-b7f0bfea22f1",
   "metadata": {},
   "outputs": [
    {
     "name": "stdout",
     "output_type": "stream",
     "text": [
      "426/426 [==============================] - 24s 56ms/step\n",
      "120/120 [==============================] - 6s 53ms/step\n",
      "Kappa score: 0.9590993829312577\n",
      "              precision    recall  f1-score   support\n",
      "\n",
      "           0       0.99      0.98      0.98      7317\n",
      "           1       0.97      0.98      0.98      6295\n",
      "\n",
      "    accuracy                           0.98     13612\n",
      "   macro avg       0.98      0.98      0.98     13612\n",
      "weighted avg       0.98      0.98      0.98     13612\n",
      "\n",
      "Kappa score: 0.7131794841848091\n",
      "              precision    recall  f1-score   support\n",
      "\n",
      "           0       0.87      0.85      0.86      2015\n",
      "           1       0.84      0.86      0.85      1825\n",
      "\n",
      "    accuracy                           0.86      3840\n",
      "   macro avg       0.86      0.86      0.86      3840\n",
      "weighted avg       0.86      0.86      0.86      3840\n",
      "\n",
      "1/1 [==============================] - 0s 30ms/step\n"
     ]
    },
    {
     "data": {
      "text/plain": [
       "array([[0.81640667, 0.16566283]], dtype=float32)"
      ]
     },
     "metadata": {},
     "output_type": "display_data"
    },
    {
     "name": "stdout",
     "output_type": "stream",
     "text": [
      "1/1 [==============================] - 0s 38ms/step\n"
     ]
    },
    {
     "data": {
      "text/plain": [
       "array([[0.5625996, 0.3058516]], dtype=float32)"
      ]
     },
     "metadata": {},
     "output_type": "display_data"
    },
    {
     "name": "stdout",
     "output_type": "stream",
     "text": [
      "1/1 [==============================] - 0s 32ms/step\n"
     ]
    },
    {
     "data": {
      "text/plain": [
       "array([[5.776033e-05, 9.933044e-01]], dtype=float32)"
      ]
     },
     "metadata": {},
     "output_type": "display_data"
    },
    {
     "name": "stdout",
     "output_type": "stream",
     "text": [
      "1/1 [==============================] - 0s 42ms/step\n"
     ]
    },
    {
     "data": {
      "text/plain": [
       "array([[0.19767766, 0.1708729 ]], dtype=float32)"
      ]
     },
     "metadata": {},
     "output_type": "display_data"
    },
    {
     "name": "stdout",
     "output_type": "stream",
     "text": [
      "1/1 [==============================] - 0s 37ms/step\n"
     ]
    },
    {
     "data": {
      "text/plain": [
       "array([[0.5218073 , 0.18126762]], dtype=float32)"
      ]
     },
     "metadata": {},
     "output_type": "display_data"
    },
    {
     "name": "stdout",
     "output_type": "stream",
     "text": [
      "1/1 [==============================] - 0s 30ms/step\n"
     ]
    },
    {
     "data": {
      "text/plain": [
       "array([[0.6058299 , 0.22640173]], dtype=float32)"
      ]
     },
     "metadata": {},
     "output_type": "display_data"
    },
    {
     "name": "stdout",
     "output_type": "stream",
     "text": [
      "1/1 [==============================] - 0s 34ms/step\n"
     ]
    },
    {
     "data": {
      "text/plain": [
       "array([[0.46107364, 0.35099173]], dtype=float32)"
      ]
     },
     "metadata": {},
     "output_type": "display_data"
    },
    {
     "name": "stdout",
     "output_type": "stream",
     "text": [
      "1/1 [==============================] - 0s 30ms/step\n"
     ]
    },
    {
     "data": {
      "text/plain": [
       "array([[0.9431572 , 0.01587466]], dtype=float32)"
      ]
     },
     "metadata": {},
     "output_type": "display_data"
    },
    {
     "name": "stdout",
     "output_type": "stream",
     "text": [
      "1/1 [==============================] - 0s 31ms/step\n"
     ]
    },
    {
     "data": {
      "text/plain": [
       "array([[0.23118146, 0.8365652 ]], dtype=float32)"
      ]
     },
     "metadata": {},
     "output_type": "display_data"
    },
    {
     "name": "stdout",
     "output_type": "stream",
     "text": [
      "1/1 [==============================] - 0s 28ms/step\n"
     ]
    },
    {
     "data": {
      "text/plain": [
       "array([[0.94889736, 0.00422811]], dtype=float32)"
      ]
     },
     "metadata": {},
     "output_type": "display_data"
    },
    {
     "name": "stdout",
     "output_type": "stream",
     "text": [
      "1/1 [==============================] - 0s 27ms/step\n"
     ]
    },
    {
     "data": {
      "text/plain": [
       "array([[0.80444604, 0.09951599]], dtype=float32)"
      ]
     },
     "metadata": {},
     "output_type": "display_data"
    },
    {
     "name": "stdout",
     "output_type": "stream",
     "text": [
      "1/1 [==============================] - 0s 32ms/step\n"
     ]
    },
    {
     "data": {
      "text/plain": [
       "array([[0.5174379 , 0.47402468]], dtype=float32)"
      ]
     },
     "metadata": {},
     "output_type": "display_data"
    }
   ],
   "source": [
    "model = load_model('../Models/Gender_NN4.hdf5')\n",
    "\n",
    "y_train_pred = model.predict(X_train_images)\n",
    "y_test_pred  = model.predict(X_test_images)\n",
    "\n",
    "y_train_pred2 = np.argmax(y_train_pred, axis=1).reshape(-1,1)\n",
    "y_test_pred2 = np.argmax(y_test_pred, axis=1).reshape(-1,1)\n",
    "\n",
    "print(\"Kappa score:\",cohen_kappa_score(y_train_gender, y_train_pred2))\n",
    "print(classification_report(y_train_gender, y_train_pred2, zero_division = True))\n",
    "print(\"Kappa score:\",cohen_kappa_score(y_test_gender, y_test_pred2))\n",
    "print(classification_report(y_test_gender, y_test_pred2, zero_division = True))\n",
    "\n",
    "display(model.predict(np.array([image_preprocess(\"../Data/Test/Alfon.jpg\")])))\n",
    "display(model.predict(np.array([image_preprocess(\"../Data/Test/Alfon2.jpg\")])))\n",
    "display(model.predict(np.array([image_preprocess(\"../Data/Test/Alfon3.jpg\")])))\n",
    "display(model.predict(np.array([image_preprocess(\"../Data/Test/Cande.jpg\")])))\n",
    "display(model.predict(np.array([image_preprocess(\"../Data/Test/Ignacio.jpg\")])))\n",
    "display(model.predict(np.array([image_preprocess(\"../Data/Test/Lydia.jpg\")])))\n",
    "display(model.predict(np.array([image_preprocess(\"../Data/Test/Lydia2.jpg\")])))\n",
    "display(model.predict(np.array([image_preprocess(\"../Data/Test/Mama.jpg\")])))\n",
    "display(model.predict(np.array([image_preprocess(\"../Data/Test/Paz.jpg\")])))\n",
    "display(model.predict(np.array([image_preprocess(\"../Data/Test/Paz2.jpg\")])))\n",
    "display(model.predict(np.array([image_preprocess(\"../Data/Test/Pilar.jpg\")])))\n",
    "display(model.predict(np.array([image_preprocess(\"../Data/Test/Ra.jpg\")])))"
   ]
  },
  {
   "cell_type": "code",
   "execution_count": 188,
   "id": "e8a50dc5-84a2-47df-957d-0f23e4c64970",
   "metadata": {},
   "outputs": [
    {
     "name": "stdout",
     "output_type": "stream",
     "text": [
      "426/426 [==============================] - 24s 57ms/step\n",
      "120/120 [==============================] - 6s 52ms/step\n",
      "Kappa score: 0.9764977378273978\n",
      "              precision    recall  f1-score   support\n",
      "\n",
      "           0       0.99      0.99      0.99      7317\n",
      "           1       0.99      0.98      0.99      6295\n",
      "\n",
      "    accuracy                           0.99     13612\n",
      "   macro avg       0.99      0.99      0.99     13612\n",
      "weighted avg       0.99      0.99      0.99     13612\n",
      "\n",
      "Kappa score: 0.7096159521902163\n",
      "              precision    recall  f1-score   support\n",
      "\n",
      "           0       0.86      0.87      0.86      2015\n",
      "           1       0.85      0.84      0.85      1825\n",
      "\n",
      "    accuracy                           0.86      3840\n",
      "   macro avg       0.85      0.85      0.85      3840\n",
      "weighted avg       0.86      0.86      0.86      3840\n",
      "\n",
      "1/1 [==============================] - 0s 33ms/step\n"
     ]
    },
    {
     "data": {
      "text/plain": [
       "array([[0.9346781, 0.0792326]], dtype=float32)"
      ]
     },
     "metadata": {},
     "output_type": "display_data"
    },
    {
     "name": "stdout",
     "output_type": "stream",
     "text": [
      "1/1 [==============================] - 0s 29ms/step\n"
     ]
    },
    {
     "data": {
      "text/plain": [
       "array([[0.90897983, 0.07980809]], dtype=float32)"
      ]
     },
     "metadata": {},
     "output_type": "display_data"
    },
    {
     "name": "stdout",
     "output_type": "stream",
     "text": [
      "1/1 [==============================] - 0s 39ms/step\n"
     ]
    },
    {
     "data": {
      "text/plain": [
       "array([[1.1871629e-04, 9.9434811e-01]], dtype=float32)"
      ]
     },
     "metadata": {},
     "output_type": "display_data"
    },
    {
     "name": "stdout",
     "output_type": "stream",
     "text": [
      "1/1 [==============================] - 0s 35ms/step\n"
     ]
    },
    {
     "data": {
      "text/plain": [
       "array([[0.17192067, 0.23709632]], dtype=float32)"
      ]
     },
     "metadata": {},
     "output_type": "display_data"
    },
    {
     "name": "stdout",
     "output_type": "stream",
     "text": [
      "1/1 [==============================] - 0s 43ms/step\n"
     ]
    },
    {
     "data": {
      "text/plain": [
       "array([[0.7158851, 0.1166004]], dtype=float32)"
      ]
     },
     "metadata": {},
     "output_type": "display_data"
    },
    {
     "name": "stdout",
     "output_type": "stream",
     "text": [
      "1/1 [==============================] - 0s 28ms/step\n"
     ]
    },
    {
     "data": {
      "text/plain": [
       "array([[0.78329706, 0.13463211]], dtype=float32)"
      ]
     },
     "metadata": {},
     "output_type": "display_data"
    },
    {
     "name": "stdout",
     "output_type": "stream",
     "text": [
      "1/1 [==============================] - 0s 27ms/step\n"
     ]
    },
    {
     "data": {
      "text/plain": [
       "array([[0.48913893, 0.37295684]], dtype=float32)"
      ]
     },
     "metadata": {},
     "output_type": "display_data"
    },
    {
     "name": "stdout",
     "output_type": "stream",
     "text": [
      "1/1 [==============================] - 0s 30ms/step\n"
     ]
    },
    {
     "data": {
      "text/plain": [
       "array([[0.9612221 , 0.01328603]], dtype=float32)"
      ]
     },
     "metadata": {},
     "output_type": "display_data"
    },
    {
     "name": "stdout",
     "output_type": "stream",
     "text": [
      "1/1 [==============================] - 0s 27ms/step\n"
     ]
    },
    {
     "data": {
      "text/plain": [
       "array([[0.2838027, 0.8095498]], dtype=float32)"
      ]
     },
     "metadata": {},
     "output_type": "display_data"
    },
    {
     "name": "stdout",
     "output_type": "stream",
     "text": [
      "1/1 [==============================] - 0s 57ms/step\n"
     ]
    },
    {
     "data": {
      "text/plain": [
       "array([[0.97720236, 0.00173001]], dtype=float32)"
      ]
     },
     "metadata": {},
     "output_type": "display_data"
    },
    {
     "name": "stdout",
     "output_type": "stream",
     "text": [
      "1/1 [==============================] - 0s 65ms/step\n"
     ]
    },
    {
     "data": {
      "text/plain": [
       "array([[0.92478395, 0.05431846]], dtype=float32)"
      ]
     },
     "metadata": {},
     "output_type": "display_data"
    },
    {
     "name": "stdout",
     "output_type": "stream",
     "text": [
      "1/1 [==============================] - 0s 45ms/step\n"
     ]
    },
    {
     "data": {
      "text/plain": [
       "array([[0.59003854, 0.6343046 ]], dtype=float32)"
      ]
     },
     "metadata": {},
     "output_type": "display_data"
    }
   ],
   "source": [
    "model = load_model('../Models/Gender_NN5.hdf5')\n",
    "\n",
    "y_train_pred = model.predict(X_train_images)\n",
    "y_test_pred  = model.predict(X_test_images)\n",
    "\n",
    "y_train_pred2 = np.argmax(y_train_pred, axis=1).reshape(-1,1)\n",
    "y_test_pred2 = np.argmax(y_test_pred, axis=1).reshape(-1,1)\n",
    "\n",
    "print(\"Kappa score:\",cohen_kappa_score(y_train_gender, y_train_pred2))\n",
    "print(classification_report(y_train_gender, y_train_pred2, zero_division = True))\n",
    "print(\"Kappa score:\",cohen_kappa_score(y_test_gender, y_test_pred2))\n",
    "print(classification_report(y_test_gender, y_test_pred2, zero_division = True))\n",
    "\n",
    "display(model.predict(np.array([image_preprocess(\"../Data/Test/Alfon.jpg\")])))\n",
    "display(model.predict(np.array([image_preprocess(\"../Data/Test/Alfon2.jpg\")])))\n",
    "display(model.predict(np.array([image_preprocess(\"../Data/Test/Alfon3.jpg\")])))\n",
    "display(model.predict(np.array([image_preprocess(\"../Data/Test/Cande.jpg\")])))\n",
    "display(model.predict(np.array([image_preprocess(\"../Data/Test/Ignacio.jpg\")])))\n",
    "display(model.predict(np.array([image_preprocess(\"../Data/Test/Lydia.jpg\")])))\n",
    "display(model.predict(np.array([image_preprocess(\"../Data/Test/Lydia2.jpg\")])))\n",
    "display(model.predict(np.array([image_preprocess(\"../Data/Test/Mama.jpg\")])))\n",
    "display(model.predict(np.array([image_preprocess(\"../Data/Test/Paz.jpg\")])))\n",
    "display(model.predict(np.array([image_preprocess(\"../Data/Test/Paz2.jpg\")])))\n",
    "display(model.predict(np.array([image_preprocess(\"../Data/Test/Pilar.jpg\")])))\n",
    "display(model.predict(np.array([image_preprocess(\"../Data/Test/Ra.jpg\")])))"
   ]
  },
  {
   "cell_type": "code",
   "execution_count": 189,
   "id": "f1f56b9f-6556-4820-a964-9393bf4d59cd",
   "metadata": {},
   "outputs": [
    {
     "name": "stdout",
     "output_type": "stream",
     "text": [
      "426/426 [==============================] - 22s 52ms/step\n",
      "120/120 [==============================] - 5s 45ms/step\n",
      "Kappa score: 0.7382755135116543\n",
      "              precision    recall  f1-score   support\n",
      "\n",
      "           0       0.88      0.88      0.88      7317\n",
      "           1       0.86      0.86      0.86      6295\n",
      "\n",
      "    accuracy                           0.87     13612\n",
      "   macro avg       0.87      0.87      0.87     13612\n",
      "weighted avg       0.87      0.87      0.87     13612\n",
      "\n",
      "Kappa score: 0.6374297807267567\n",
      "              precision    recall  f1-score   support\n",
      "\n",
      "           0       0.82      0.83      0.83      2015\n",
      "           1       0.81      0.80      0.81      1825\n",
      "\n",
      "    accuracy                           0.82      3840\n",
      "   macro avg       0.82      0.82      0.82      3840\n",
      "weighted avg       0.82      0.82      0.82      3840\n",
      "\n",
      "1/1 [==============================] - 0s 26ms/step\n"
     ]
    },
    {
     "data": {
      "text/plain": [
       "array([[0.61628073, 0.13477637]], dtype=float32)"
      ]
     },
     "metadata": {},
     "output_type": "display_data"
    },
    {
     "name": "stdout",
     "output_type": "stream",
     "text": [
      "1/1 [==============================] - 0s 26ms/step\n"
     ]
    },
    {
     "data": {
      "text/plain": [
       "array([[0.17807277, 0.40302372]], dtype=float32)"
      ]
     },
     "metadata": {},
     "output_type": "display_data"
    },
    {
     "name": "stdout",
     "output_type": "stream",
     "text": [
      "1/1 [==============================] - 0s 28ms/step\n"
     ]
    },
    {
     "data": {
      "text/plain": [
       "array([[0.39643577, 0.31734306]], dtype=float32)"
      ]
     },
     "metadata": {},
     "output_type": "display_data"
    },
    {
     "name": "stdout",
     "output_type": "stream",
     "text": [
      "1/1 [==============================] - 0s 28ms/step\n"
     ]
    },
    {
     "data": {
      "text/plain": [
       "array([[0.8687469 , 0.09912923]], dtype=float32)"
      ]
     },
     "metadata": {},
     "output_type": "display_data"
    },
    {
     "name": "stdout",
     "output_type": "stream",
     "text": [
      "1/1 [==============================] - 0s 27ms/step\n"
     ]
    },
    {
     "data": {
      "text/plain": [
       "array([[0.2697211 , 0.44144568]], dtype=float32)"
      ]
     },
     "metadata": {},
     "output_type": "display_data"
    },
    {
     "name": "stdout",
     "output_type": "stream",
     "text": [
      "1/1 [==============================] - 0s 30ms/step\n"
     ]
    },
    {
     "data": {
      "text/plain": [
       "array([[0.4811595, 0.3211596]], dtype=float32)"
      ]
     },
     "metadata": {},
     "output_type": "display_data"
    },
    {
     "name": "stdout",
     "output_type": "stream",
     "text": [
      "1/1 [==============================] - 0s 28ms/step\n"
     ]
    },
    {
     "data": {
      "text/plain": [
       "array([[0.27243468, 0.39943507]], dtype=float32)"
      ]
     },
     "metadata": {},
     "output_type": "display_data"
    },
    {
     "name": "stdout",
     "output_type": "stream",
     "text": [
      "1/1 [==============================] - 0s 30ms/step\n"
     ]
    },
    {
     "data": {
      "text/plain": [
       "array([[0.55192226, 0.16574962]], dtype=float32)"
      ]
     },
     "metadata": {},
     "output_type": "display_data"
    },
    {
     "name": "stdout",
     "output_type": "stream",
     "text": [
      "1/1 [==============================] - 0s 29ms/step\n"
     ]
    },
    {
     "data": {
      "text/plain": [
       "array([[0.30914125, 0.41968182]], dtype=float32)"
      ]
     },
     "metadata": {},
     "output_type": "display_data"
    },
    {
     "name": "stdout",
     "output_type": "stream",
     "text": [
      "1/1 [==============================] - 0s 26ms/step\n"
     ]
    },
    {
     "data": {
      "text/plain": [
       "array([[0.69165057, 0.15755893]], dtype=float32)"
      ]
     },
     "metadata": {},
     "output_type": "display_data"
    },
    {
     "name": "stdout",
     "output_type": "stream",
     "text": [
      "1/1 [==============================] - 0s 27ms/step\n"
     ]
    },
    {
     "data": {
      "text/plain": [
       "array([[0.7866819 , 0.06584659]], dtype=float32)"
      ]
     },
     "metadata": {},
     "output_type": "display_data"
    },
    {
     "name": "stdout",
     "output_type": "stream",
     "text": [
      "1/1 [==============================] - 0s 29ms/step\n"
     ]
    },
    {
     "data": {
      "text/plain": [
       "array([[0.08432576, 0.47341612]], dtype=float32)"
      ]
     },
     "metadata": {},
     "output_type": "display_data"
    }
   ],
   "source": [
    "model = load_model('../Models/Gender_NN6.hdf5')\n",
    "\n",
    "y_train_pred = model.predict(X_train_images)\n",
    "y_test_pred  = model.predict(X_test_images)\n",
    "\n",
    "y_train_pred2 = np.argmax(y_train_pred, axis=1).reshape(-1,1)\n",
    "y_test_pred2 = np.argmax(y_test_pred, axis=1).reshape(-1,1)\n",
    "\n",
    "print(\"Kappa score:\",cohen_kappa_score(y_train_gender, y_train_pred2))\n",
    "print(classification_report(y_train_gender, y_train_pred2, zero_division = True))\n",
    "print(\"Kappa score:\",cohen_kappa_score(y_test_gender, y_test_pred2))\n",
    "print(classification_report(y_test_gender, y_test_pred2, zero_division = True))\n",
    "\n",
    "display(model.predict(np.array([image_preprocess(\"../Data/Test/Alfon.jpg\")])))\n",
    "display(model.predict(np.array([image_preprocess(\"../Data/Test/Alfon2.jpg\")])))\n",
    "display(model.predict(np.array([image_preprocess(\"../Data/Test/Alfon3.jpg\")])))\n",
    "display(model.predict(np.array([image_preprocess(\"../Data/Test/Cande.jpg\")])))\n",
    "display(model.predict(np.array([image_preprocess(\"../Data/Test/Ignacio.jpg\")])))\n",
    "display(model.predict(np.array([image_preprocess(\"../Data/Test/Lydia.jpg\")])))\n",
    "display(model.predict(np.array([image_preprocess(\"../Data/Test/Lydia2.jpg\")])))\n",
    "display(model.predict(np.array([image_preprocess(\"../Data/Test/Mama.jpg\")])))\n",
    "display(model.predict(np.array([image_preprocess(\"../Data/Test/Paz.jpg\")])))\n",
    "display(model.predict(np.array([image_preprocess(\"../Data/Test/Paz2.jpg\")])))\n",
    "display(model.predict(np.array([image_preprocess(\"../Data/Test/Pilar.jpg\")])))\n",
    "display(model.predict(np.array([image_preprocess(\"../Data/Test/Ra.jpg\")])))"
   ]
  },
  {
   "cell_type": "code",
   "execution_count": 193,
   "id": "b956a666-4156-4412-9c40-b23a94c0d65e",
   "metadata": {},
   "outputs": [
    {
     "name": "stdout",
     "output_type": "stream",
     "text": [
      "426/426 [==============================] - 20s 47ms/step\n",
      "120/120 [==============================] - 5s 45ms/step\n",
      "Kappa score: 0.8206517469959245\n",
      "              precision    recall  f1-score   support\n",
      "\n",
      "           0       0.89      0.95      0.92      7317\n",
      "           1       0.93      0.87      0.90      6295\n",
      "\n",
      "    accuracy                           0.91     13612\n",
      "   macro avg       0.91      0.91      0.91     13612\n",
      "weighted avg       0.91      0.91      0.91     13612\n",
      "\n",
      "Kappa score: 0.6852106970311183\n",
      "              precision    recall  f1-score   support\n",
      "\n",
      "           0       0.83      0.88      0.86      2015\n",
      "           1       0.86      0.80      0.83      1825\n",
      "\n",
      "    accuracy                           0.84      3840\n",
      "   macro avg       0.85      0.84      0.84      3840\n",
      "weighted avg       0.84      0.84      0.84      3840\n",
      "\n",
      "1/1 [==============================] - 0s 30ms/step\n"
     ]
    },
    {
     "data": {
      "text/plain": [
       "array([[0.16362569]], dtype=float32)"
      ]
     },
     "metadata": {},
     "output_type": "display_data"
    },
    {
     "name": "stdout",
     "output_type": "stream",
     "text": [
      "1/1 [==============================] - 0s 30ms/step\n"
     ]
    },
    {
     "data": {
      "text/plain": [
       "array([[0.51651347]], dtype=float32)"
      ]
     },
     "metadata": {},
     "output_type": "display_data"
    },
    {
     "name": "stdout",
     "output_type": "stream",
     "text": [
      "1/1 [==============================] - 0s 28ms/step\n"
     ]
    },
    {
     "data": {
      "text/plain": [
       "array([[0.77879155]], dtype=float32)"
      ]
     },
     "metadata": {},
     "output_type": "display_data"
    },
    {
     "name": "stdout",
     "output_type": "stream",
     "text": [
      "1/1 [==============================] - 0s 28ms/step\n"
     ]
    },
    {
     "data": {
      "text/plain": [
       "array([[0.06761437]], dtype=float32)"
      ]
     },
     "metadata": {},
     "output_type": "display_data"
    },
    {
     "name": "stdout",
     "output_type": "stream",
     "text": [
      "1/1 [==============================] - 0s 27ms/step\n"
     ]
    },
    {
     "data": {
      "text/plain": [
       "array([[0.80964977]], dtype=float32)"
      ]
     },
     "metadata": {},
     "output_type": "display_data"
    },
    {
     "name": "stdout",
     "output_type": "stream",
     "text": [
      "1/1 [==============================] - 0s 26ms/step\n"
     ]
    },
    {
     "data": {
      "text/plain": [
       "array([[0.38393688]], dtype=float32)"
      ]
     },
     "metadata": {},
     "output_type": "display_data"
    },
    {
     "name": "stdout",
     "output_type": "stream",
     "text": [
      "1/1 [==============================] - 0s 28ms/step\n"
     ]
    },
    {
     "data": {
      "text/plain": [
       "array([[0.32172388]], dtype=float32)"
      ]
     },
     "metadata": {},
     "output_type": "display_data"
    },
    {
     "name": "stdout",
     "output_type": "stream",
     "text": [
      "1/1 [==============================] - 0s 25ms/step\n"
     ]
    },
    {
     "data": {
      "text/plain": [
       "array([[0.00436076]], dtype=float32)"
      ]
     },
     "metadata": {},
     "output_type": "display_data"
    },
    {
     "name": "stdout",
     "output_type": "stream",
     "text": [
      "1/1 [==============================] - 0s 29ms/step\n"
     ]
    },
    {
     "data": {
      "text/plain": [
       "array([[0.6356337]], dtype=float32)"
      ]
     },
     "metadata": {},
     "output_type": "display_data"
    },
    {
     "name": "stdout",
     "output_type": "stream",
     "text": [
      "1/1 [==============================] - 0s 27ms/step\n"
     ]
    },
    {
     "data": {
      "text/plain": [
       "array([[0.00274541]], dtype=float32)"
      ]
     },
     "metadata": {},
     "output_type": "display_data"
    },
    {
     "name": "stdout",
     "output_type": "stream",
     "text": [
      "1/1 [==============================] - 0s 29ms/step\n"
     ]
    },
    {
     "data": {
      "text/plain": [
       "array([[0.00271719]], dtype=float32)"
      ]
     },
     "metadata": {},
     "output_type": "display_data"
    },
    {
     "name": "stdout",
     "output_type": "stream",
     "text": [
      "1/1 [==============================] - 0s 26ms/step\n"
     ]
    },
    {
     "data": {
      "text/plain": [
       "array([[0.5337915]], dtype=float32)"
      ]
     },
     "metadata": {},
     "output_type": "display_data"
    }
   ],
   "source": [
    "model = load_model('../Models/Gender_NN7.hdf5')\n",
    "\n",
    "y_train_pred = model.predict(X_train_images)\n",
    "y_test_pred  = model.predict(X_test_images)\n",
    "\n",
    "y_train_pred2 = [int(round(y_train_pred[x][0],0)) for x in range(len(y_train_pred))]\n",
    "y_test_pred2 = [int(round(y_test_pred[x][0],0)) for x in range(len(y_test_pred))]\n",
    "\n",
    "print(\"Kappa score:\",cohen_kappa_score(y_train_gender, y_train_pred2))\n",
    "print(classification_report(y_train_gender, y_train_pred2, zero_division = True))\n",
    "print(\"Kappa score:\",cohen_kappa_score(y_test_gender, y_test_pred2))\n",
    "print(classification_report(y_test_gender, y_test_pred2, zero_division = True))\n",
    "\n",
    "display(model.predict(np.array([image_preprocess(\"../Data/Test/Alfon.jpg\")])))\n",
    "display(model.predict(np.array([image_preprocess(\"../Data/Test/Alfon2.jpg\")])))\n",
    "display(model.predict(np.array([image_preprocess(\"../Data/Test/Alfon3.jpg\")])))\n",
    "display(model.predict(np.array([image_preprocess(\"../Data/Test/Cande.jpg\")])))\n",
    "display(model.predict(np.array([image_preprocess(\"../Data/Test/Ignacio.jpg\")])))\n",
    "display(model.predict(np.array([image_preprocess(\"../Data/Test/Lydia.jpg\")])))\n",
    "display(model.predict(np.array([image_preprocess(\"../Data/Test/Lydia2.jpg\")])))\n",
    "display(model.predict(np.array([image_preprocess(\"../Data/Test/Mama.jpg\")])))\n",
    "display(model.predict(np.array([image_preprocess(\"../Data/Test/Paz.jpg\")])))\n",
    "display(model.predict(np.array([image_preprocess(\"../Data/Test/Paz2.jpg\")])))\n",
    "display(model.predict(np.array([image_preprocess(\"../Data/Test/Pilar.jpg\")])))\n",
    "display(model.predict(np.array([image_preprocess(\"../Data/Test/Ra.jpg\")])))"
   ]
  },
  {
   "cell_type": "code",
   "execution_count": 191,
   "id": "a566205d-f9c0-4896-bf0a-298c37dcd023",
   "metadata": {},
   "outputs": [
    {
     "name": "stdout",
     "output_type": "stream",
     "text": [
      "426/426 [==============================] - 17s 39ms/step\n",
      "120/120 [==============================] - 6s 46ms/step\n",
      "Kappa score: 0.7329338881361253\n",
      "              precision    recall  f1-score   support\n",
      "\n",
      "           0       0.89      0.86      0.87      7317\n",
      "           1       0.84      0.88      0.86      6295\n",
      "\n",
      "    accuracy                           0.87     13612\n",
      "   macro avg       0.87      0.87      0.87     13612\n",
      "weighted avg       0.87      0.87      0.87     13612\n",
      "\n",
      "Kappa score: 0.5919351161199962\n",
      "              precision    recall  f1-score   support\n",
      "\n",
      "           0       0.82      0.79      0.80      2015\n",
      "           1       0.77      0.80      0.79      1825\n",
      "\n",
      "    accuracy                           0.80      3840\n",
      "   macro avg       0.80      0.80      0.80      3840\n",
      "weighted avg       0.80      0.80      0.80      3840\n",
      "\n",
      "1/1 [==============================] - 0s 31ms/step\n"
     ]
    },
    {
     "data": {
      "text/plain": [
       "array([[0.44438887]], dtype=float32)"
      ]
     },
     "metadata": {},
     "output_type": "display_data"
    },
    {
     "name": "stdout",
     "output_type": "stream",
     "text": [
      "1/1 [==============================] - 0s 34ms/step\n"
     ]
    },
    {
     "data": {
      "text/plain": [
       "array([[0.02164423]], dtype=float32)"
      ]
     },
     "metadata": {},
     "output_type": "display_data"
    },
    {
     "name": "stdout",
     "output_type": "stream",
     "text": [
      "1/1 [==============================] - 0s 35ms/step\n"
     ]
    },
    {
     "data": {
      "text/plain": [
       "array([[0.9997236]], dtype=float32)"
      ]
     },
     "metadata": {},
     "output_type": "display_data"
    },
    {
     "name": "stdout",
     "output_type": "stream",
     "text": [
      "1/1 [==============================] - 0s 27ms/step\n"
     ]
    },
    {
     "data": {
      "text/plain": [
       "array([[0.6715678]], dtype=float32)"
      ]
     },
     "metadata": {},
     "output_type": "display_data"
    },
    {
     "name": "stdout",
     "output_type": "stream",
     "text": [
      "1/1 [==============================] - 0s 28ms/step\n"
     ]
    },
    {
     "data": {
      "text/plain": [
       "array([[0.83996594]], dtype=float32)"
      ]
     },
     "metadata": {},
     "output_type": "display_data"
    },
    {
     "name": "stdout",
     "output_type": "stream",
     "text": [
      "1/1 [==============================] - 0s 33ms/step\n"
     ]
    },
    {
     "data": {
      "text/plain": [
       "array([[0.895308]], dtype=float32)"
      ]
     },
     "metadata": {},
     "output_type": "display_data"
    },
    {
     "name": "stdout",
     "output_type": "stream",
     "text": [
      "1/1 [==============================] - 0s 26ms/step\n"
     ]
    },
    {
     "data": {
      "text/plain": [
       "array([[0.4640497]], dtype=float32)"
      ]
     },
     "metadata": {},
     "output_type": "display_data"
    },
    {
     "name": "stdout",
     "output_type": "stream",
     "text": [
      "1/1 [==============================] - 0s 26ms/step\n"
     ]
    },
    {
     "data": {
      "text/plain": [
       "array([[0.34878325]], dtype=float32)"
      ]
     },
     "metadata": {},
     "output_type": "display_data"
    },
    {
     "name": "stdout",
     "output_type": "stream",
     "text": [
      "1/1 [==============================] - 0s 28ms/step\n"
     ]
    },
    {
     "data": {
      "text/plain": [
       "array([[0.35067052]], dtype=float32)"
      ]
     },
     "metadata": {},
     "output_type": "display_data"
    },
    {
     "name": "stdout",
     "output_type": "stream",
     "text": [
      "1/1 [==============================] - 0s 28ms/step\n"
     ]
    },
    {
     "data": {
      "text/plain": [
       "array([[0.01623635]], dtype=float32)"
      ]
     },
     "metadata": {},
     "output_type": "display_data"
    },
    {
     "name": "stdout",
     "output_type": "stream",
     "text": [
      "1/1 [==============================] - 0s 26ms/step\n"
     ]
    },
    {
     "data": {
      "text/plain": [
       "array([[0.00101256]], dtype=float32)"
      ]
     },
     "metadata": {},
     "output_type": "display_data"
    },
    {
     "name": "stdout",
     "output_type": "stream",
     "text": [
      "1/1 [==============================] - 0s 27ms/step\n"
     ]
    },
    {
     "data": {
      "text/plain": [
       "array([[0.9530199]], dtype=float32)"
      ]
     },
     "metadata": {},
     "output_type": "display_data"
    }
   ],
   "source": [
    "model = load_model('../Models/Gender_NN8.hdf5')\n",
    "\n",
    "y_train_pred = model.predict(X_train_images)\n",
    "y_test_pred  = model.predict(X_test_images)\n",
    "\n",
    "y_train_pred2 = [int(round(y_train_pred[x][0],0)) for x in range(len(y_train_pred))]\n",
    "y_test_pred2 = [int(round(y_test_pred[x][0],0)) for x in range(len(y_test_pred))]\n",
    "\n",
    "print(\"Kappa score:\",cohen_kappa_score(y_train_gender, y_train_pred2))\n",
    "print(classification_report(y_train_gender, y_train_pred2, zero_division = True))\n",
    "print(\"Kappa score:\",cohen_kappa_score(y_test_gender, y_test_pred2))\n",
    "print(classification_report(y_test_gender, y_test_pred2, zero_division = True))\n",
    "\n",
    "display(model.predict(np.array([image_preprocess(\"../Data/Test/Alfon.jpg\")])))\n",
    "display(model.predict(np.array([image_preprocess(\"../Data/Test/Alfon2.jpg\")])))\n",
    "display(model.predict(np.array([image_preprocess(\"../Data/Test/Alfon3.jpg\")])))\n",
    "display(model.predict(np.array([image_preprocess(\"../Data/Test/Cande.jpg\")])))\n",
    "display(model.predict(np.array([image_preprocess(\"../Data/Test/Ignacio.jpg\")])))\n",
    "display(model.predict(np.array([image_preprocess(\"../Data/Test/Lydia.jpg\")])))\n",
    "display(model.predict(np.array([image_preprocess(\"../Data/Test/Lydia2.jpg\")])))\n",
    "display(model.predict(np.array([image_preprocess(\"../Data/Test/Mama.jpg\")])))\n",
    "display(model.predict(np.array([image_preprocess(\"../Data/Test/Paz.jpg\")])))\n",
    "display(model.predict(np.array([image_preprocess(\"../Data/Test/Paz2.jpg\")])))\n",
    "display(model.predict(np.array([image_preprocess(\"../Data/Test/Pilar.jpg\")])))\n",
    "display(model.predict(np.array([image_preprocess(\"../Data/Test/Ra.jpg\")])))"
   ]
  },
  {
   "cell_type": "code",
   "execution_count": 194,
   "id": "197e9df7-1721-4645-b418-f0059ac5003f",
   "metadata": {},
   "outputs": [
    {
     "name": "stdout",
     "output_type": "stream",
     "text": [
      "426/426 [==============================] - 16s 37ms/step\n",
      "120/120 [==============================] - 5s 42ms/step\n",
      "Kappa score: 0.7249522532921188\n",
      "              precision    recall  f1-score   support\n",
      "\n",
      "           0       0.86      0.89      0.88      7317\n",
      "           1       0.87      0.83      0.85      6295\n",
      "\n",
      "    accuracy                           0.86     13612\n",
      "   macro avg       0.86      0.86      0.86     13612\n",
      "weighted avg       0.86      0.86      0.86     13612\n",
      "\n",
      "Kappa score: 0.6105630625411491\n",
      "              precision    recall  f1-score   support\n",
      "\n",
      "           0       0.80      0.84      0.82      2015\n",
      "           1       0.81      0.77      0.79      1825\n",
      "\n",
      "    accuracy                           0.81      3840\n",
      "   macro avg       0.81      0.80      0.81      3840\n",
      "weighted avg       0.81      0.81      0.81      3840\n",
      "\n",
      "1/1 [==============================] - 0s 34ms/step\n"
     ]
    },
    {
     "data": {
      "text/plain": [
       "array([[0.33120194, 0.6343772 ]], dtype=float32)"
      ]
     },
     "metadata": {},
     "output_type": "display_data"
    },
    {
     "name": "stdout",
     "output_type": "stream",
     "text": [
      "1/1 [==============================] - 0s 28ms/step\n"
     ]
    },
    {
     "data": {
      "text/plain": [
       "array([[0.83777905, 0.11902095]], dtype=float32)"
      ]
     },
     "metadata": {},
     "output_type": "display_data"
    },
    {
     "name": "stdout",
     "output_type": "stream",
     "text": [
      "1/1 [==============================] - 0s 26ms/step\n"
     ]
    },
    {
     "data": {
      "text/plain": [
       "array([[0.02092654, 0.8883459 ]], dtype=float32)"
      ]
     },
     "metadata": {},
     "output_type": "display_data"
    },
    {
     "name": "stdout",
     "output_type": "stream",
     "text": [
      "1/1 [==============================] - 0s 26ms/step\n"
     ]
    },
    {
     "data": {
      "text/plain": [
       "array([[0.3234418 , 0.41438407]], dtype=float32)"
      ]
     },
     "metadata": {},
     "output_type": "display_data"
    },
    {
     "name": "stdout",
     "output_type": "stream",
     "text": [
      "1/1 [==============================] - 0s 25ms/step\n"
     ]
    },
    {
     "data": {
      "text/plain": [
       "array([[0.3225148 , 0.42529425]], dtype=float32)"
      ]
     },
     "metadata": {},
     "output_type": "display_data"
    },
    {
     "name": "stdout",
     "output_type": "stream",
     "text": [
      "1/1 [==============================] - 0s 24ms/step\n"
     ]
    },
    {
     "data": {
      "text/plain": [
       "array([[0.5570909, 0.2323999]], dtype=float32)"
      ]
     },
     "metadata": {},
     "output_type": "display_data"
    },
    {
     "name": "stdout",
     "output_type": "stream",
     "text": [
      "1/1 [==============================] - 0s 26ms/step\n"
     ]
    },
    {
     "data": {
      "text/plain": [
       "array([[0.3967304 , 0.22768113]], dtype=float32)"
      ]
     },
     "metadata": {},
     "output_type": "display_data"
    },
    {
     "name": "stdout",
     "output_type": "stream",
     "text": [
      "1/1 [==============================] - 0s 24ms/step\n"
     ]
    },
    {
     "data": {
      "text/plain": [
       "array([[0.35527548, 0.4459674 ]], dtype=float32)"
      ]
     },
     "metadata": {},
     "output_type": "display_data"
    },
    {
     "name": "stdout",
     "output_type": "stream",
     "text": [
      "1/1 [==============================] - 0s 26ms/step\n"
     ]
    },
    {
     "data": {
      "text/plain": [
       "array([[0.30175805, 0.2306424 ]], dtype=float32)"
      ]
     },
     "metadata": {},
     "output_type": "display_data"
    },
    {
     "name": "stdout",
     "output_type": "stream",
     "text": [
      "1/1 [==============================] - 0s 26ms/step\n"
     ]
    },
    {
     "data": {
      "text/plain": [
       "array([[0.96229213, 0.02005806]], dtype=float32)"
      ]
     },
     "metadata": {},
     "output_type": "display_data"
    },
    {
     "name": "stdout",
     "output_type": "stream",
     "text": [
      "1/1 [==============================] - 0s 29ms/step\n"
     ]
    },
    {
     "data": {
      "text/plain": [
       "array([[0.98544717, 0.01047089]], dtype=float32)"
      ]
     },
     "metadata": {},
     "output_type": "display_data"
    },
    {
     "name": "stdout",
     "output_type": "stream",
     "text": [
      "1/1 [==============================] - 0s 25ms/step\n"
     ]
    },
    {
     "data": {
      "text/plain": [
       "array([[0.15202692, 0.8229698 ]], dtype=float32)"
      ]
     },
     "metadata": {},
     "output_type": "display_data"
    }
   ],
   "source": [
    "model = load_model('../Models/Gender_NN9.hdf5')\n",
    "\n",
    "y_train_pred = model.predict(X_train_images)\n",
    "y_test_pred  = model.predict(X_test_images)\n",
    "\n",
    "y_train_pred2 = np.argmax(y_train_pred, axis=1).reshape(-1,1)\n",
    "y_test_pred2 = np.argmax(y_test_pred, axis=1).reshape(-1,1)\n",
    "\n",
    "print(\"Kappa score:\",cohen_kappa_score(y_train_gender, y_train_pred2))\n",
    "print(classification_report(y_train_gender, y_train_pred2, zero_division = True))\n",
    "print(\"Kappa score:\",cohen_kappa_score(y_test_gender, y_test_pred2))\n",
    "print(classification_report(y_test_gender, y_test_pred2, zero_division = True))\n",
    "\n",
    "display(model.predict(np.array([image_preprocess(\"../Data/Test/Alfon.jpg\")])))\n",
    "display(model.predict(np.array([image_preprocess(\"../Data/Test/Alfon2.jpg\")])))\n",
    "display(model.predict(np.array([image_preprocess(\"../Data/Test/Alfon3.jpg\")])))\n",
    "display(model.predict(np.array([image_preprocess(\"../Data/Test/Cande.jpg\")])))\n",
    "display(model.predict(np.array([image_preprocess(\"../Data/Test/Ignacio.jpg\")])))\n",
    "display(model.predict(np.array([image_preprocess(\"../Data/Test/Lydia.jpg\")])))\n",
    "display(model.predict(np.array([image_preprocess(\"../Data/Test/Lydia2.jpg\")])))\n",
    "display(model.predict(np.array([image_preprocess(\"../Data/Test/Mama.jpg\")])))\n",
    "display(model.predict(np.array([image_preprocess(\"../Data/Test/Paz.jpg\")])))\n",
    "display(model.predict(np.array([image_preprocess(\"../Data/Test/Paz2.jpg\")])))\n",
    "display(model.predict(np.array([image_preprocess(\"../Data/Test/Pilar.jpg\")])))\n",
    "display(model.predict(np.array([image_preprocess(\"../Data/Test/Ra.jpg\")])))"
   ]
  },
  {
   "cell_type": "code",
   "execution_count": 197,
   "id": "25faafbb-d7c2-4ce9-a1bd-7cf96ac15a46",
   "metadata": {},
   "outputs": [
    {
     "name": "stdout",
     "output_type": "stream",
     "text": [
      "426/426 [==============================] - 17s 40ms/step\n",
      "120/120 [==============================] - 4s 37ms/step\n",
      "Kappa score: 0.7406782551475342\n",
      "              precision    recall  f1-score   support\n",
      "\n",
      "           0       0.89      0.87      0.88      7317\n",
      "           1       0.85      0.87      0.86      6295\n",
      "\n",
      "    accuracy                           0.87     13612\n",
      "   macro avg       0.87      0.87      0.87     13612\n",
      "weighted avg       0.87      0.87      0.87     13612\n",
      "\n",
      "Kappa score: 0.5999798727905967\n",
      "              precision    recall  f1-score   support\n",
      "\n",
      "           0       0.81      0.81      0.81      2015\n",
      "           1       0.79      0.79      0.79      1825\n",
      "\n",
      "    accuracy                           0.80      3840\n",
      "   macro avg       0.80      0.80      0.80      3840\n",
      "weighted avg       0.80      0.80      0.80      3840\n",
      "\n",
      "1/1 [==============================] - 0s 26ms/step\n"
     ]
    },
    {
     "data": {
      "text/plain": [
       "array([[0.91418284]], dtype=float32)"
      ]
     },
     "metadata": {},
     "output_type": "display_data"
    },
    {
     "name": "stdout",
     "output_type": "stream",
     "text": [
      "1/1 [==============================] - 0s 24ms/step\n"
     ]
    },
    {
     "data": {
      "text/plain": [
       "array([[0.06656773]], dtype=float32)"
      ]
     },
     "metadata": {},
     "output_type": "display_data"
    },
    {
     "name": "stdout",
     "output_type": "stream",
     "text": [
      "1/1 [==============================] - 0s 26ms/step\n"
     ]
    },
    {
     "data": {
      "text/plain": [
       "array([[0.9961306]], dtype=float32)"
      ]
     },
     "metadata": {},
     "output_type": "display_data"
    },
    {
     "name": "stdout",
     "output_type": "stream",
     "text": [
      "1/1 [==============================] - 0s 24ms/step\n"
     ]
    },
    {
     "data": {
      "text/plain": [
       "array([[0.50484955]], dtype=float32)"
      ]
     },
     "metadata": {},
     "output_type": "display_data"
    },
    {
     "name": "stdout",
     "output_type": "stream",
     "text": [
      "1/1 [==============================] - 0s 25ms/step\n"
     ]
    },
    {
     "data": {
      "text/plain": [
       "array([[0.76812255]], dtype=float32)"
      ]
     },
     "metadata": {},
     "output_type": "display_data"
    },
    {
     "name": "stdout",
     "output_type": "stream",
     "text": [
      "1/1 [==============================] - 0s 24ms/step\n"
     ]
    },
    {
     "data": {
      "text/plain": [
       "array([[0.73173606]], dtype=float32)"
      ]
     },
     "metadata": {},
     "output_type": "display_data"
    },
    {
     "name": "stdout",
     "output_type": "stream",
     "text": [
      "1/1 [==============================] - 0s 24ms/step\n"
     ]
    },
    {
     "data": {
      "text/plain": [
       "array([[0.93292]], dtype=float32)"
      ]
     },
     "metadata": {},
     "output_type": "display_data"
    },
    {
     "name": "stdout",
     "output_type": "stream",
     "text": [
      "1/1 [==============================] - 0s 25ms/step\n"
     ]
    },
    {
     "data": {
      "text/plain": [
       "array([[0.422247]], dtype=float32)"
      ]
     },
     "metadata": {},
     "output_type": "display_data"
    },
    {
     "name": "stdout",
     "output_type": "stream",
     "text": [
      "1/1 [==============================] - 0s 24ms/step\n"
     ]
    },
    {
     "data": {
      "text/plain": [
       "array([[0.51066226]], dtype=float32)"
      ]
     },
     "metadata": {},
     "output_type": "display_data"
    },
    {
     "name": "stdout",
     "output_type": "stream",
     "text": [
      "1/1 [==============================] - 0s 25ms/step\n"
     ]
    },
    {
     "data": {
      "text/plain": [
       "array([[4.6653236e-06]], dtype=float32)"
      ]
     },
     "metadata": {},
     "output_type": "display_data"
    },
    {
     "name": "stdout",
     "output_type": "stream",
     "text": [
      "1/1 [==============================] - 0s 25ms/step\n"
     ]
    },
    {
     "data": {
      "text/plain": [
       "array([[1.6900859e-06]], dtype=float32)"
      ]
     },
     "metadata": {},
     "output_type": "display_data"
    },
    {
     "name": "stdout",
     "output_type": "stream",
     "text": [
      "1/1 [==============================] - 0s 27ms/step\n"
     ]
    },
    {
     "data": {
      "text/plain": [
       "array([[0.9794125]], dtype=float32)"
      ]
     },
     "metadata": {},
     "output_type": "display_data"
    }
   ],
   "source": [
    "model = load_model('../Models/Gender_NN10.hdf5')\n",
    "\n",
    "y_train_pred = model.predict(X_train_images)\n",
    "y_test_pred  = model.predict(X_test_images)\n",
    "\n",
    "y_train_pred2 = [int(round(y_train_pred[x][0],0)) for x in range(len(y_train_pred))]\n",
    "y_test_pred2 = [int(round(y_test_pred[x][0],0)) for x in range(len(y_test_pred))]\n",
    "\n",
    "print(\"Kappa score:\",cohen_kappa_score(y_train_gender, y_train_pred2))\n",
    "print(classification_report(y_train_gender, y_train_pred2, zero_division = True))\n",
    "print(\"Kappa score:\",cohen_kappa_score(y_test_gender, y_test_pred2))\n",
    "print(classification_report(y_test_gender, y_test_pred2, zero_division = True))\n",
    "\n",
    "display(model.predict(np.array([image_preprocess(\"../Data/Test/Alfon.jpg\")])))\n",
    "display(model.predict(np.array([image_preprocess(\"../Data/Test/Alfon2.jpg\")])))\n",
    "display(model.predict(np.array([image_preprocess(\"../Data/Test/Alfon3.jpg\")])))\n",
    "display(model.predict(np.array([image_preprocess(\"../Data/Test/Cande.jpg\")])))\n",
    "display(model.predict(np.array([image_preprocess(\"../Data/Test/Ignacio.jpg\")])))\n",
    "display(model.predict(np.array([image_preprocess(\"../Data/Test/Lydia.jpg\")])))\n",
    "display(model.predict(np.array([image_preprocess(\"../Data/Test/Lydia2.jpg\")])))\n",
    "display(model.predict(np.array([image_preprocess(\"../Data/Test/Mama.jpg\")])))\n",
    "display(model.predict(np.array([image_preprocess(\"../Data/Test/Paz.jpg\")])))\n",
    "display(model.predict(np.array([image_preprocess(\"../Data/Test/Paz2.jpg\")])))\n",
    "display(model.predict(np.array([image_preprocess(\"../Data/Test/Pilar.jpg\")])))\n",
    "display(model.predict(np.array([image_preprocess(\"../Data/Test/Ra.jpg\")])))"
   ]
  },
  {
   "cell_type": "code",
   "execution_count": 198,
   "id": "be144a5d-3882-4a6f-a8cd-032e29113aa5",
   "metadata": {},
   "outputs": [
    {
     "name": "stdout",
     "output_type": "stream",
     "text": [
      "426/426 [==============================] - 16s 38ms/step\n",
      "120/120 [==============================] - 5s 39ms/step\n",
      "Kappa score: 0.6785200661452317\n",
      "              precision    recall  f1-score   support\n",
      "\n",
      "           0       0.84      0.86      0.85      7317\n",
      "           1       0.84      0.81      0.82      6295\n",
      "\n",
      "    accuracy                           0.84     13612\n",
      "   macro avg       0.84      0.84      0.84     13612\n",
      "weighted avg       0.84      0.84      0.84     13612\n",
      "\n",
      "Kappa score: 0.5679992808704737\n",
      "              precision    recall  f1-score   support\n",
      "\n",
      "           0       0.79      0.81      0.80      2015\n",
      "           1       0.78      0.76      0.77      1825\n",
      "\n",
      "    accuracy                           0.78      3840\n",
      "   macro avg       0.78      0.78      0.78      3840\n",
      "weighted avg       0.78      0.78      0.78      3840\n",
      "\n",
      "1/1 [==============================] - 0s 29ms/step\n"
     ]
    },
    {
     "data": {
      "text/plain": [
       "array([[0.6406086]], dtype=float32)"
      ]
     },
     "metadata": {},
     "output_type": "display_data"
    },
    {
     "name": "stdout",
     "output_type": "stream",
     "text": [
      "1/1 [==============================] - 0s 26ms/step\n"
     ]
    },
    {
     "data": {
      "text/plain": [
       "array([[0.4598151]], dtype=float32)"
      ]
     },
     "metadata": {},
     "output_type": "display_data"
    },
    {
     "name": "stdout",
     "output_type": "stream",
     "text": [
      "1/1 [==============================] - 0s 28ms/step\n"
     ]
    },
    {
     "data": {
      "text/plain": [
       "array([[0.99727935]], dtype=float32)"
      ]
     },
     "metadata": {},
     "output_type": "display_data"
    },
    {
     "name": "stdout",
     "output_type": "stream",
     "text": [
      "1/1 [==============================] - 0s 25ms/step\n"
     ]
    },
    {
     "data": {
      "text/plain": [
       "array([[0.41300726]], dtype=float32)"
      ]
     },
     "metadata": {},
     "output_type": "display_data"
    },
    {
     "name": "stdout",
     "output_type": "stream",
     "text": [
      "1/1 [==============================] - 0s 29ms/step\n"
     ]
    },
    {
     "data": {
      "text/plain": [
       "array([[0.71606326]], dtype=float32)"
      ]
     },
     "metadata": {},
     "output_type": "display_data"
    },
    {
     "name": "stdout",
     "output_type": "stream",
     "text": [
      "1/1 [==============================] - 0s 27ms/step\n"
     ]
    },
    {
     "data": {
      "text/plain": [
       "array([[0.9443553]], dtype=float32)"
      ]
     },
     "metadata": {},
     "output_type": "display_data"
    },
    {
     "name": "stdout",
     "output_type": "stream",
     "text": [
      "1/1 [==============================] - 0s 27ms/step\n"
     ]
    },
    {
     "data": {
      "text/plain": [
       "array([[0.21612847]], dtype=float32)"
      ]
     },
     "metadata": {},
     "output_type": "display_data"
    },
    {
     "name": "stdout",
     "output_type": "stream",
     "text": [
      "1/1 [==============================] - 0s 26ms/step\n"
     ]
    },
    {
     "data": {
      "text/plain": [
       "array([[0.658705]], dtype=float32)"
      ]
     },
     "metadata": {},
     "output_type": "display_data"
    },
    {
     "name": "stdout",
     "output_type": "stream",
     "text": [
      "1/1 [==============================] - 0s 26ms/step\n"
     ]
    },
    {
     "data": {
      "text/plain": [
       "array([[0.04200867]], dtype=float32)"
      ]
     },
     "metadata": {},
     "output_type": "display_data"
    },
    {
     "name": "stdout",
     "output_type": "stream",
     "text": [
      "1/1 [==============================] - 0s 27ms/step\n"
     ]
    },
    {
     "data": {
      "text/plain": [
       "array([[0.07762421]], dtype=float32)"
      ]
     },
     "metadata": {},
     "output_type": "display_data"
    },
    {
     "name": "stdout",
     "output_type": "stream",
     "text": [
      "1/1 [==============================] - 0s 25ms/step\n"
     ]
    },
    {
     "data": {
      "text/plain": [
       "array([[0.0098795]], dtype=float32)"
      ]
     },
     "metadata": {},
     "output_type": "display_data"
    },
    {
     "name": "stdout",
     "output_type": "stream",
     "text": [
      "1/1 [==============================] - 0s 25ms/step\n"
     ]
    },
    {
     "data": {
      "text/plain": [
       "array([[0.8202972]], dtype=float32)"
      ]
     },
     "metadata": {},
     "output_type": "display_data"
    }
   ],
   "source": [
    "model = load_model('../Models/Gender_NN11.hdf5')\n",
    "\n",
    "y_train_pred = model.predict(X_train_images)\n",
    "y_test_pred  = model.predict(X_test_images)\n",
    "\n",
    "y_train_pred2 = [int(round(y_train_pred[x][0],0)) for x in range(len(y_train_pred))]\n",
    "y_test_pred2 = [int(round(y_test_pred[x][0],0)) for x in range(len(y_test_pred))]\n",
    "\n",
    "print(\"Kappa score:\",cohen_kappa_score(y_train_gender, y_train_pred2))\n",
    "print(classification_report(y_train_gender, y_train_pred2, zero_division = True))\n",
    "print(\"Kappa score:\",cohen_kappa_score(y_test_gender, y_test_pred2))\n",
    "print(classification_report(y_test_gender, y_test_pred2, zero_division = True))\n",
    "\n",
    "display(model.predict(np.array([image_preprocess(\"../Data/Test/Alfon.jpg\")])))\n",
    "display(model.predict(np.array([image_preprocess(\"../Data/Test/Alfon2.jpg\")])))\n",
    "display(model.predict(np.array([image_preprocess(\"../Data/Test/Alfon3.jpg\")])))\n",
    "display(model.predict(np.array([image_preprocess(\"../Data/Test/Cande.jpg\")])))\n",
    "display(model.predict(np.array([image_preprocess(\"../Data/Test/Ignacio.jpg\")])))\n",
    "display(model.predict(np.array([image_preprocess(\"../Data/Test/Lydia.jpg\")])))\n",
    "display(model.predict(np.array([image_preprocess(\"../Data/Test/Lydia2.jpg\")])))\n",
    "display(model.predict(np.array([image_preprocess(\"../Data/Test/Mama.jpg\")])))\n",
    "display(model.predict(np.array([image_preprocess(\"../Data/Test/Paz.jpg\")])))\n",
    "display(model.predict(np.array([image_preprocess(\"../Data/Test/Paz2.jpg\")])))\n",
    "display(model.predict(np.array([image_preprocess(\"../Data/Test/Pilar.jpg\")])))\n",
    "display(model.predict(np.array([image_preprocess(\"../Data/Test/Ra.jpg\")])))"
   ]
  }
 ],
 "metadata": {
  "kernelspec": {
   "display_name": "Python 3 (ipykernel)",
   "language": "python",
   "name": "python3"
  },
  "language_info": {
   "codemirror_mode": {
    "name": "ipython",
    "version": 3
   },
   "file_extension": ".py",
   "mimetype": "text/x-python",
   "name": "python",
   "nbconvert_exporter": "python",
   "pygments_lexer": "ipython3",
   "version": "3.9.13"
  }
 },
 "nbformat": 4,
 "nbformat_minor": 5
}
