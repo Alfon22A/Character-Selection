{
 "cells": [
  {
   "cell_type": "code",
   "execution_count": 245,
   "id": "91f21f97-de22-4ece-90f2-ed2a1324f5ad",
   "metadata": {},
   "outputs": [],
   "source": [
    "import numpy as np\n",
    "import pandas as pd\n",
    "import glob\n",
    "from skimage import io\n",
    "\n",
    "from sklearn.model_selection import train_test_split\n",
    "from sklearn.metrics import cohen_kappa_score, classification_report\n",
    "\n",
    "import matplotlib.pyplot as plt\n",
    "%matplotlib inline\n",
    "\n",
    "import tensorflow as tf\n",
    "from tensorflow.keras.models import Sequential\n",
    "from tensorflow.keras.layers import Conv2D, MaxPool2D, Activation, Dropout, Flatten, Dense, Dropout, LayerNormalization\n",
    "from tensorflow.keras.preprocessing.image import ImageDataGenerator, img_to_array, load_img\n",
    "from tensorflow.keras.callbacks import EarlyStopping, ModelCheckpoint\n",
    "import keras"
   ]
  },
  {
   "cell_type": "code",
   "execution_count": 2,
   "id": "7da6ae12-809d-45f4-975e-bb49a116b83b",
   "metadata": {},
   "outputs": [],
   "source": [
    "# Dataset is divided in 4 files, this concatenates them all\n",
    "df_list = []\n",
    "for file_name in glob.glob(\"../Data/Raw/Archive/*.txt\"):\n",
    "    df_temp = pd.read_csv(file_name, sep=\"\\t\")\n",
    "    df_list.append(df_temp)\n",
    "df = pd.concat(df_list, axis=0, ignore_index=True)"
   ]
  },
  {
   "cell_type": "code",
   "execution_count": 3,
   "id": "2774adf7-7eae-44bc-8ed3-6f09886cd6f3",
   "metadata": {
    "tags": []
   },
   "outputs": [
    {
     "data": {
      "text/html": [
       "<div>\n",
       "<style scoped>\n",
       "    .dataframe tbody tr th:only-of-type {\n",
       "        vertical-align: middle;\n",
       "    }\n",
       "\n",
       "    .dataframe tbody tr th {\n",
       "        vertical-align: top;\n",
       "    }\n",
       "\n",
       "    .dataframe thead th {\n",
       "        text-align: right;\n",
       "    }\n",
       "</style>\n",
       "<table border=\"1\" class=\"dataframe\">\n",
       "  <thead>\n",
       "    <tr style=\"text-align: right;\">\n",
       "      <th></th>\n",
       "      <th>user_id</th>\n",
       "      <th>original_image</th>\n",
       "      <th>face_id</th>\n",
       "      <th>age</th>\n",
       "      <th>gender</th>\n",
       "      <th>x</th>\n",
       "      <th>y</th>\n",
       "      <th>dx</th>\n",
       "      <th>dy</th>\n",
       "      <th>tilt_ang</th>\n",
       "      <th>fiducial_yaw_angle</th>\n",
       "      <th>fiducial_score</th>\n",
       "    </tr>\n",
       "  </thead>\n",
       "  <tbody>\n",
       "    <tr>\n",
       "      <th>0</th>\n",
       "      <td>30601258@N03</td>\n",
       "      <td>10399646885_67c7d20df9_o.jpg</td>\n",
       "      <td>1</td>\n",
       "      <td>(25, 32)</td>\n",
       "      <td>f</td>\n",
       "      <td>0</td>\n",
       "      <td>414</td>\n",
       "      <td>1086</td>\n",
       "      <td>1383</td>\n",
       "      <td>-115</td>\n",
       "      <td>30</td>\n",
       "      <td>17</td>\n",
       "    </tr>\n",
       "    <tr>\n",
       "      <th>1</th>\n",
       "      <td>30601258@N03</td>\n",
       "      <td>10424815813_e94629b1ec_o.jpg</td>\n",
       "      <td>2</td>\n",
       "      <td>(25, 32)</td>\n",
       "      <td>m</td>\n",
       "      <td>301</td>\n",
       "      <td>105</td>\n",
       "      <td>640</td>\n",
       "      <td>641</td>\n",
       "      <td>0</td>\n",
       "      <td>0</td>\n",
       "      <td>94</td>\n",
       "    </tr>\n",
       "    <tr>\n",
       "      <th>2</th>\n",
       "      <td>30601258@N03</td>\n",
       "      <td>10437979845_5985be4b26_o.jpg</td>\n",
       "      <td>1</td>\n",
       "      <td>(25, 32)</td>\n",
       "      <td>f</td>\n",
       "      <td>2395</td>\n",
       "      <td>876</td>\n",
       "      <td>771</td>\n",
       "      <td>771</td>\n",
       "      <td>175</td>\n",
       "      <td>-30</td>\n",
       "      <td>74</td>\n",
       "    </tr>\n",
       "    <tr>\n",
       "      <th>3</th>\n",
       "      <td>30601258@N03</td>\n",
       "      <td>10437979845_5985be4b26_o.jpg</td>\n",
       "      <td>3</td>\n",
       "      <td>(25, 32)</td>\n",
       "      <td>m</td>\n",
       "      <td>752</td>\n",
       "      <td>1255</td>\n",
       "      <td>484</td>\n",
       "      <td>485</td>\n",
       "      <td>180</td>\n",
       "      <td>0</td>\n",
       "      <td>47</td>\n",
       "    </tr>\n",
       "    <tr>\n",
       "      <th>4</th>\n",
       "      <td>30601258@N03</td>\n",
       "      <td>11816644924_075c3d8d59_o.jpg</td>\n",
       "      <td>2</td>\n",
       "      <td>(25, 32)</td>\n",
       "      <td>m</td>\n",
       "      <td>175</td>\n",
       "      <td>80</td>\n",
       "      <td>769</td>\n",
       "      <td>768</td>\n",
       "      <td>-75</td>\n",
       "      <td>0</td>\n",
       "      <td>34</td>\n",
       "    </tr>\n",
       "    <tr>\n",
       "      <th>...</th>\n",
       "      <td>...</td>\n",
       "      <td>...</td>\n",
       "      <td>...</td>\n",
       "      <td>...</td>\n",
       "      <td>...</td>\n",
       "      <td>...</td>\n",
       "      <td>...</td>\n",
       "      <td>...</td>\n",
       "      <td>...</td>\n",
       "      <td>...</td>\n",
       "      <td>...</td>\n",
       "      <td>...</td>\n",
       "    </tr>\n",
       "    <tr>\n",
       "      <th>19365</th>\n",
       "      <td>7153718@N04</td>\n",
       "      <td>11598838386_349a0d4849_o.jpg</td>\n",
       "      <td>2282</td>\n",
       "      <td>None</td>\n",
       "      <td>NaN</td>\n",
       "      <td>596</td>\n",
       "      <td>460</td>\n",
       "      <td>1472</td>\n",
       "      <td>1473</td>\n",
       "      <td>-75</td>\n",
       "      <td>0</td>\n",
       "      <td>30</td>\n",
       "    </tr>\n",
       "    <tr>\n",
       "      <th>19366</th>\n",
       "      <td>7153718@N04</td>\n",
       "      <td>11598166203_c70bb34c80_o.jpg</td>\n",
       "      <td>2283</td>\n",
       "      <td>None</td>\n",
       "      <td>NaN</td>\n",
       "      <td>1179</td>\n",
       "      <td>755</td>\n",
       "      <td>331</td>\n",
       "      <td>331</td>\n",
       "      <td>5</td>\n",
       "      <td>0</td>\n",
       "      <td>108</td>\n",
       "    </tr>\n",
       "    <tr>\n",
       "      <th>19367</th>\n",
       "      <td>7153718@N04</td>\n",
       "      <td>11598166203_c70bb34c80_o.jpg</td>\n",
       "      <td>2282</td>\n",
       "      <td>None</td>\n",
       "      <td>NaN</td>\n",
       "      <td>1201</td>\n",
       "      <td>1179</td>\n",
       "      <td>293</td>\n",
       "      <td>293</td>\n",
       "      <td>5</td>\n",
       "      <td>0</td>\n",
       "      <td>99</td>\n",
       "    </tr>\n",
       "    <tr>\n",
       "      <th>19368</th>\n",
       "      <td>7153718@N04</td>\n",
       "      <td>11598145163_733cb99713_o.jpg</td>\n",
       "      <td>2282</td>\n",
       "      <td>None</td>\n",
       "      <td>NaN</td>\n",
       "      <td>1027</td>\n",
       "      <td>946</td>\n",
       "      <td>408</td>\n",
       "      <td>408</td>\n",
       "      <td>-85</td>\n",
       "      <td>0</td>\n",
       "      <td>49</td>\n",
       "    </tr>\n",
       "    <tr>\n",
       "      <th>19369</th>\n",
       "      <td>7153718@N04</td>\n",
       "      <td>11598013005_240c2bc9c7_o.jpg</td>\n",
       "      <td>2282</td>\n",
       "      <td>None</td>\n",
       "      <td>NaN</td>\n",
       "      <td>498</td>\n",
       "      <td>643</td>\n",
       "      <td>772</td>\n",
       "      <td>772</td>\n",
       "      <td>-80</td>\n",
       "      <td>0</td>\n",
       "      <td>111</td>\n",
       "    </tr>\n",
       "  </tbody>\n",
       "</table>\n",
       "<p>19370 rows × 12 columns</p>\n",
       "</div>"
      ],
      "text/plain": [
       "            user_id                original_image  face_id       age gender  \\\n",
       "0      30601258@N03  10399646885_67c7d20df9_o.jpg        1  (25, 32)      f   \n",
       "1      30601258@N03  10424815813_e94629b1ec_o.jpg        2  (25, 32)      m   \n",
       "2      30601258@N03  10437979845_5985be4b26_o.jpg        1  (25, 32)      f   \n",
       "3      30601258@N03  10437979845_5985be4b26_o.jpg        3  (25, 32)      m   \n",
       "4      30601258@N03  11816644924_075c3d8d59_o.jpg        2  (25, 32)      m   \n",
       "...             ...                           ...      ...       ...    ...   \n",
       "19365   7153718@N04  11598838386_349a0d4849_o.jpg     2282      None    NaN   \n",
       "19366   7153718@N04  11598166203_c70bb34c80_o.jpg     2283      None    NaN   \n",
       "19367   7153718@N04  11598166203_c70bb34c80_o.jpg     2282      None    NaN   \n",
       "19368   7153718@N04  11598145163_733cb99713_o.jpg     2282      None    NaN   \n",
       "19369   7153718@N04  11598013005_240c2bc9c7_o.jpg     2282      None    NaN   \n",
       "\n",
       "          x     y    dx    dy  tilt_ang  fiducial_yaw_angle  fiducial_score  \n",
       "0         0   414  1086  1383      -115                  30              17  \n",
       "1       301   105   640   641         0                   0              94  \n",
       "2      2395   876   771   771       175                 -30              74  \n",
       "3       752  1255   484   485       180                   0              47  \n",
       "4       175    80   769   768       -75                   0              34  \n",
       "...     ...   ...   ...   ...       ...                 ...             ...  \n",
       "19365   596   460  1472  1473       -75                   0              30  \n",
       "19366  1179   755   331   331         5                   0             108  \n",
       "19367  1201  1179   293   293         5                   0              99  \n",
       "19368  1027   946   408   408       -85                   0              49  \n",
       "19369   498   643   772   772       -80                   0             111  \n",
       "\n",
       "[19370 rows x 12 columns]"
      ]
     },
     "execution_count": 3,
     "metadata": {},
     "output_type": "execute_result"
    }
   ],
   "source": [
    "df"
   ]
  },
  {
   "cell_type": "code",
   "execution_count": 4,
   "id": "e9cb4e1e-2af8-4511-90c7-15bcff507f73",
   "metadata": {},
   "outputs": [],
   "source": [
    "df = df.dropna()"
   ]
  },
  {
   "cell_type": "code",
   "execution_count": 5,
   "id": "e30c3bbc-d3b8-4efc-9e2b-ba9803bd170a",
   "metadata": {
    "tags": []
   },
   "outputs": [
    {
     "data": {
      "text/plain": [
       "(25, 32)     4953\n",
       "(0, 2)       2488\n",
       "(38, 43)     2293\n",
       "(4, 6)       2140\n",
       "(8, 12)      2119\n",
       "(15, 20)     1642\n",
       "(60, 100)     867\n",
       "(48, 53)      825\n",
       "35            293\n",
       "13            168\n",
       "22            149\n",
       "34            105\n",
       "23             96\n",
       "45             88\n",
       "(27, 32)       77\n",
       "55             76\n",
       "36             56\n",
       "(38, 42)       46\n",
       "None           40\n",
       "57             24\n",
       "3              18\n",
       "29             11\n",
       "(38, 48)        6\n",
       "58              5\n",
       "2               3\n",
       "(8, 23)         1\n",
       "42              1\n",
       "46              1\n",
       "Name: age, dtype: int64"
      ]
     },
     "execution_count": 5,
     "metadata": {},
     "output_type": "execute_result"
    }
   ],
   "source": [
    "df[\"age\"].value_counts()"
   ]
  },
  {
   "cell_type": "markdown",
   "id": "1b248b12-fd0a-43b2-9341-8fded9660176",
   "metadata": {},
   "source": [
    "Age map to use for regression, this dataset is meant to make the age a classification problem, but we are going to make it a regression one"
   ]
  },
  {
   "cell_type": "code",
   "execution_count": 6,
   "id": "928505ab-0f0a-45c8-acf2-5d7fc8fd0758",
   "metadata": {
    "tags": []
   },
   "outputs": [],
   "source": [
    "df = df[df[\"age\"] != \"None\"]\n",
    "\n",
    "ages_map = {}\n",
    "ages_keys = df[\"age\"].value_counts().index\n",
    "ages_values = []\n",
    "\n",
    "for x in df[\"age\"].value_counts().index:\n",
    "    if x.startswith(\"(\"):\n",
    "        x = x.split(\", \")\n",
    "        x[0] = x[0].replace(\"(\",\"\")\n",
    "        x[1] = x[1].replace(\")\",\"\")\n",
    "        x[0] = int(x[0])\n",
    "        x[1] = int(x[1])\n",
    "        x = int((x[0]+x[1])/2)\n",
    "        ages_values.append(x)\n",
    "    else:\n",
    "        ages_values.append(int(x))"
   ]
  },
  {
   "cell_type": "code",
   "execution_count": 7,
   "id": "6d2133fd-f23a-4d97-8390-6c42f84a0095",
   "metadata": {
    "tags": []
   },
   "outputs": [],
   "source": [
    "for key, value in zip(ages_keys, ages_values):\n",
    "    ages_map[key] = value"
   ]
  },
  {
   "cell_type": "code",
   "execution_count": 8,
   "id": "3bcebb7a-247c-4e57-b969-e6ade2d4b7b3",
   "metadata": {
    "tags": []
   },
   "outputs": [],
   "source": [
    "df[\"age\"] = df[\"age\"].map(ages_map)"
   ]
  },
  {
   "cell_type": "code",
   "execution_count": 9,
   "id": "fc56400a-17ae-4bb7-bc11-678f9449a933",
   "metadata": {},
   "outputs": [
    {
     "data": {
      "text/plain": [
       "f    9332\n",
       "m    8120\n",
       "u    1099\n",
       "Name: gender, dtype: int64"
      ]
     },
     "execution_count": 9,
     "metadata": {},
     "output_type": "execute_result"
    }
   ],
   "source": [
    "df[\"gender\"].value_counts()"
   ]
  },
  {
   "cell_type": "code",
   "execution_count": 10,
   "id": "4b15e616-ab11-4ab7-aa06-0f279477edac",
   "metadata": {},
   "outputs": [],
   "source": [
    "# We will later make the model predict a non-binary category\n",
    "\n",
    "df = df[df[\"gender\"] != \"u\"]\n",
    "df[\"gender\"] = df[\"gender\"].apply(lambda x: 1 if x == \"m\" else 0).astype(int)"
   ]
  },
  {
   "cell_type": "code",
   "execution_count": 227,
   "id": "c925dce8-5a77-42d6-acb1-d6f5cad01576",
   "metadata": {
    "tags": []
   },
   "outputs": [],
   "source": [
    "# Creating the path to the image\n",
    "\n",
    "df[\"face_id\"] = df[\"face_id\"].astype(str)\n",
    "df[\"path\"] = \"../Data/Raw/Archive/Faces/\"+df[\"user_id\"]+\"/coarse_tilt_aligned_face.\"+df[\"face_id\"]+\".\"+df[\"original_image\"]"
   ]
  },
  {
   "cell_type": "code",
   "execution_count": 228,
   "id": "6f0159e7-dab5-4ac0-a5bf-5b66db5ba79a",
   "metadata": {},
   "outputs": [],
   "source": [
    "X = df[\"path\"]\n",
    "y_age = df[\"age\"]\n",
    "y_gender = df[\"gender\"]"
   ]
  },
  {
   "cell_type": "code",
   "execution_count": 274,
   "id": "abf36d3b-8ca2-4903-bd4c-966a936580f9",
   "metadata": {},
   "outputs": [],
   "source": [
    "X_train, X_test, y_train_age, y_test_age = train_test_split(X, y_age, test_size = 0.22, random_state = 22)\n",
    "X_train, X_test, y_train_gender, y_test_gender = train_test_split(X, y_gender, test_size = 0.22, random_state = 22)"
   ]
  },
  {
   "cell_type": "markdown",
   "id": "619bd733-f24d-455e-8093-2fd7d332af92",
   "metadata": {},
   "source": [
    "Image greyscaled, downscaled, size adjusted and transformed."
   ]
  },
  {
   "cell_type": "code",
   "execution_count": 248,
   "id": "a10847a6-9c0e-4402-baae-3b7f201a891a",
   "metadata": {},
   "outputs": [],
   "source": [
    "def image_preprocess(path):\n",
    "    img = tf.io.read_file(np.array(path).ravel()[0])\n",
    "    img = tf.image.decode_jpeg(img, channels = 1, ratio = 2)\n",
    "    img = tf.image.resize(img, [64,64])\n",
    "    img = img / 255 # This part normalizes the image, scaling it down; 255 is the max, while 0 is the min\n",
    "    return img"
   ]
  },
  {
   "cell_type": "code",
   "execution_count": 36,
   "id": "3d4a64fc-df39-41c7-8e34-bbad7cd6ecf1",
   "metadata": {
    "tags": []
   },
   "outputs": [
    {
     "data": {
      "text/plain": [
       "<matplotlib.image.AxesImage at 0x23f078f1eb0>"
      ]
     },
     "execution_count": 36,
     "metadata": {},
     "output_type": "execute_result"
    },
    {
     "data": {
      "image/png": "[encoded data removed]",
      "text/plain": [
       "<Figure size 640x480 with 1 Axes>"
      ]
     },
     "metadata": {},
     "output_type": "display_data"
    }
   ],
   "source": [
    "plt.imshow(image_preprocess(df[\"path\"][22]))"
   ]
  },
  {
   "cell_type": "code",
   "execution_count": 16,
   "id": "7e636d2a-213a-4dba-ad96-0433280cbf7b",
   "metadata": {},
   "outputs": [],
   "source": [
    "# Preparing the data that will be fed to the model\n",
    "\n",
    "X_train_images = np.array([image_preprocess(path) for path in X_train])\n",
    "X_test_images = np.array([image_preprocess(path) for path in X_test])"
   ]
  },
  {
   "cell_type": "code",
   "execution_count": 21,
   "id": "a02f0314-f53b-46fa-98c1-60bd7c7072d3",
   "metadata": {},
   "outputs": [
    {
     "name": "stdout",
     "output_type": "stream",
     "text": [
      "Model: \"sequential_1\"\n",
      "_________________________________________________________________\n",
      " Layer (type)                Output Shape              Param #   \n",
      "=================================================================\n",
      " conv2d_3 (Conv2D)           (None, 62, 62, 64)        640       \n",
      "                                                                 \n",
      " max_pooling2d_3 (MaxPooling  (None, 31, 31, 64)       0         \n",
      " 2D)                                                             \n",
      "                                                                 \n",
      " conv2d_4 (Conv2D)           (None, 29, 29, 64)        36928     \n",
      "                                                                 \n",
      " max_pooling2d_4 (MaxPooling  (None, 14, 14, 64)       0         \n",
      " 2D)                                                             \n",
      "                                                                 \n",
      " conv2d_5 (Conv2D)           (None, 12, 12, 64)        36928     \n",
      "                                                                 \n",
      " max_pooling2d_5 (MaxPooling  (None, 6, 6, 64)         0         \n",
      " 2D)                                                             \n",
      "                                                                 \n",
      " flatten_1 (Flatten)         (None, 2304)              0         \n",
      "                                                                 \n",
      " dense_2 (Dense)             (None, 64)                147520    \n",
      "                                                                 \n",
      " dense_3 (Dense)             (None, 1)                 65        \n",
      "                                                                 \n",
      "=================================================================\n",
      "Total params: 222,081\n",
      "Trainable params: 222,081\n",
      "Non-trainable params: 0\n",
      "_________________________________________________________________\n"
     ]
    }
   ],
   "source": [
    "model = Sequential()\n",
    "# First layer needs as many nodes as inputs\n",
    "model.add(Conv2D(64,(3,3), activation = \"relu\", input_shape = (64,64,1)))\n",
    "model.add(MaxPool2D((2,2)))\n",
    "model.add(Conv2D(64,(3,3), activation = \"relu\"))\n",
    "model.add(MaxPool2D((2,2)))\n",
    "model.add(Conv2D(64,(3,3), activation = \"relu\"))\n",
    "model.add(MaxPool2D((2,2)))\n",
    "model.add(Flatten())\n",
    "model.add(Dense(64, activation = \"relu\"))\n",
    "model.add(Dense(1, activation = \"relu\"))\n",
    "model.compile(optimizer = \"adam\",\n",
    "              loss = \"mse\",\n",
    "              metrics = [\"mae\", \"mse\", \"mape\"])\n",
    "model.summary()"
   ]
  },
  {
   "cell_type": "code",
   "execution_count": 19,
   "id": "7304ed8a-6a6c-4fd9-8f84-beeca348d225",
   "metadata": {},
   "outputs": [],
   "source": [
    "early_stop = EarlyStopping(patience=5)\n",
    "\n",
    "checkpoint_path = '../Models/Age_NN3.hdf5'\n",
    "checkpoint = ModelCheckpoint(\n",
    "    filepath=checkpoint_path,\n",
    "    save_freq='epoch',\n",
    "    save_weights_only=False,\n",
    "    verbose=1\n",
    ")"
   ]
  },
  {
   "cell_type": "code",
   "execution_count": 22,
   "id": "96c58fb3-1ab8-4d14-8d20-2b12df94e0bf",
   "metadata": {
    "collapsed": true,
    "jupyter": {
     "outputs_hidden": true
    },
    "tags": []
   },
   "outputs": [
    {
     "name": "stdout",
     "output_type": "stream",
     "text": [
      "Epoch 1/50\n",
      "\n",
      "Epoch 1: saving model to ../Models\\Age_NN3.hdf5\n",
      "681/681 - 78s - loss: 355.7177 - mae: 14.3943 - mse: 355.7177 - mape: 257.8011 - val_loss: 303.0405 - val_mae: 13.4654 - val_mse: 303.0405 - val_mape: 252.5606 - 78s/epoch - 115ms/step\n",
      "Epoch 2/50\n",
      "\n",
      "Epoch 2: saving model to ../Models\\Age_NN3.hdf5\n",
      "681/681 - 81s - loss: 291.5183 - mae: 12.7084 - mse: 291.5183 - mape: 193.2929 - val_loss: 268.9490 - val_mae: 12.4735 - val_mse: 268.9490 - val_mape: 202.2239 - 81s/epoch - 119ms/step\n",
      "Epoch 3/50\n",
      "\n",
      "Epoch 3: saving model to ../Models\\Age_NN3.hdf5\n",
      "681/681 - 76s - loss: 257.4636 - mae: 11.7447 - mse: 257.4636 - mape: 154.9011 - val_loss: 241.5464 - val_mae: 11.1862 - val_mse: 241.5464 - val_mape: 156.6035 - 76s/epoch - 112ms/step\n",
      "Epoch 4/50\n",
      "\n",
      "Epoch 4: saving model to ../Models\\Age_NN3.hdf5\n",
      "681/681 - 79s - loss: 228.7507 - mae: 10.9406 - mse: 228.7507 - mape: 129.3263 - val_loss: 220.5478 - val_mae: 10.3107 - val_mse: 220.5478 - val_mape: 111.2884 - 79s/epoch - 115ms/step\n",
      "Epoch 5/50\n",
      "\n",
      "Epoch 5: saving model to ../Models\\Age_NN3.hdf5\n",
      "681/681 - 83s - loss: 202.5345 - mae: 10.2106 - mse: 202.5345 - mape: 113.6878 - val_loss: 207.3171 - val_mae: 9.7958 - val_mse: 207.3171 - val_mape: 84.0437 - 83s/epoch - 122ms/step\n",
      "Epoch 6/50\n",
      "\n",
      "Epoch 6: saving model to ../Models\\Age_NN3.hdf5\n",
      "681/681 - 81s - loss: 183.2529 - mae: 9.6160 - mse: 183.2529 - mape: 100.7077 - val_loss: 204.2211 - val_mae: 9.5411 - val_mse: 204.2211 - val_mape: 79.4550 - 81s/epoch - 119ms/step\n",
      "Epoch 7/50\n",
      "\n",
      "Epoch 7: saving model to ../Models\\Age_NN3.hdf5\n",
      "681/681 - 86s - loss: 165.5189 - mae: 9.1348 - mse: 165.5189 - mape: 92.3472 - val_loss: 182.8167 - val_mae: 9.1212 - val_mse: 182.8167 - val_mape: 75.7370 - 86s/epoch - 126ms/step\n",
      "Epoch 8/50\n",
      "\n",
      "Epoch 8: saving model to ../Models\\Age_NN3.hdf5\n",
      "681/681 - 81s - loss: 152.8602 - mae: 8.8040 - mse: 152.8602 - mape: 86.0758 - val_loss: 163.2384 - val_mae: 8.8277 - val_mse: 163.2384 - val_mape: 81.2487 - 81s/epoch - 118ms/step\n",
      "Epoch 9/50\n",
      "\n",
      "Epoch 9: saving model to ../Models\\Age_NN3.hdf5\n",
      "681/681 - 78s - loss: 135.8018 - mae: 8.2987 - mse: 135.8018 - mape: 80.3462 - val_loss: 157.0246 - val_mae: 8.7109 - val_mse: 157.0246 - val_mape: 90.9223 - 78s/epoch - 115ms/step\n",
      "Epoch 10/50\n",
      "\n",
      "Epoch 10: saving model to ../Models\\Age_NN3.hdf5\n",
      "681/681 - 80s - loss: 125.2327 - mae: 7.9970 - mse: 125.2327 - mape: 77.6525 - val_loss: 155.9661 - val_mae: 8.6407 - val_mse: 155.9661 - val_mape: 77.8802 - 80s/epoch - 117ms/step\n",
      "Epoch 11/50\n",
      "\n",
      "Epoch 11: saving model to ../Models\\Age_NN3.hdf5\n",
      "681/681 - 74s - loss: 115.3768 - mae: 7.7188 - mse: 115.3768 - mape: 73.4425 - val_loss: 152.0936 - val_mae: 8.5139 - val_mse: 152.0936 - val_mape: 81.8152 - 74s/epoch - 109ms/step\n",
      "Epoch 12/50\n",
      "\n",
      "Epoch 12: saving model to ../Models\\Age_NN3.hdf5\n",
      "681/681 - 78s - loss: 103.2206 - mae: 7.3384 - mse: 103.2206 - mape: 69.5131 - val_loss: 143.4151 - val_mae: 8.1704 - val_mse: 143.4151 - val_mape: 74.7751 - 78s/epoch - 115ms/step\n",
      "Epoch 13/50\n",
      "\n",
      "Epoch 13: saving model to ../Models\\Age_NN3.hdf5\n",
      "681/681 - 91s - loss: 92.1168 - mae: 6.9227 - mse: 92.1168 - mape: 66.7440 - val_loss: 143.4500 - val_mae: 8.4279 - val_mse: 143.4500 - val_mape: 89.0098 - 91s/epoch - 134ms/step\n",
      "Epoch 14/50\n",
      "\n",
      "Epoch 14: saving model to ../Models\\Age_NN3.hdf5\n",
      "681/681 - 89s - loss: 85.2406 - mae: 6.6936 - mse: 85.2406 - mape: 63.8535 - val_loss: 138.1895 - val_mae: 8.0529 - val_mse: 138.1895 - val_mape: 72.9999 - 89s/epoch - 131ms/step\n",
      "Epoch 15/50\n",
      "\n",
      "Epoch 15: saving model to ../Models\\Age_NN3.hdf5\n",
      "681/681 - 88s - loss: 73.7505 - mae: 6.2677 - mse: 73.7505 - mape: 60.9497 - val_loss: 141.3060 - val_mae: 8.2275 - val_mse: 141.3060 - val_mape: 75.7815 - 88s/epoch - 129ms/step\n",
      "Epoch 16/50\n",
      "\n",
      "Epoch 16: saving model to ../Models\\Age_NN3.hdf5\n",
      "681/681 - 87s - loss: 66.3771 - mae: 5.9660 - mse: 66.3771 - mape: 57.6750 - val_loss: 135.6149 - val_mae: 7.8616 - val_mse: 135.6149 - val_mape: 63.9610 - 87s/epoch - 128ms/step\n",
      "Epoch 17/50\n",
      "\n",
      "Epoch 17: saving model to ../Models\\Age_NN3.hdf5\n",
      "681/681 - 83s - loss: 60.0777 - mae: 5.7048 - mse: 60.0777 - mape: 55.0318 - val_loss: 150.4324 - val_mae: 8.1087 - val_mse: 150.4324 - val_mape: 60.1221 - 83s/epoch - 121ms/step\n",
      "Epoch 18/50\n",
      "\n",
      "Epoch 18: saving model to ../Models\\Age_NN3.hdf5\n",
      "681/681 - 79s - loss: 53.7141 - mae: 5.3839 - mse: 53.7141 - mape: 52.3963 - val_loss: 152.5824 - val_mae: 8.8123 - val_mse: 152.5824 - val_mape: 91.0153 - 79s/epoch - 116ms/step\n",
      "Epoch 19/50\n",
      "\n",
      "Epoch 19: saving model to ../Models\\Age_NN3.hdf5\n",
      "681/681 - 79s - loss: 48.0247 - mae: 5.1373 - mse: 48.0247 - mape: 50.1878 - val_loss: 140.8687 - val_mae: 7.9139 - val_mse: 140.8687 - val_mape: 58.8474 - 79s/epoch - 116ms/step\n",
      "Epoch 20/50\n",
      "\n",
      "Epoch 20: saving model to ../Models\\Age_NN3.hdf5\n",
      "681/681 - 80s - loss: 44.2535 - mae: 4.9726 - mse: 44.2535 - mape: 48.3805 - val_loss: 142.4358 - val_mae: 7.9586 - val_mse: 142.4358 - val_mape: 62.8227 - 80s/epoch - 117ms/step\n",
      "Epoch 21/50\n",
      "\n",
      "Epoch 21: saving model to ../Models\\Age_NN3.hdf5\n",
      "681/681 - 82s - loss: 40.3555 - mae: 4.7415 - mse: 40.3555 - mape: 45.7043 - val_loss: 140.3644 - val_mae: 7.9758 - val_mse: 140.3644 - val_mape: 70.2250 - 82s/epoch - 121ms/step\n"
     ]
    }
   ],
   "source": [
    "history = model.fit(\n",
    "    X_train_images, y_train_age,\n",
    "    epochs=50,\n",
    "    validation_data = (X_test_images, y_test_age),\n",
    "    batch_size=20,\n",
    "    verbose=2,\n",
    "    callbacks=[early_stop,checkpoint]\n",
    ")"
   ]
  },
  {
   "cell_type": "code",
   "execution_count": 299,
   "id": "6ca7755c-b2f6-443e-8da1-228776e5304e",
   "metadata": {
    "tags": []
   },
   "outputs": [
    {
     "name": "stdout",
     "output_type": "stream",
     "text": [
      "Model: \"sequential_19\"\n",
      "_________________________________________________________________\n",
      " Layer (type)                Output Shape              Param #   \n",
      "=================================================================\n",
      " conv2d_57 (Conv2D)          (None, 62, 62, 64)        640       \n",
      "                                                                 \n",
      " max_pooling2d_57 (MaxPoolin  (None, 31, 31, 64)       0         \n",
      " g2D)                                                            \n",
      "                                                                 \n",
      " conv2d_58 (Conv2D)          (None, 29, 29, 64)        36928     \n",
      "                                                                 \n",
      " max_pooling2d_58 (MaxPoolin  (None, 14, 14, 64)       0         \n",
      " g2D)                                                            \n",
      "                                                                 \n",
      " conv2d_59 (Conv2D)          (None, 12, 12, 64)        36928     \n",
      "                                                                 \n",
      " max_pooling2d_59 (MaxPoolin  (None, 6, 6, 64)         0         \n",
      " g2D)                                                            \n",
      "                                                                 \n",
      " flatten_19 (Flatten)        (None, 2304)              0         \n",
      "                                                                 \n",
      " dense_38 (Dense)            (None, 64)                147520    \n",
      "                                                                 \n",
      " dense_39 (Dense)            (None, 2)                 130       \n",
      "                                                                 \n",
      "=================================================================\n",
      "Total params: 222,146\n",
      "Trainable params: 222,146\n",
      "Non-trainable params: 0\n",
      "_________________________________________________________________\n"
     ]
    }
   ],
   "source": [
    "model_gender = Sequential()\n",
    "# First layer needs as many nodes as inputs\n",
    "model_gender.add(Conv2D(64,(3,3), activation = \"relu\", input_shape = (64,64,1)))\n",
    "model_gender.add(MaxPool2D((2,2)))\n",
    "model_gender.add(Conv2D(64,(3,3), activation = \"relu\"))\n",
    "model_gender.add(MaxPool2D((2,2)))\n",
    "model_gender.add(Conv2D(64,(3,3), activation = \"relu\"))\n",
    "model_gender.add(MaxPool2D((2,2)))\n",
    "model_gender.add(Flatten())\n",
    "model_gender.add(Dense(64, activation = \"relu\"))\n",
    "model_gender.add(Dense(2, activation = \"sigmoid\"))\n",
    "opt = keras.optimizers.Adam(learning_rate=0.003)\n",
    "model_gender.compile(optimizer = opt,\n",
    "              loss = tf.keras.losses.SparseCategoricalCrossentropy(),\n",
    "              metrics = \"accuracy\")\n",
    "model_gender.summary()"
   ]
  },
  {
   "cell_type": "code",
   "execution_count": 253,
   "id": "edb77b6e-3dbd-4c3b-a70a-2cf25ac71cd5",
   "metadata": {},
   "outputs": [],
   "source": [
    "def scheduler(epoch, lr):\n",
    "    if epoch < 5:\n",
    "        return lr\n",
    "    else:\n",
    "        return lr * tf.math.exp(-0.1)"
   ]
  },
  {
   "cell_type": "code",
   "execution_count": 300,
   "id": "f858a1ca-1253-4b80-a88b-24fb9f8d638f",
   "metadata": {},
   "outputs": [],
   "source": [
    "early_stop = EarlyStopping(patience=5)\n",
    "\n",
    "checkpoint_path = '../Models/Gender_NN6.hdf5'\n",
    "checkpoint = ModelCheckpoint(\n",
    "    filepath=checkpoint_path,\n",
    "    save_freq='epoch',\n",
    "    save_weights_only=False,\n",
    "    verbose=1\n",
    ")\n",
    "\n",
    "schedule = tf.keras.callbacks.LearningRateScheduler(scheduler)"
   ]
  },
  {
   "cell_type": "code",
   "execution_count": 301,
   "id": "d349ff10-a077-4f1b-b150-29623cabae6c",
   "metadata": {
    "tags": []
   },
   "outputs": [
    {
     "name": "stdout",
     "output_type": "stream",
     "text": [
      "Epoch 1/50\n",
      "\n",
      "Epoch 1: saving model to ../Models\\Gender_NN6.hdf5\n",
      "14/14 - 104s - loss: 0.7050 - accuracy: 0.5674 - val_loss: 0.6521 - val_accuracy: 0.6073 - lr: 0.0030 - 104s/epoch - 7s/step\n",
      "Epoch 2/50\n",
      "\n",
      "Epoch 2: saving model to ../Models\\Gender_NN6.hdf5\n",
      "14/14 - 90s - loss: 0.6653 - accuracy: 0.6053 - val_loss: 0.6548 - val_accuracy: 0.6190 - lr: 0.0030 - 90s/epoch - 6s/step\n",
      "Epoch 3/50\n",
      "\n",
      "Epoch 3: saving model to ../Models\\Gender_NN6.hdf5\n",
      "14/14 - 86s - loss: 0.6325 - accuracy: 0.6358 - val_loss: 0.6205 - val_accuracy: 0.6398 - lr: 0.0030 - 86s/epoch - 6s/step\n",
      "Epoch 4/50\n",
      "\n",
      "Epoch 4: saving model to ../Models\\Gender_NN6.hdf5\n",
      "14/14 - 93s - loss: 0.5962 - accuracy: 0.6743 - val_loss: 0.6070 - val_accuracy: 0.6607 - lr: 0.0030 - 93s/epoch - 7s/step\n",
      "Epoch 5/50\n",
      "\n",
      "Epoch 5: saving model to ../Models\\Gender_NN6.hdf5\n",
      "14/14 - 91s - loss: 0.5644 - accuracy: 0.7010 - val_loss: 0.5613 - val_accuracy: 0.7091 - lr: 0.0030 - 91s/epoch - 6s/step\n",
      "Epoch 6/50\n",
      "\n",
      "Epoch 6: saving model to ../Models\\Gender_NN6.hdf5\n",
      "14/14 - 95s - loss: 0.5321 - accuracy: 0.7324 - val_loss: 0.5395 - val_accuracy: 0.7195 - lr: 0.0027 - 95s/epoch - 7s/step\n",
      "Epoch 7/50\n",
      "\n",
      "Epoch 7: saving model to ../Models\\Gender_NN6.hdf5\n",
      "14/14 - 80s - loss: 0.5064 - accuracy: 0.7465 - val_loss: 0.5319 - val_accuracy: 0.7302 - lr: 0.0025 - 80s/epoch - 6s/step\n",
      "Epoch 8/50\n",
      "\n",
      "Epoch 8: saving model to ../Models\\Gender_NN6.hdf5\n",
      "14/14 - 83s - loss: 0.4883 - accuracy: 0.7607 - val_loss: 0.5175 - val_accuracy: 0.7385 - lr: 0.0022 - 83s/epoch - 6s/step\n",
      "Epoch 9/50\n",
      "\n",
      "Epoch 9: saving model to ../Models\\Gender_NN6.hdf5\n",
      "14/14 - 91s - loss: 0.4756 - accuracy: 0.7687 - val_loss: 0.4914 - val_accuracy: 0.7516 - lr: 0.0020 - 91s/epoch - 7s/step\n",
      "Epoch 10/50\n",
      "\n",
      "Epoch 10: saving model to ../Models\\Gender_NN6.hdf5\n",
      "14/14 - 90s - loss: 0.4454 - accuracy: 0.7860 - val_loss: 0.4762 - val_accuracy: 0.7628 - lr: 0.0018 - 90s/epoch - 6s/step\n",
      "Epoch 11/50\n",
      "\n",
      "Epoch 11: saving model to ../Models\\Gender_NN6.hdf5\n",
      "14/14 - 82s - loss: 0.4254 - accuracy: 0.7983 - val_loss: 0.4646 - val_accuracy: 0.7727 - lr: 0.0016 - 82s/epoch - 6s/step\n",
      "Epoch 12/50\n",
      "\n",
      "Epoch 12: saving model to ../Models\\Gender_NN6.hdf5\n",
      "14/14 - 82s - loss: 0.4130 - accuracy: 0.8047 - val_loss: 0.4511 - val_accuracy: 0.7799 - lr: 0.0015 - 82s/epoch - 6s/step\n",
      "Epoch 13/50\n",
      "\n",
      "Epoch 13: saving model to ../Models\\Gender_NN6.hdf5\n",
      "14/14 - 80s - loss: 0.4035 - accuracy: 0.8155 - val_loss: 0.4636 - val_accuracy: 0.7766 - lr: 0.0013 - 80s/epoch - 6s/step\n",
      "Epoch 14/50\n",
      "\n",
      "Epoch 14: saving model to ../Models\\Gender_NN6.hdf5\n",
      "14/14 - 85s - loss: 0.3898 - accuracy: 0.8207 - val_loss: 0.4358 - val_accuracy: 0.7937 - lr: 0.0012 - 85s/epoch - 6s/step\n",
      "Epoch 15/50\n",
      "\n",
      "Epoch 15: saving model to ../Models\\Gender_NN6.hdf5\n",
      "14/14 - 82s - loss: 0.3827 - accuracy: 0.8236 - val_loss: 0.4275 - val_accuracy: 0.7995 - lr: 0.0011 - 82s/epoch - 6s/step\n",
      "Epoch 16/50\n",
      "\n",
      "Epoch 16: saving model to ../Models\\Gender_NN6.hdf5\n",
      "14/14 - 79s - loss: 0.3710 - accuracy: 0.8339 - val_loss: 0.4257 - val_accuracy: 0.7956 - lr: 9.9861e-04 - 79s/epoch - 6s/step\n",
      "Epoch 17/50\n",
      "\n",
      "Epoch 17: saving model to ../Models\\Gender_NN6.hdf5\n",
      "14/14 - 70s - loss: 0.3668 - accuracy: 0.8347 - val_loss: 0.4227 - val_accuracy: 0.7974 - lr: 9.0358e-04 - 70s/epoch - 5s/step\n",
      "Epoch 18/50\n",
      "\n",
      "Epoch 18: saving model to ../Models\\Gender_NN6.hdf5\n",
      "14/14 - 82s - loss: 0.3556 - accuracy: 0.8425 - val_loss: 0.4206 - val_accuracy: 0.7964 - lr: 8.1760e-04 - 82s/epoch - 6s/step\n",
      "Epoch 19/50\n",
      "\n",
      "Epoch 19: saving model to ../Models\\Gender_NN6.hdf5\n",
      "14/14 - 112s - loss: 0.3500 - accuracy: 0.8430 - val_loss: 0.4191 - val_accuracy: 0.8005 - lr: 7.3979e-04 - 112s/epoch - 8s/step\n",
      "Epoch 20/50\n",
      "\n",
      "Epoch 20: saving model to ../Models\\Gender_NN6.hdf5\n",
      "14/14 - 118s - loss: 0.3490 - accuracy: 0.8429 - val_loss: 0.4107 - val_accuracy: 0.8115 - lr: 6.6939e-04 - 118s/epoch - 8s/step\n",
      "Epoch 21/50\n",
      "\n",
      "Epoch 21: saving model to ../Models\\Gender_NN6.hdf5\n",
      "14/14 - 105s - loss: 0.3399 - accuracy: 0.8501 - val_loss: 0.4103 - val_accuracy: 0.8013 - lr: 6.0569e-04 - 105s/epoch - 7s/step\n",
      "Epoch 22/50\n",
      "\n",
      "Epoch 22: saving model to ../Models\\Gender_NN6.hdf5\n",
      "14/14 - 113s - loss: 0.3362 - accuracy: 0.8509 - val_loss: 0.4100 - val_accuracy: 0.8057 - lr: 5.4805e-04 - 113s/epoch - 8s/step\n",
      "Epoch 23/50\n",
      "\n",
      "Epoch 23: saving model to ../Models\\Gender_NN6.hdf5\n",
      "14/14 - 114s - loss: 0.3330 - accuracy: 0.8542 - val_loss: 0.4039 - val_accuracy: 0.8109 - lr: 4.9590e-04 - 114s/epoch - 8s/step\n",
      "Epoch 24/50\n",
      "\n",
      "Epoch 24: saving model to ../Models\\Gender_NN6.hdf5\n",
      "14/14 - 157s - loss: 0.3286 - accuracy: 0.8568 - val_loss: 0.4057 - val_accuracy: 0.8083 - lr: 4.4871e-04 - 157s/epoch - 11s/step\n",
      "Epoch 25/50\n",
      "\n",
      "Epoch 25: saving model to ../Models\\Gender_NN6.hdf5\n",
      "14/14 - 119s - loss: 0.3292 - accuracy: 0.8561 - val_loss: 0.4106 - val_accuracy: 0.8052 - lr: 4.0601e-04 - 119s/epoch - 9s/step\n",
      "Epoch 26/50\n",
      "\n",
      "Epoch 26: saving model to ../Models\\Gender_NN6.hdf5\n",
      "14/14 - 112s - loss: 0.3247 - accuracy: 0.8593 - val_loss: 0.4120 - val_accuracy: 0.8036 - lr: 3.6737e-04 - 112s/epoch - 8s/step\n",
      "Epoch 27/50\n",
      "\n",
      "Epoch 27: saving model to ../Models\\Gender_NN6.hdf5\n",
      "14/14 - 125s - loss: 0.3250 - accuracy: 0.8580 - val_loss: 0.3991 - val_accuracy: 0.8125 - lr: 3.3241e-04 - 125s/epoch - 9s/step\n",
      "Epoch 28/50\n",
      "\n",
      "Epoch 28: saving model to ../Models\\Gender_NN6.hdf5\n",
      "14/14 - 106s - loss: 0.3194 - accuracy: 0.8597 - val_loss: 0.3998 - val_accuracy: 0.8193 - lr: 3.0078e-04 - 106s/epoch - 8s/step\n",
      "Epoch 29/50\n",
      "\n",
      "Epoch 29: saving model to ../Models\\Gender_NN6.hdf5\n",
      "14/14 - 96s - loss: 0.3173 - accuracy: 0.8609 - val_loss: 0.3979 - val_accuracy: 0.8146 - lr: 2.7215e-04 - 96s/epoch - 7s/step\n",
      "Epoch 30/50\n",
      "\n",
      "Epoch 30: saving model to ../Models\\Gender_NN6.hdf5\n",
      "14/14 - 102s - loss: 0.3141 - accuracy: 0.8630 - val_loss: 0.3994 - val_accuracy: 0.8117 - lr: 2.4626e-04 - 102s/epoch - 7s/step\n",
      "Epoch 31/50\n",
      "\n",
      "Epoch 31: saving model to ../Models\\Gender_NN6.hdf5\n",
      "14/14 - 99s - loss: 0.3125 - accuracy: 0.8619 - val_loss: 0.3966 - val_accuracy: 0.8195 - lr: 2.2282e-04 - 99s/epoch - 7s/step\n",
      "Epoch 32/50\n",
      "\n",
      "Epoch 32: saving model to ../Models\\Gender_NN6.hdf5\n",
      "14/14 - 93s - loss: 0.3106 - accuracy: 0.8639 - val_loss: 0.3954 - val_accuracy: 0.8156 - lr: 2.0162e-04 - 93s/epoch - 7s/step\n",
      "Epoch 33/50\n",
      "\n",
      "Epoch 33: saving model to ../Models\\Gender_NN6.hdf5\n",
      "14/14 - 93s - loss: 0.3095 - accuracy: 0.8635 - val_loss: 0.3992 - val_accuracy: 0.8130 - lr: 1.8243e-04 - 93s/epoch - 7s/step\n",
      "Epoch 34/50\n",
      "\n",
      "Epoch 34: saving model to ../Models\\Gender_NN6.hdf5\n",
      "14/14 - 96s - loss: 0.3082 - accuracy: 0.8656 - val_loss: 0.3942 - val_accuracy: 0.8174 - lr: 1.6507e-04 - 96s/epoch - 7s/step\n",
      "Epoch 35/50\n",
      "\n",
      "Epoch 35: saving model to ../Models\\Gender_NN6.hdf5\n",
      "14/14 - 92s - loss: 0.3063 - accuracy: 0.8674 - val_loss: 0.3991 - val_accuracy: 0.8138 - lr: 1.4936e-04 - 92s/epoch - 7s/step\n",
      "Epoch 36/50\n",
      "\n",
      "Epoch 36: saving model to ../Models\\Gender_NN6.hdf5\n",
      "14/14 - 101s - loss: 0.3061 - accuracy: 0.8674 - val_loss: 0.4008 - val_accuracy: 0.8120 - lr: 1.3515e-04 - 101s/epoch - 7s/step\n",
      "Epoch 37/50\n",
      "\n",
      "Epoch 37: saving model to ../Models\\Gender_NN6.hdf5\n",
      "14/14 - 98s - loss: 0.3059 - accuracy: 0.8658 - val_loss: 0.3939 - val_accuracy: 0.8169 - lr: 1.2229e-04 - 98s/epoch - 7s/step\n",
      "Epoch 38/50\n",
      "\n",
      "Epoch 38: saving model to ../Models\\Gender_NN6.hdf5\n",
      "14/14 - 95s - loss: 0.3048 - accuracy: 0.8671 - val_loss: 0.3933 - val_accuracy: 0.8203 - lr: 1.1065e-04 - 95s/epoch - 7s/step\n",
      "Epoch 39/50\n",
      "\n",
      "Epoch 39: saving model to ../Models\\Gender_NN6.hdf5\n",
      "14/14 - 95s - loss: 0.3029 - accuracy: 0.8686 - val_loss: 0.3935 - val_accuracy: 0.8180 - lr: 1.0012e-04 - 95s/epoch - 7s/step\n",
      "Epoch 40/50\n",
      "\n",
      "Epoch 40: saving model to ../Models\\Gender_NN6.hdf5\n",
      "14/14 - 95s - loss: 0.3028 - accuracy: 0.8674 - val_loss: 0.3932 - val_accuracy: 0.8190 - lr: 9.0592e-05 - 95s/epoch - 7s/step\n",
      "Epoch 41/50\n",
      "\n",
      "Epoch 41: saving model to ../Models\\Gender_NN6.hdf5\n",
      "14/14 - 96s - loss: 0.3015 - accuracy: 0.8684 - val_loss: 0.3932 - val_accuracy: 0.8177 - lr: 8.1971e-05 - 96s/epoch - 7s/step\n",
      "Epoch 42/50\n",
      "\n",
      "Epoch 42: saving model to ../Models\\Gender_NN6.hdf5\n",
      "14/14 - 95s - loss: 0.3008 - accuracy: 0.8689 - val_loss: 0.3938 - val_accuracy: 0.8169 - lr: 7.4171e-05 - 95s/epoch - 7s/step\n",
      "Epoch 43/50\n",
      "\n",
      "Epoch 43: saving model to ../Models\\Gender_NN6.hdf5\n",
      "14/14 - 94s - loss: 0.3009 - accuracy: 0.8683 - val_loss: 0.3937 - val_accuracy: 0.8169 - lr: 6.7112e-05 - 94s/epoch - 7s/step\n",
      "Epoch 44/50\n",
      "\n",
      "Epoch 44: saving model to ../Models\\Gender_NN6.hdf5\n",
      "14/14 - 96s - loss: 0.3000 - accuracy: 0.8687 - val_loss: 0.3925 - val_accuracy: 0.8190 - lr: 6.0726e-05 - 96s/epoch - 7s/step\n",
      "Epoch 45/50\n",
      "\n",
      "Epoch 45: saving model to ../Models\\Gender_NN6.hdf5\n",
      "14/14 - 94s - loss: 0.2995 - accuracy: 0.8700 - val_loss: 0.3927 - val_accuracy: 0.8195 - lr: 5.4947e-05 - 94s/epoch - 7s/step\n",
      "Epoch 46/50\n",
      "\n",
      "Epoch 46: saving model to ../Models\\Gender_NN6.hdf5\n",
      "14/14 - 93s - loss: 0.2991 - accuracy: 0.8697 - val_loss: 0.3928 - val_accuracy: 0.8198 - lr: 4.9718e-05 - 93s/epoch - 7s/step\n",
      "Epoch 47/50\n",
      "\n",
      "Epoch 47: saving model to ../Models\\Gender_NN6.hdf5\n",
      "14/14 - 96s - loss: 0.2987 - accuracy: 0.8695 - val_loss: 0.3929 - val_accuracy: 0.8180 - lr: 4.4987e-05 - 96s/epoch - 7s/step\n",
      "Epoch 48/50\n",
      "\n",
      "Epoch 48: saving model to ../Models\\Gender_NN6.hdf5\n",
      "14/14 - 95s - loss: 0.2985 - accuracy: 0.8696 - val_loss: 0.3924 - val_accuracy: 0.8201 - lr: 4.0706e-05 - 95s/epoch - 7s/step\n",
      "Epoch 49/50\n",
      "\n",
      "Epoch 49: saving model to ../Models\\Gender_NN6.hdf5\n",
      "14/14 - 96s - loss: 0.2981 - accuracy: 0.8698 - val_loss: 0.3924 - val_accuracy: 0.8193 - lr: 3.6832e-05 - 96s/epoch - 7s/step\n",
      "Epoch 50/50\n",
      "\n",
      "Epoch 50: saving model to ../Models\\Gender_NN6.hdf5\n",
      "14/14 - 98s - loss: 0.2977 - accuracy: 0.8700 - val_loss: 0.3924 - val_accuracy: 0.8193 - lr: 3.3327e-05 - 98s/epoch - 7s/step\n"
     ]
    }
   ],
   "source": [
    "history = model_gender.fit(\n",
    "    X_train_images, y_train_gender,\n",
    "    epochs=50,\n",
    "    validation_data = (X_test_images, y_test_gender),\n",
    "    batch_size=1000,\n",
    "    verbose=2,\n",
    "    callbacks=[early_stop, checkpoint, schedule]\n",
    ")"
   ]
  },
  {
   "cell_type": "code",
   "execution_count": 302,
   "id": "c289d592-2279-48c7-a890-ecde12daa3f6",
   "metadata": {},
   "outputs": [
    {
     "name": "stdout",
     "output_type": "stream",
     "text": [
      "426/426 [==============================] - 28s 63ms/step\n",
      "120/120 [==============================] - 6s 51ms/step\n"
     ]
    }
   ],
   "source": [
    "y_train_pred = model_gender.predict(X_train_images)\n",
    "y_test_pred  = model_gender.predict(X_test_images)"
   ]
  },
  {
   "cell_type": "code",
   "execution_count": 287,
   "id": "18828d63-6c10-4496-a440-eb9d71dc278e",
   "metadata": {},
   "outputs": [],
   "source": [
    "y_train_pred2 = [int(round(y_train_pred[x][0],0)) for x in range(len(y_train_pred))]\n",
    "y_test_pred2 = [int(round(y_test_pred[x][0],0)) for x in range(len(y_test_pred))]"
   ]
  },
  {
   "cell_type": "code",
   "execution_count": 303,
   "id": "1c648674-aa4b-4303-b111-48740e3a2c4e",
   "metadata": {},
   "outputs": [],
   "source": [
    "y_train_pred3 = np.argmax(y_train_pred, axis=1).reshape(-1,1)\n",
    "y_test_pred3 = np.argmax(y_test_pred, axis=1).reshape(-1,1)"
   ]
  },
  {
   "cell_type": "code",
   "execution_count": 304,
   "id": "9fda6f4f-c11b-4d4b-bdb1-4a9815bd6722",
   "metadata": {},
   "outputs": [
    {
     "name": "stdout",
     "output_type": "stream",
     "text": [
      "Kappa score: 0.7382755135116543\n",
      "              precision    recall  f1-score   support\n",
      "\n",
      "           0       0.88      0.88      0.88      7317\n",
      "           1       0.86      0.86      0.86      6295\n",
      "\n",
      "    accuracy                           0.87     13612\n",
      "   macro avg       0.87      0.87      0.87     13612\n",
      "weighted avg       0.87      0.87      0.87     13612\n",
      "\n"
     ]
    }
   ],
   "source": [
    "print(\"Kappa score:\",cohen_kappa_score(y_train_gender, y_train_pred3))\n",
    "print(classification_report(y_train_gender, y_train_pred3, zero_division = True))"
   ]
  },
  {
   "cell_type": "code",
   "execution_count": 305,
   "id": "2e1242a9-3a32-4516-9b40-4b60c1938126",
   "metadata": {},
   "outputs": [
    {
     "name": "stdout",
     "output_type": "stream",
     "text": [
      "Kappa score: 0.6374297807267567\n",
      "              precision    recall  f1-score   support\n",
      "\n",
      "           0       0.82      0.83      0.83      2015\n",
      "           1       0.81      0.80      0.81      1825\n",
      "\n",
      "    accuracy                           0.82      3840\n",
      "   macro avg       0.82      0.82      0.82      3840\n",
      "weighted avg       0.82      0.82      0.82      3840\n",
      "\n"
     ]
    }
   ],
   "source": [
    "print(\"Kappa score:\",cohen_kappa_score(y_test_gender, y_test_pred3))\n",
    "print(classification_report(y_test_gender, y_test_pred3, zero_division = True))"
   ]
  },
  {
   "cell_type": "code",
   "execution_count": 306,
   "id": "d272b5e6-adda-4f31-b95b-835c518beb00",
   "metadata": {},
   "outputs": [
    {
     "name": "stdout",
     "output_type": "stream",
     "text": [
      "1/1 [==============================] - 0s 69ms/step\n"
     ]
    },
    {
     "data": {
      "text/plain": [
       "array([[0.61628073, 0.13477637]], dtype=float32)"
      ]
     },
     "execution_count": 306,
     "metadata": {},
     "output_type": "execute_result"
    }
   ],
   "source": [
    "model_gender.predict(np.array([image_preprocess(\"../Data/Test/Alfon.jpg\")]))"
   ]
  },
  {
   "cell_type": "code",
   "execution_count": 307,
   "id": "398694af-6d48-4f82-8e13-5ab757d29d74",
   "metadata": {},
   "outputs": [
    {
     "name": "stdout",
     "output_type": "stream",
     "text": [
      "1/1 [==============================] - 0s 33ms/step\n"
     ]
    },
    {
     "data": {
      "text/plain": [
       "1"
      ]
     },
     "execution_count": 307,
     "metadata": {},
     "output_type": "execute_result"
    }
   ],
   "source": [
    "np.argmax(model_gender.predict(np.array([image_preprocess(\"../Data/Test/Ignacio.jpg\")])), axis=1).reshape(-1,1)[0][0]"
   ]
  },
  {
   "cell_type": "code",
   "execution_count": 308,
   "id": "ba5bdefb-70eb-4d52-a7e5-bcc54bd64a1f",
   "metadata": {},
   "outputs": [
    {
     "name": "stdout",
     "output_type": "stream",
     "text": [
      "1/1 [==============================] - 0s 28ms/step\n"
     ]
    },
    {
     "data": {
      "text/plain": [
       "array([[1]], dtype=int64)"
      ]
     },
     "execution_count": 308,
     "metadata": {},
     "output_type": "execute_result"
    }
   ],
   "source": [
    "np.argmax(model_gender.predict(np.array([image_preprocess(\"../Data/Test/Ra.jpg\")])), axis=1).reshape(-1,1)"
   ]
  },
  {
   "cell_type": "code",
   "execution_count": 309,
   "id": "51d7743a-6e1b-4caa-84ec-37c43409a990",
   "metadata": {},
   "outputs": [
    {
     "name": "stdout",
     "output_type": "stream",
     "text": [
      "1/1 [==============================] - 0s 28ms/step\n"
     ]
    },
    {
     "data": {
      "text/plain": [
       "array([0.27243468, 0.39943507], dtype=float32)"
      ]
     },
     "execution_count": 309,
     "metadata": {},
     "output_type": "execute_result"
    }
   ],
   "source": [
    "model_gender.predict(np.array([image_preprocess(\"../Data/Test/Lydia2.jpg\")]))[0]"
   ]
  }
 ],
 "metadata": {
  "kernelspec": {
   "display_name": "Python 3 (ipykernel)",
   "language": "python",
   "name": "python3"
  },
  "language_info": {
   "codemirror_mode": {
    "name": "ipython",
    "version": 3
   },
   "file_extension": ".py",
   "mimetype": "text/x-python",
   "name": "python",
   "nbconvert_exporter": "python",
   "pygments_lexer": "ipython3",
   "version": "3.9.13"
  }
 },
 "nbformat": 4,
 "nbformat_minor": 5
}
