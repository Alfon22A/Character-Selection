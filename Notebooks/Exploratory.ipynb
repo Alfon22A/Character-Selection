{
 "cells": [
  {
   "cell_type": "code",
   "execution_count": 1,
   "id": "91f21f97-de22-4ece-90f2-ed2a1324f5ad",
   "metadata": {},
   "outputs": [],
   "source": [
    "import numpy as np\n",
    "import pandas as pd\n",
    "import glob\n",
    "from skimage import io\n",
    "\n",
    "from sklearn.model_selection import train_test_split\n",
    "from sklearn.metrics import cohen_kappa_score, classification_report, mean_absolute_error\n",
    "\n",
    "\n",
    "import matplotlib.pyplot as plt\n",
    "%matplotlib inline\n",
    "\n",
    "import tensorflow as tf\n",
    "from tensorflow.keras.models import Sequential\n",
    "from tensorflow.keras.layers import Conv2D, MaxPool2D, Activation, Dropout, Flatten, Dense, Dropout, LayerNormalization, AveragePooling2D\n",
    "from tensorflow.keras.preprocessing.image import ImageDataGenerator, img_to_array, load_img\n",
    "from tensorflow.keras.callbacks import EarlyStopping, ModelCheckpoint\n",
    "import keras\n",
    "from keras.models import load_model\n",
    "\n",
    "import pickle"
   ]
  },
  {
   "cell_type": "code",
   "execution_count": 2,
   "id": "7da6ae12-809d-45f4-975e-bb49a116b83b",
   "metadata": {},
   "outputs": [],
   "source": [
    "# Dataset is divided in 4 files, this concatenates them all\n",
    "df_list = []\n",
    "for file_name in glob.glob(\"../Data/Raw/Archive/*.txt\"):\n",
    "    df_temp = pd.read_csv(file_name, sep=\"\\t\")\n",
    "    df_list.append(df_temp)\n",
    "df = pd.concat(df_list, axis=0, ignore_index=True)"
   ]
  },
  {
   "cell_type": "code",
   "execution_count": 3,
   "id": "2774adf7-7eae-44bc-8ed3-6f09886cd6f3",
   "metadata": {
    "tags": []
   },
   "outputs": [
    {
     "data": {
      "text/html": [
       "<div>\n",
       "<style scoped>\n",
       "    .dataframe tbody tr th:only-of-type {\n",
       "        vertical-align: middle;\n",
       "    }\n",
       "\n",
       "    .dataframe tbody tr th {\n",
       "        vertical-align: top;\n",
       "    }\n",
       "\n",
       "    .dataframe thead th {\n",
       "        text-align: right;\n",
       "    }\n",
       "</style>\n",
       "<table border=\"1\" class=\"dataframe\">\n",
       "  <thead>\n",
       "    <tr style=\"text-align: right;\">\n",
       "      <th></th>\n",
       "      <th>user_id</th>\n",
       "      <th>original_image</th>\n",
       "      <th>face_id</th>\n",
       "      <th>age</th>\n",
       "      <th>gender</th>\n",
       "      <th>x</th>\n",
       "      <th>y</th>\n",
       "      <th>dx</th>\n",
       "      <th>dy</th>\n",
       "      <th>tilt_ang</th>\n",
       "      <th>fiducial_yaw_angle</th>\n",
       "      <th>fiducial_score</th>\n",
       "    </tr>\n",
       "  </thead>\n",
       "  <tbody>\n",
       "    <tr>\n",
       "      <th>0</th>\n",
       "      <td>30601258@N03</td>\n",
       "      <td>10399646885_67c7d20df9_o.jpg</td>\n",
       "      <td>1</td>\n",
       "      <td>(25, 32)</td>\n",
       "      <td>f</td>\n",
       "      <td>0</td>\n",
       "      <td>414</td>\n",
       "      <td>1086</td>\n",
       "      <td>1383</td>\n",
       "      <td>-115</td>\n",
       "      <td>30</td>\n",
       "      <td>17</td>\n",
       "    </tr>\n",
       "    <tr>\n",
       "      <th>1</th>\n",
       "      <td>30601258@N03</td>\n",
       "      <td>10424815813_e94629b1ec_o.jpg</td>\n",
       "      <td>2</td>\n",
       "      <td>(25, 32)</td>\n",
       "      <td>m</td>\n",
       "      <td>301</td>\n",
       "      <td>105</td>\n",
       "      <td>640</td>\n",
       "      <td>641</td>\n",
       "      <td>0</td>\n",
       "      <td>0</td>\n",
       "      <td>94</td>\n",
       "    </tr>\n",
       "    <tr>\n",
       "      <th>2</th>\n",
       "      <td>30601258@N03</td>\n",
       "      <td>10437979845_5985be4b26_o.jpg</td>\n",
       "      <td>1</td>\n",
       "      <td>(25, 32)</td>\n",
       "      <td>f</td>\n",
       "      <td>2395</td>\n",
       "      <td>876</td>\n",
       "      <td>771</td>\n",
       "      <td>771</td>\n",
       "      <td>175</td>\n",
       "      <td>-30</td>\n",
       "      <td>74</td>\n",
       "    </tr>\n",
       "    <tr>\n",
       "      <th>3</th>\n",
       "      <td>30601258@N03</td>\n",
       "      <td>10437979845_5985be4b26_o.jpg</td>\n",
       "      <td>3</td>\n",
       "      <td>(25, 32)</td>\n",
       "      <td>m</td>\n",
       "      <td>752</td>\n",
       "      <td>1255</td>\n",
       "      <td>484</td>\n",
       "      <td>485</td>\n",
       "      <td>180</td>\n",
       "      <td>0</td>\n",
       "      <td>47</td>\n",
       "    </tr>\n",
       "    <tr>\n",
       "      <th>4</th>\n",
       "      <td>30601258@N03</td>\n",
       "      <td>11816644924_075c3d8d59_o.jpg</td>\n",
       "      <td>2</td>\n",
       "      <td>(25, 32)</td>\n",
       "      <td>m</td>\n",
       "      <td>175</td>\n",
       "      <td>80</td>\n",
       "      <td>769</td>\n",
       "      <td>768</td>\n",
       "      <td>-75</td>\n",
       "      <td>0</td>\n",
       "      <td>34</td>\n",
       "    </tr>\n",
       "    <tr>\n",
       "      <th>...</th>\n",
       "      <td>...</td>\n",
       "      <td>...</td>\n",
       "      <td>...</td>\n",
       "      <td>...</td>\n",
       "      <td>...</td>\n",
       "      <td>...</td>\n",
       "      <td>...</td>\n",
       "      <td>...</td>\n",
       "      <td>...</td>\n",
       "      <td>...</td>\n",
       "      <td>...</td>\n",
       "      <td>...</td>\n",
       "    </tr>\n",
       "    <tr>\n",
       "      <th>19365</th>\n",
       "      <td>7153718@N04</td>\n",
       "      <td>11598838386_349a0d4849_o.jpg</td>\n",
       "      <td>2282</td>\n",
       "      <td>None</td>\n",
       "      <td>NaN</td>\n",
       "      <td>596</td>\n",
       "      <td>460</td>\n",
       "      <td>1472</td>\n",
       "      <td>1473</td>\n",
       "      <td>-75</td>\n",
       "      <td>0</td>\n",
       "      <td>30</td>\n",
       "    </tr>\n",
       "    <tr>\n",
       "      <th>19366</th>\n",
       "      <td>7153718@N04</td>\n",
       "      <td>11598166203_c70bb34c80_o.jpg</td>\n",
       "      <td>2283</td>\n",
       "      <td>None</td>\n",
       "      <td>NaN</td>\n",
       "      <td>1179</td>\n",
       "      <td>755</td>\n",
       "      <td>331</td>\n",
       "      <td>331</td>\n",
       "      <td>5</td>\n",
       "      <td>0</td>\n",
       "      <td>108</td>\n",
       "    </tr>\n",
       "    <tr>\n",
       "      <th>19367</th>\n",
       "      <td>7153718@N04</td>\n",
       "      <td>11598166203_c70bb34c80_o.jpg</td>\n",
       "      <td>2282</td>\n",
       "      <td>None</td>\n",
       "      <td>NaN</td>\n",
       "      <td>1201</td>\n",
       "      <td>1179</td>\n",
       "      <td>293</td>\n",
       "      <td>293</td>\n",
       "      <td>5</td>\n",
       "      <td>0</td>\n",
       "      <td>99</td>\n",
       "    </tr>\n",
       "    <tr>\n",
       "      <th>19368</th>\n",
       "      <td>7153718@N04</td>\n",
       "      <td>11598145163_733cb99713_o.jpg</td>\n",
       "      <td>2282</td>\n",
       "      <td>None</td>\n",
       "      <td>NaN</td>\n",
       "      <td>1027</td>\n",
       "      <td>946</td>\n",
       "      <td>408</td>\n",
       "      <td>408</td>\n",
       "      <td>-85</td>\n",
       "      <td>0</td>\n",
       "      <td>49</td>\n",
       "    </tr>\n",
       "    <tr>\n",
       "      <th>19369</th>\n",
       "      <td>7153718@N04</td>\n",
       "      <td>11598013005_240c2bc9c7_o.jpg</td>\n",
       "      <td>2282</td>\n",
       "      <td>None</td>\n",
       "      <td>NaN</td>\n",
       "      <td>498</td>\n",
       "      <td>643</td>\n",
       "      <td>772</td>\n",
       "      <td>772</td>\n",
       "      <td>-80</td>\n",
       "      <td>0</td>\n",
       "      <td>111</td>\n",
       "    </tr>\n",
       "  </tbody>\n",
       "</table>\n",
       "<p>19370 rows × 12 columns</p>\n",
       "</div>"
      ],
      "text/plain": [
       "            user_id                original_image  face_id       age gender  \\\n",
       "0      30601258@N03  10399646885_67c7d20df9_o.jpg        1  (25, 32)      f   \n",
       "1      30601258@N03  10424815813_e94629b1ec_o.jpg        2  (25, 32)      m   \n",
       "2      30601258@N03  10437979845_5985be4b26_o.jpg        1  (25, 32)      f   \n",
       "3      30601258@N03  10437979845_5985be4b26_o.jpg        3  (25, 32)      m   \n",
       "4      30601258@N03  11816644924_075c3d8d59_o.jpg        2  (25, 32)      m   \n",
       "...             ...                           ...      ...       ...    ...   \n",
       "19365   7153718@N04  11598838386_349a0d4849_o.jpg     2282      None    NaN   \n",
       "19366   7153718@N04  11598166203_c70bb34c80_o.jpg     2283      None    NaN   \n",
       "19367   7153718@N04  11598166203_c70bb34c80_o.jpg     2282      None    NaN   \n",
       "19368   7153718@N04  11598145163_733cb99713_o.jpg     2282      None    NaN   \n",
       "19369   7153718@N04  11598013005_240c2bc9c7_o.jpg     2282      None    NaN   \n",
       "\n",
       "          x     y    dx    dy  tilt_ang  fiducial_yaw_angle  fiducial_score  \n",
       "0         0   414  1086  1383      -115                  30              17  \n",
       "1       301   105   640   641         0                   0              94  \n",
       "2      2395   876   771   771       175                 -30              74  \n",
       "3       752  1255   484   485       180                   0              47  \n",
       "4       175    80   769   768       -75                   0              34  \n",
       "...     ...   ...   ...   ...       ...                 ...             ...  \n",
       "19365   596   460  1472  1473       -75                   0              30  \n",
       "19366  1179   755   331   331         5                   0             108  \n",
       "19367  1201  1179   293   293         5                   0              99  \n",
       "19368  1027   946   408   408       -85                   0              49  \n",
       "19369   498   643   772   772       -80                   0             111  \n",
       "\n",
       "[19370 rows x 12 columns]"
      ]
     },
     "execution_count": 3,
     "metadata": {},
     "output_type": "execute_result"
    }
   ],
   "source": [
    "df"
   ]
  },
  {
   "cell_type": "code",
   "execution_count": 4,
   "id": "e9cb4e1e-2af8-4511-90c7-15bcff507f73",
   "metadata": {},
   "outputs": [],
   "source": [
    "df = df.dropna()"
   ]
  },
  {
   "cell_type": "code",
   "execution_count": 5,
   "id": "e30c3bbc-d3b8-4efc-9e2b-ba9803bd170a",
   "metadata": {
    "tags": []
   },
   "outputs": [
    {
     "data": {
      "text/plain": [
       "(25, 32)     4953\n",
       "(0, 2)       2488\n",
       "(38, 43)     2293\n",
       "(4, 6)       2140\n",
       "(8, 12)      2119\n",
       "(15, 20)     1642\n",
       "(60, 100)     867\n",
       "(48, 53)      825\n",
       "35            293\n",
       "13            168\n",
       "22            149\n",
       "34            105\n",
       "23             96\n",
       "45             88\n",
       "(27, 32)       77\n",
       "55             76\n",
       "36             56\n",
       "(38, 42)       46\n",
       "None           40\n",
       "57             24\n",
       "3              18\n",
       "29             11\n",
       "(38, 48)        6\n",
       "58              5\n",
       "2               3\n",
       "(8, 23)         1\n",
       "42              1\n",
       "46              1\n",
       "Name: age, dtype: int64"
      ]
     },
     "execution_count": 5,
     "metadata": {},
     "output_type": "execute_result"
    }
   ],
   "source": [
    "df[\"age\"].value_counts()"
   ]
  },
  {
   "cell_type": "markdown",
   "id": "1b248b12-fd0a-43b2-9341-8fded9660176",
   "metadata": {},
   "source": [
    "Age map to use for regression, this dataset is meant to make the age a classification problem, but we are going to make it a regression one"
   ]
  },
  {
   "cell_type": "code",
   "execution_count": 6,
   "id": "928505ab-0f0a-45c8-acf2-5d7fc8fd0758",
   "metadata": {
    "tags": []
   },
   "outputs": [],
   "source": [
    "df = df[df[\"age\"] != \"None\"]\n",
    "\n",
    "ages_map = {}\n",
    "ages_keys = df[\"age\"].value_counts().index\n",
    "ages_values = []\n",
    "\n",
    "for x in df[\"age\"].value_counts().index:\n",
    "    if x.startswith(\"(\"):\n",
    "        x = x.split(\", \")\n",
    "        x[0] = x[0].replace(\"(\",\"\")\n",
    "        x[1] = x[1].replace(\")\",\"\")\n",
    "        x[0] = int(x[0])\n",
    "        x[1] = int(x[1])\n",
    "        x = int((x[0]+x[1])/2)\n",
    "        ages_values.append(x)\n",
    "    else:\n",
    "        ages_values.append(int(x))"
   ]
  },
  {
   "cell_type": "code",
   "execution_count": 7,
   "id": "6d2133fd-f23a-4d97-8390-6c42f84a0095",
   "metadata": {
    "tags": []
   },
   "outputs": [],
   "source": [
    "for key, value in zip(ages_keys, ages_values):\n",
    "    ages_map[key] = value"
   ]
  },
  {
   "cell_type": "code",
   "execution_count": 8,
   "id": "3bcebb7a-247c-4e57-b969-e6ade2d4b7b3",
   "metadata": {
    "tags": []
   },
   "outputs": [],
   "source": [
    "df[\"age\"] = df[\"age\"].map(ages_map)"
   ]
  },
  {
   "cell_type": "code",
   "execution_count": 9,
   "id": "fc56400a-17ae-4bb7-bc11-678f9449a933",
   "metadata": {},
   "outputs": [
    {
     "data": {
      "text/plain": [
       "f    9332\n",
       "m    8120\n",
       "u    1099\n",
       "Name: gender, dtype: int64"
      ]
     },
     "execution_count": 9,
     "metadata": {},
     "output_type": "execute_result"
    }
   ],
   "source": [
    "df[\"gender\"].value_counts()"
   ]
  },
  {
   "cell_type": "code",
   "execution_count": 10,
   "id": "4b15e616-ab11-4ab7-aa06-0f279477edac",
   "metadata": {},
   "outputs": [],
   "source": [
    "# We will later make the model predict a non-binary category\n",
    "\n",
    "df = df[df[\"gender\"] != \"u\"]\n",
    "df[\"gender\"] = df[\"gender\"].apply(lambda x: 1 if x == \"m\" else 0).astype(int)"
   ]
  },
  {
   "cell_type": "code",
   "execution_count": 11,
   "id": "c925dce8-5a77-42d6-acb1-d6f5cad01576",
   "metadata": {
    "tags": []
   },
   "outputs": [],
   "source": [
    "# Creating the path to the image\n",
    "\n",
    "df[\"face_id\"] = df[\"face_id\"].astype(str)\n",
    "df[\"path\"] = \"../Data/Raw/Archive/Faces/\"+df[\"user_id\"]+\"/coarse_tilt_aligned_face.\"+df[\"face_id\"]+\".\"+df[\"original_image\"]"
   ]
  },
  {
   "cell_type": "code",
   "execution_count": 12,
   "id": "804f818a-10b3-450e-9ccd-b04c2266177f",
   "metadata": {},
   "outputs": [],
   "source": [
    "df.to_csv(\"../Data/Clean/Faces.csv\")"
   ]
  },
  {
   "cell_type": "code",
   "execution_count": 13,
   "id": "6f0159e7-dab5-4ac0-a5bf-5b66db5ba79a",
   "metadata": {},
   "outputs": [],
   "source": [
    "X = df[\"path\"]\n",
    "y_age = df[\"age\"]\n",
    "y_gender = df[\"gender\"]"
   ]
  },
  {
   "cell_type": "code",
   "execution_count": 14,
   "id": "abf36d3b-8ca2-4903-bd4c-966a936580f9",
   "metadata": {},
   "outputs": [],
   "source": [
    "X_train, X_test, y_train_age, y_test_age = train_test_split(X, y_age, test_size = 0.22, random_state = 22)\n",
    "X_train, X_test, y_train_gender, y_test_gender = train_test_split(X, y_gender, test_size = 0.22, random_state = 22)"
   ]
  },
  {
   "cell_type": "markdown",
   "id": "619bd733-f24d-455e-8093-2fd7d332af92",
   "metadata": {},
   "source": [
    "Image greyscaled, downscaled, size adjusted and transformed."
   ]
  },
  {
   "cell_type": "code",
   "execution_count": 15,
   "id": "a10847a6-9c0e-4402-baae-3b7f201a891a",
   "metadata": {},
   "outputs": [],
   "source": [
    "def image_preprocess(path):\n",
    "    img = tf.io.read_file(np.array(path).ravel()[0])\n",
    "    img = tf.image.decode_jpeg(img, channels = 1, ratio = 2)\n",
    "    img = tf.image.resize(img, [64,64])\n",
    "    img = img / 255 # This part normalizes the image, scaling it down; 255 is the max, while 0 is the min\n",
    "    return img"
   ]
  },
  {
   "cell_type": "code",
   "execution_count": 16,
   "id": "3d4a64fc-df39-41c7-8e34-bbad7cd6ecf1",
   "metadata": {
    "tags": []
   },
   "outputs": [
    {
     "data": {
      "text/plain": [
       "<matplotlib.image.AxesImage at 0x1ea60d4fdf0>"
      ]
     },
     "execution_count": 16,
     "metadata": {},
     "output_type": "execute_result"
    },
    {
     "data": {
      "image/png": "[encoded data removed]",
      "text/plain": [
       "<Figure size 640x480 with 1 Axes>"
      ]
     },
     "metadata": {},
     "output_type": "display_data"
    }
   ],
   "source": [
    "plt.imshow(image_preprocess(df[\"path\"][22]))"
   ]
  },
  {
   "cell_type": "code",
   "execution_count": 17,
   "id": "7e636d2a-213a-4dba-ad96-0433280cbf7b",
   "metadata": {},
   "outputs": [],
   "source": [
    "# Preparing the data that will be fed to the model\n",
    "\n",
    "X_train_images = np.array([image_preprocess(path) for path in X_train])\n",
    "X_test_images = np.array([image_preprocess(path) for path in X_test])"
   ]
  },
  {
   "cell_type": "code",
   "execution_count": 18,
   "id": "1eee5705-96b1-4f21-9e5b-4e54f2e31497",
   "metadata": {},
   "outputs": [],
   "source": [
    "filename = \"../Data/Clean/X_train_images.pkl\"\n",
    "with open(filename, \"wb\") as file:\n",
    "    pickle.dump(X_train_images, file)"
   ]
  },
  {
   "cell_type": "code",
   "execution_count": 19,
   "id": "00280792-7976-4a63-947b-84faef77a75a",
   "metadata": {},
   "outputs": [],
   "source": [
    "filename = \"../Data/Clean/X_test_images.pkl\"\n",
    "with open(filename, \"wb\") as file:\n",
    "    pickle.dump(X_test_images, file)"
   ]
  },
  {
   "cell_type": "code",
   "execution_count": 20,
   "id": "3d11f07b-5463-4572-987f-3cecc56a4ce6",
   "metadata": {},
   "outputs": [],
   "source": [
    "# This changes the learning rate based on epochs\n",
    "\n",
    "def scheduler(epoch, lr):\n",
    "    if epoch < 5:\n",
    "        return lr\n",
    "    else:\n",
    "        return lr - (lr/(epoch))"
   ]
  },
  {
   "cell_type": "code",
   "execution_count": 34,
   "id": "a02f0314-f53b-46fa-98c1-60bd7c7072d3",
   "metadata": {
    "collapsed": true,
    "jupyter": {
     "outputs_hidden": true
    },
    "tags": []
   },
   "outputs": [
    {
     "name": "stdout",
     "output_type": "stream",
     "text": [
      "Model: \"sequential_2\"\n",
      "_________________________________________________________________\n",
      " Layer (type)                Output Shape              Param #   \n",
      "=================================================================\n",
      " conv2d_6 (Conv2D)           (None, 63, 63, 64)        320       \n",
      "                                                                 \n",
      " max_pooling2d_6 (MaxPooling  (None, 31, 31, 64)       0         \n",
      " 2D)                                                             \n",
      "                                                                 \n",
      " conv2d_7 (Conv2D)           (None, 30, 30, 64)        16448     \n",
      "                                                                 \n",
      " max_pooling2d_7 (MaxPooling  (None, 15, 15, 64)       0         \n",
      " 2D)                                                             \n",
      "                                                                 \n",
      " conv2d_8 (Conv2D)           (None, 14, 14, 64)        16448     \n",
      "                                                                 \n",
      " max_pooling2d_8 (MaxPooling  (None, 7, 7, 64)         0         \n",
      " 2D)                                                             \n",
      "                                                                 \n",
      " flatten_2 (Flatten)         (None, 3136)              0         \n",
      "                                                                 \n",
      " dense_4 (Dense)             (None, 64)                200768    \n",
      "                                                                 \n",
      " dense_5 (Dense)             (None, 1)                 65        \n",
      "                                                                 \n",
      "=================================================================\n",
      "Total params: 234,049\n",
      "Trainable params: 234,049\n",
      "Non-trainable params: 0\n",
      "_________________________________________________________________\n"
     ]
    }
   ],
   "source": [
    "model_age = Sequential()\n",
    "# First layer needs as many nodes as inputs\n",
    "model_age.add(Conv2D(64,(2,2), activation = \"relu\", input_shape = (64,64,1)))\n",
    "model_age.add(MaxPool2D((2,2)))\n",
    "model_age.add(Conv2D(64,(2,2), activation = \"relu\"))\n",
    "model_age.add(MaxPool2D((2,2)))\n",
    "model_age.add(Conv2D(64,(2,2), activation = \"relu\"))\n",
    "model_age.add(MaxPool2D((2,2)))\n",
    "model_age.add(Flatten())\n",
    "model_age.add(Dense(64, activation = \"relu\"))\n",
    "model_age.add(Dense(1, activation = \"relu\"))\n",
    "opt = keras.optimizers.Adam(learning_rate = 0.003)\n",
    "model_age.compile(optimizer = opt,\n",
    "              loss = \"mse\",\n",
    "              metrics = [\"mae\", \"mse\", \"mape\"])\n",
    "model_age.summary()"
   ]
  },
  {
   "cell_type": "code",
   "execution_count": 35,
   "id": "7304ed8a-6a6c-4fd9-8f84-beeca348d225",
   "metadata": {},
   "outputs": [],
   "source": [
    "early_stop = EarlyStopping(patience=5)\n",
    "\n",
    "checkpoint_path = '../Models/Age_NN7.hdf5'\n",
    "checkpoint = ModelCheckpoint(\n",
    "    filepath=checkpoint_path,\n",
    "    save_freq='epoch',\n",
    "    save_weights_only=False,\n",
    "    verbose=1\n",
    ")\n",
    "\n",
    "schedule = tf.keras.callbacks.LearningRateScheduler(scheduler)"
   ]
  },
  {
   "cell_type": "code",
   "execution_count": 36,
   "id": "96c58fb3-1ab8-4d14-8d20-2b12df94e0bf",
   "metadata": {
    "collapsed": true,
    "jupyter": {
     "outputs_hidden": true
    },
    "tags": []
   },
   "outputs": [
    {
     "name": "stdout",
     "output_type": "stream",
     "text": [
      "Epoch 1/100\n",
      "\n",
      "Epoch 1: saving model to ../Models\\Age_NN7.hdf5\n",
      "107/107 - 62s - loss: 381.9549 - mae: 14.8937 - mse: 381.9549 - mape: 273.1727 - val_loss: 361.9691 - val_mae: 14.6653 - val_mse: 361.9691 - val_mape: 322.8670 - lr: 0.0030 - 62s/epoch - 582ms/step\n",
      "Epoch 2/100\n",
      "\n",
      "Epoch 2: saving model to ../Models\\Age_NN7.hdf5\n",
      "107/107 - 96s - loss: 338.5774 - mae: 14.0133 - mse: 338.5774 - mape: 259.4206 - val_loss: 319.2739 - val_mae: 13.6549 - val_mse: 319.2739 - val_mape: 264.7018 - lr: 0.0030 - 96s/epoch - 898ms/step\n",
      "Epoch 3/100\n",
      "\n",
      "Epoch 3: saving model to ../Models\\Age_NN7.hdf5\n",
      "107/107 - 103s - loss: 308.8411 - mae: 13.2441 - mse: 308.8411 - mape: 223.8439 - val_loss: 290.8882 - val_mae: 12.3542 - val_mse: 290.8882 - val_mape: 178.0007 - lr: 0.0030 - 103s/epoch - 964ms/step\n",
      "Epoch 4/100\n",
      "\n",
      "Epoch 4: saving model to ../Models\\Age_NN7.hdf5\n",
      "107/107 - 111s - loss: 283.2211 - mae: 12.5119 - mse: 283.2211 - mape: 193.0115 - val_loss: 273.9484 - val_mae: 11.9949 - val_mse: 273.9484 - val_mape: 163.7167 - lr: 0.0030 - 111s/epoch - 1s/step\n",
      "Epoch 5/100\n",
      "\n",
      "Epoch 5: saving model to ../Models\\Age_NN7.hdf5\n",
      "107/107 - 115s - loss: 272.9534 - mae: 12.2148 - mse: 272.9534 - mape: 178.9253 - val_loss: 263.4486 - val_mae: 11.9604 - val_mse: 263.4486 - val_mape: 175.5281 - lr: 0.0030 - 115s/epoch - 1s/step\n",
      "Epoch 6/100\n",
      "\n",
      "Epoch 6: saving model to ../Models\\Age_NN7.hdf5\n",
      "107/107 - 104s - loss: 257.4668 - mae: 11.8095 - mse: 257.4668 - mape: 162.6098 - val_loss: 269.0553 - val_mae: 12.8385 - val_mse: 269.0553 - val_mape: 204.6831 - lr: 0.0024 - 104s/epoch - 976ms/step\n",
      "Epoch 7/100\n",
      "\n",
      "Epoch 7: saving model to ../Models\\Age_NN7.hdf5\n",
      "107/107 - 105s - loss: 240.1338 - mae: 11.3383 - mse: 240.1338 - mape: 147.7649 - val_loss: 237.0076 - val_mae: 11.0586 - val_mse: 237.0076 - val_mape: 138.9516 - lr: 0.0020 - 105s/epoch - 979ms/step\n",
      "Epoch 8/100\n",
      "\n",
      "Epoch 8: saving model to ../Models\\Age_NN7.hdf5\n",
      "107/107 - 103s - loss: 232.9047 - mae: 11.1205 - mse: 232.9047 - mape: 139.0682 - val_loss: 235.4819 - val_mae: 10.8612 - val_mse: 235.4819 - val_mape: 133.2366 - lr: 0.0017 - 103s/epoch - 959ms/step\n",
      "Epoch 9/100\n",
      "\n",
      "Epoch 9: saving model to ../Models\\Age_NN7.hdf5\n",
      "107/107 - 108s - loss: 215.2686 - mae: 10.6191 - mse: 215.2686 - mape: 129.5595 - val_loss: 225.8102 - val_mae: 10.4792 - val_mse: 225.8102 - val_mape: 100.7093 - lr: 0.0015 - 108s/epoch - 1s/step\n",
      "Epoch 10/100\n",
      "\n",
      "Epoch 10: saving model to ../Models\\Age_NN7.hdf5\n",
      "107/107 - 72s - loss: 206.3445 - mae: 10.3699 - mse: 206.3445 - mape: 122.3370 - val_loss: 217.6950 - val_mae: 10.4005 - val_mse: 217.6950 - val_mape: 103.5914 - lr: 0.0013 - 72s/epoch - 669ms/step\n",
      "Epoch 11/100\n",
      "\n",
      "Epoch 11: saving model to ../Models\\Age_NN7.hdf5\n",
      "107/107 - 56s - loss: 205.1866 - mae: 10.2983 - mse: 205.1866 - mape: 117.4275 - val_loss: 219.3264 - val_mae: 11.1142 - val_mse: 219.3264 - val_mape: 144.3021 - lr: 0.0012 - 56s/epoch - 524ms/step\n",
      "Epoch 12/100\n",
      "\n",
      "Epoch 12: saving model to ../Models\\Age_NN7.hdf5\n",
      "107/107 - 57s - loss: 198.2676 - mae: 10.1348 - mse: 198.2676 - mape: 115.4215 - val_loss: 210.7079 - val_mae: 10.7878 - val_mse: 210.7079 - val_mape: 139.6206 - lr: 0.0011 - 57s/epoch - 532ms/step\n",
      "Epoch 13/100\n",
      "\n",
      "Epoch 13: saving model to ../Models\\Age_NN7.hdf5\n",
      "107/107 - 63s - loss: 194.0280 - mae: 10.0072 - mse: 194.0280 - mape: 112.0003 - val_loss: 220.0933 - val_mae: 11.2271 - val_mse: 220.0933 - val_mape: 152.5376 - lr: 0.0010 - 63s/epoch - 588ms/step\n",
      "Epoch 14/100\n",
      "\n",
      "Epoch 14: saving model to ../Models\\Age_NN7.hdf5\n",
      "107/107 - 58s - loss: 187.8607 - mae: 9.8373 - mse: 187.8607 - mape: 109.0645 - val_loss: 211.3738 - val_mae: 10.0019 - val_mse: 211.3738 - val_mape: 87.1622 - lr: 9.2308e-04 - 58s/epoch - 538ms/step\n",
      "Epoch 15/100\n",
      "\n",
      "Epoch 15: saving model to ../Models\\Age_NN7.hdf5\n",
      "107/107 - 61s - loss: 183.5231 - mae: 9.7288 - mse: 183.5231 - mape: 107.5404 - val_loss: 197.2323 - val_mae: 9.8740 - val_mse: 197.2323 - val_mape: 101.0524 - lr: 8.5714e-04 - 61s/epoch - 574ms/step\n",
      "Epoch 16/100\n",
      "\n",
      "Epoch 16: saving model to ../Models\\Age_NN7.hdf5\n",
      "107/107 - 61s - loss: 178.4157 - mae: 9.5636 - mse: 178.4157 - mape: 104.2874 - val_loss: 205.7732 - val_mae: 9.8477 - val_mse: 205.7732 - val_mape: 83.1732 - lr: 8.0000e-04 - 61s/epoch - 566ms/step\n",
      "Epoch 17/100\n",
      "\n",
      "Epoch 17: saving model to ../Models\\Age_NN7.hdf5\n",
      "107/107 - 64s - loss: 176.3641 - mae: 9.4841 - mse: 176.3641 - mape: 101.8155 - val_loss: 192.9871 - val_mae: 9.7685 - val_mse: 192.9871 - val_mape: 96.7623 - lr: 7.5000e-04 - 64s/epoch - 600ms/step\n",
      "Epoch 18/100\n",
      "\n",
      "Epoch 18: saving model to ../Models\\Age_NN7.hdf5\n",
      "107/107 - 64s - loss: 172.3709 - mae: 9.3879 - mse: 172.3709 - mape: 100.1375 - val_loss: 189.1236 - val_mae: 9.8154 - val_mse: 189.1236 - val_mape: 101.5659 - lr: 7.0588e-04 - 64s/epoch - 597ms/step\n",
      "Epoch 19/100\n",
      "\n",
      "Epoch 19: saving model to ../Models\\Age_NN7.hdf5\n",
      "107/107 - 64s - loss: 170.9332 - mae: 9.3423 - mse: 170.9332 - mape: 98.2596 - val_loss: 188.2682 - val_mae: 9.8679 - val_mse: 188.2682 - val_mape: 105.9600 - lr: 6.6667e-04 - 64s/epoch - 601ms/step\n",
      "Epoch 20/100\n",
      "\n",
      "Epoch 20: saving model to ../Models\\Age_NN7.hdf5\n",
      "107/107 - 58s - loss: 166.2470 - mae: 9.2128 - mse: 166.2470 - mape: 96.9902 - val_loss: 190.1547 - val_mae: 9.5975 - val_mse: 190.1547 - val_mape: 91.2739 - lr: 6.3158e-04 - 58s/epoch - 543ms/step\n",
      "Epoch 21/100\n",
      "\n",
      "Epoch 21: saving model to ../Models\\Age_NN7.hdf5\n",
      "107/107 - 70s - loss: 168.5032 - mae: 9.2984 - mse: 168.5032 - mape: 97.7272 - val_loss: 184.3238 - val_mae: 9.6292 - val_mse: 184.3238 - val_mape: 97.6236 - lr: 6.0000e-04 - 70s/epoch - 656ms/step\n",
      "Epoch 22/100\n",
      "\n",
      "Epoch 22: saving model to ../Models\\Age_NN7.hdf5\n",
      "107/107 - 59s - loss: 163.2267 - mae: 9.1267 - mse: 163.2267 - mape: 95.6051 - val_loss: 192.8667 - val_mae: 9.5101 - val_mse: 192.8667 - val_mape: 79.6381 - lr: 5.7143e-04 - 59s/epoch - 554ms/step\n",
      "Epoch 23/100\n",
      "\n",
      "Epoch 23: saving model to ../Models\\Age_NN7.hdf5\n",
      "107/107 - 58s - loss: 161.6668 - mae: 9.0750 - mse: 161.6668 - mape: 95.3879 - val_loss: 190.8465 - val_mae: 9.5308 - val_mse: 190.8465 - val_mape: 77.2590 - lr: 5.4545e-04 - 58s/epoch - 541ms/step\n",
      "Epoch 24/100\n",
      "\n",
      "Epoch 24: saving model to ../Models\\Age_NN7.hdf5\n",
      "107/107 - 56s - loss: 158.9154 - mae: 8.9913 - mse: 158.9154 - mape: 92.0350 - val_loss: 182.4292 - val_mae: 9.4286 - val_mse: 182.4292 - val_mape: 89.0409 - lr: 5.2174e-04 - 56s/epoch - 523ms/step\n",
      "Epoch 25/100\n",
      "\n",
      "Epoch 25: saving model to ../Models\\Age_NN7.hdf5\n",
      "107/107 - 59s - loss: 155.7101 - mae: 8.9110 - mse: 155.7101 - mape: 92.0840 - val_loss: 179.9355 - val_mae: 9.4389 - val_mse: 179.9355 - val_mape: 90.7968 - lr: 5.0000e-04 - 59s/epoch - 550ms/step\n",
      "Epoch 26/100\n",
      "\n",
      "Epoch 26: saving model to ../Models\\Age_NN7.hdf5\n",
      "107/107 - 60s - loss: 154.3683 - mae: 8.8448 - mse: 154.3683 - mape: 90.3176 - val_loss: 179.3519 - val_mae: 9.3891 - val_mse: 179.3519 - val_mape: 91.0726 - lr: 4.8000e-04 - 60s/epoch - 565ms/step\n",
      "Epoch 27/100\n",
      "\n",
      "Epoch 27: saving model to ../Models\\Age_NN7.hdf5\n",
      "107/107 - 65s - loss: 153.7784 - mae: 8.8582 - mse: 153.7784 - mape: 90.9490 - val_loss: 179.2305 - val_mae: 9.5673 - val_mse: 179.2305 - val_mape: 98.8034 - lr: 4.6154e-04 - 65s/epoch - 604ms/step\n",
      "Epoch 28/100\n",
      "\n",
      "Epoch 28: saving model to ../Models\\Age_NN7.hdf5\n",
      "107/107 - 65s - loss: 150.7966 - mae: 8.7387 - mse: 150.7966 - mape: 88.5471 - val_loss: 176.8579 - val_mae: 9.4836 - val_mse: 176.8579 - val_mape: 99.8301 - lr: 4.4444e-04 - 65s/epoch - 610ms/step\n",
      "Epoch 29/100\n",
      "\n",
      "Epoch 29: saving model to ../Models\\Age_NN7.hdf5\n",
      "107/107 - 60s - loss: 150.0916 - mae: 8.7479 - mse: 150.0916 - mape: 89.6936 - val_loss: 177.2260 - val_mae: 9.3670 - val_mse: 177.2260 - val_mape: 92.9507 - lr: 4.2857e-04 - 60s/epoch - 561ms/step\n",
      "Epoch 30/100\n",
      "\n",
      "Epoch 30: saving model to ../Models\\Age_NN7.hdf5\n",
      "107/107 - 54s - loss: 149.0036 - mae: 8.7100 - mse: 149.0036 - mape: 88.6323 - val_loss: 177.5525 - val_mae: 9.2755 - val_mse: 177.5525 - val_mape: 83.4009 - lr: 4.1379e-04 - 54s/epoch - 506ms/step\n",
      "Epoch 31/100\n",
      "\n",
      "Epoch 31: saving model to ../Models\\Age_NN7.hdf5\n",
      "107/107 - 56s - loss: 145.8458 - mae: 8.6217 - mse: 145.8458 - mape: 87.3839 - val_loss: 174.9054 - val_mae: 9.2666 - val_mse: 174.9054 - val_mape: 87.4116 - lr: 4.0000e-04 - 56s/epoch - 527ms/step\n",
      "Epoch 32/100\n",
      "\n",
      "Epoch 32: saving model to ../Models\\Age_NN7.hdf5\n",
      "107/107 - 57s - loss: 145.9833 - mae: 8.6427 - mse: 145.9833 - mape: 86.4008 - val_loss: 174.0007 - val_mae: 9.3526 - val_mse: 174.0007 - val_mape: 96.4974 - lr: 3.8710e-04 - 57s/epoch - 532ms/step\n",
      "Epoch 33/100\n",
      "\n",
      "Epoch 33: saving model to ../Models\\Age_NN7.hdf5\n",
      "107/107 - 55s - loss: 142.5738 - mae: 8.5177 - mse: 142.5738 - mape: 86.1511 - val_loss: 175.4255 - val_mae: 9.2721 - val_mse: 175.4255 - val_mape: 85.9168 - lr: 3.7500e-04 - 55s/epoch - 516ms/step\n",
      "Epoch 34/100\n",
      "\n",
      "Epoch 34: saving model to ../Models\\Age_NN7.hdf5\n",
      "107/107 - 58s - loss: 141.3004 - mae: 8.4967 - mse: 141.3004 - mape: 85.8595 - val_loss: 174.3168 - val_mae: 9.4789 - val_mse: 174.3168 - val_mape: 98.3668 - lr: 3.6364e-04 - 58s/epoch - 543ms/step\n",
      "Epoch 35/100\n",
      "\n",
      "Epoch 35: saving model to ../Models\\Age_NN7.hdf5\n",
      "107/107 - 57s - loss: 139.4558 - mae: 8.4330 - mse: 139.4558 - mape: 84.3248 - val_loss: 172.9356 - val_mae: 9.3384 - val_mse: 172.9356 - val_mape: 96.1191 - lr: 3.5294e-04 - 57s/epoch - 529ms/step\n",
      "Epoch 36/100\n",
      "\n",
      "Epoch 36: saving model to ../Models\\Age_NN7.hdf5\n",
      "107/107 - 61s - loss: 137.7891 - mae: 8.3942 - mse: 137.7891 - mape: 84.4275 - val_loss: 172.7817 - val_mae: 9.2979 - val_mse: 172.7817 - val_mape: 89.6512 - lr: 3.4286e-04 - 61s/epoch - 573ms/step\n",
      "Epoch 37/100\n",
      "\n",
      "Epoch 37: saving model to ../Models\\Age_NN7.hdf5\n",
      "107/107 - 64s - loss: 137.3523 - mae: 8.3779 - mse: 137.3523 - mape: 83.0850 - val_loss: 171.6133 - val_mae: 9.2132 - val_mse: 171.6133 - val_mape: 88.8973 - lr: 3.3333e-04 - 64s/epoch - 594ms/step\n",
      "Epoch 38/100\n",
      "\n",
      "Epoch 38: saving model to ../Models\\Age_NN7.hdf5\n",
      "107/107 - 58s - loss: 135.1921 - mae: 8.3082 - mse: 135.1921 - mape: 83.5805 - val_loss: 171.9465 - val_mae: 9.2528 - val_mse: 171.9465 - val_mape: 87.2599 - lr: 3.2432e-04 - 58s/epoch - 542ms/step\n",
      "Epoch 39/100\n",
      "\n",
      "Epoch 39: saving model to ../Models\\Age_NN7.hdf5\n",
      "107/107 - 58s - loss: 134.8282 - mae: 8.3058 - mse: 134.8282 - mape: 82.5291 - val_loss: 172.9877 - val_mae: 9.1142 - val_mse: 172.9877 - val_mape: 81.6312 - lr: 3.1579e-04 - 58s/epoch - 538ms/step\n",
      "Epoch 40/100\n",
      "\n",
      "Epoch 40: saving model to ../Models\\Age_NN7.hdf5\n",
      "107/107 - 60s - loss: 133.8518 - mae: 8.2626 - mse: 133.8518 - mape: 82.2505 - val_loss: 173.3722 - val_mae: 9.0892 - val_mse: 173.3722 - val_mape: 78.7980 - lr: 3.0769e-04 - 60s/epoch - 557ms/step\n",
      "Epoch 41/100\n",
      "\n",
      "Epoch 41: saving model to ../Models\\Age_NN7.hdf5\n",
      "107/107 - 61s - loss: 131.4696 - mae: 8.2010 - mse: 131.4696 - mape: 81.2392 - val_loss: 171.6007 - val_mae: 9.2434 - val_mse: 171.6007 - val_mape: 88.6928 - lr: 3.0000e-04 - 61s/epoch - 573ms/step\n",
      "Epoch 42/100\n",
      "\n",
      "Epoch 42: saving model to ../Models\\Age_NN7.hdf5\n",
      "107/107 - 62s - loss: 130.8569 - mae: 8.1880 - mse: 130.8569 - mape: 81.2451 - val_loss: 170.4608 - val_mae: 9.1245 - val_mse: 170.4608 - val_mape: 83.1330 - lr: 2.9268e-04 - 62s/epoch - 580ms/step\n",
      "Epoch 43/100\n",
      "\n",
      "Epoch 43: saving model to ../Models\\Age_NN7.hdf5\n",
      "107/107 - 64s - loss: 129.7771 - mae: 8.1558 - mse: 129.7771 - mape: 81.0708 - val_loss: 173.0459 - val_mae: 9.4758 - val_mse: 173.0459 - val_mape: 96.5997 - lr: 2.8571e-04 - 64s/epoch - 600ms/step\n",
      "Epoch 44/100\n",
      "\n",
      "Epoch 44: saving model to ../Models\\Age_NN7.hdf5\n",
      "107/107 - 63s - loss: 129.2505 - mae: 8.1490 - mse: 129.2505 - mape: 80.7345 - val_loss: 170.3312 - val_mae: 9.0712 - val_mse: 170.3312 - val_mape: 82.2560 - lr: 2.7907e-04 - 63s/epoch - 593ms/step\n",
      "Epoch 45/100\n",
      "\n",
      "Epoch 45: saving model to ../Models\\Age_NN7.hdf5\n",
      "107/107 - 58s - loss: 127.2454 - mae: 8.0858 - mse: 127.2454 - mape: 80.3431 - val_loss: 168.8989 - val_mae: 9.2804 - val_mse: 168.8989 - val_mape: 93.4813 - lr: 2.7273e-04 - 58s/epoch - 542ms/step\n",
      "Epoch 46/100\n",
      "\n",
      "Epoch 46: saving model to ../Models\\Age_NN7.hdf5\n",
      "107/107 - 63s - loss: 126.1582 - mae: 8.0545 - mse: 126.1582 - mape: 80.0539 - val_loss: 168.3069 - val_mae: 9.1495 - val_mse: 168.3069 - val_mape: 88.4801 - lr: 2.6667e-04 - 63s/epoch - 593ms/step\n",
      "Epoch 47/100\n",
      "\n",
      "Epoch 47: saving model to ../Models\\Age_NN7.hdf5\n",
      "107/107 - 58s - loss: 124.6084 - mae: 7.9924 - mse: 124.6084 - mape: 78.9318 - val_loss: 170.9133 - val_mae: 9.4040 - val_mse: 170.9133 - val_mape: 96.1713 - lr: 2.6087e-04 - 58s/epoch - 541ms/step\n",
      "Epoch 48/100\n",
      "\n",
      "Epoch 48: saving model to ../Models\\Age_NN7.hdf5\n",
      "107/107 - 54s - loss: 124.5183 - mae: 7.9850 - mse: 124.5183 - mape: 78.7486 - val_loss: 171.0679 - val_mae: 9.0827 - val_mse: 171.0679 - val_mape: 78.3620 - lr: 2.5532e-04 - 54s/epoch - 504ms/step\n",
      "Epoch 49/100\n",
      "\n",
      "Epoch 49: saving model to ../Models\\Age_NN7.hdf5\n",
      "107/107 - 63s - loss: 123.1296 - mae: 7.9499 - mse: 123.1296 - mape: 78.5440 - val_loss: 169.9574 - val_mae: 9.3702 - val_mse: 169.9574 - val_mape: 95.8264 - lr: 2.5000e-04 - 63s/epoch - 584ms/step\n",
      "Epoch 50/100\n",
      "\n",
      "Epoch 50: saving model to ../Models\\Age_NN7.hdf5\n",
      "107/107 - 56s - loss: 122.3227 - mae: 7.9357 - mse: 122.3227 - mape: 78.1558 - val_loss: 167.9141 - val_mae: 9.2755 - val_mse: 167.9141 - val_mape: 93.6767 - lr: 2.4490e-04 - 56s/epoch - 525ms/step\n",
      "Epoch 51/100\n",
      "\n",
      "Epoch 51: saving model to ../Models\\Age_NN7.hdf5\n",
      "107/107 - 56s - loss: 120.9573 - mae: 7.8718 - mse: 120.9573 - mape: 77.8855 - val_loss: 170.2681 - val_mae: 9.3287 - val_mse: 170.2681 - val_mape: 92.4472 - lr: 2.4000e-04 - 56s/epoch - 525ms/step\n",
      "Epoch 52/100\n",
      "\n",
      "Epoch 52: saving model to ../Models\\Age_NN7.hdf5\n",
      "107/107 - 55s - loss: 120.5667 - mae: 7.8780 - mse: 120.5667 - mape: 77.8231 - val_loss: 166.6280 - val_mae: 9.0652 - val_mse: 166.6280 - val_mape: 85.3690 - lr: 2.3529e-04 - 55s/epoch - 514ms/step\n",
      "Epoch 53/100\n",
      "\n",
      "Epoch 53: saving model to ../Models\\Age_NN7.hdf5\n",
      "107/107 - 61s - loss: 120.1299 - mae: 7.8576 - mse: 120.1299 - mape: 77.0659 - val_loss: 173.4844 - val_mae: 9.5420 - val_mse: 173.4844 - val_mape: 97.3988 - lr: 2.3077e-04 - 61s/epoch - 566ms/step\n",
      "Epoch 54/100\n",
      "\n",
      "Epoch 54: saving model to ../Models\\Age_NN7.hdf5\n",
      "107/107 - 56s - loss: 119.4248 - mae: 7.8583 - mse: 119.4248 - mape: 77.4110 - val_loss: 165.8537 - val_mae: 9.0486 - val_mse: 165.8537 - val_mape: 85.0467 - lr: 2.2642e-04 - 56s/epoch - 526ms/step\n",
      "Epoch 55/100\n",
      "\n",
      "Epoch 55: saving model to ../Models\\Age_NN7.hdf5\n",
      "107/107 - 58s - loss: 117.7894 - mae: 7.7935 - mse: 117.7894 - mape: 76.9748 - val_loss: 171.1997 - val_mae: 9.4590 - val_mse: 171.1997 - val_mape: 97.6426 - lr: 2.2222e-04 - 58s/epoch - 538ms/step\n",
      "Epoch 56/100\n",
      "\n",
      "Epoch 56: saving model to ../Models\\Age_NN7.hdf5\n",
      "107/107 - 57s - loss: 118.5815 - mae: 7.8257 - mse: 118.5815 - mape: 76.8953 - val_loss: 166.1499 - val_mae: 9.1433 - val_mse: 166.1499 - val_mape: 90.8470 - lr: 2.1818e-04 - 57s/epoch - 536ms/step\n",
      "Epoch 57/100\n",
      "\n",
      "Epoch 57: saving model to ../Models\\Age_NN7.hdf5\n",
      "107/107 - 67s - loss: 116.0927 - mae: 7.7391 - mse: 116.0927 - mape: 76.3351 - val_loss: 165.6474 - val_mae: 9.0172 - val_mse: 165.6474 - val_mape: 83.5398 - lr: 2.1429e-04 - 67s/epoch - 629ms/step\n",
      "Epoch 58/100\n",
      "\n",
      "Epoch 58: saving model to ../Models\\Age_NN7.hdf5\n",
      "107/107 - 68s - loss: 116.1645 - mae: 7.7323 - mse: 116.1645 - mape: 76.1096 - val_loss: 172.2657 - val_mae: 9.4399 - val_mse: 172.2657 - val_mape: 96.1701 - lr: 2.1053e-04 - 68s/epoch - 636ms/step\n",
      "Epoch 59/100\n",
      "\n",
      "Epoch 59: saving model to ../Models\\Age_NN7.hdf5\n",
      "107/107 - 60s - loss: 115.3226 - mae: 7.7039 - mse: 115.3226 - mape: 75.1721 - val_loss: 167.8342 - val_mae: 9.1554 - val_mse: 167.8342 - val_mape: 88.4059 - lr: 2.0690e-04 - 60s/epoch - 558ms/step\n",
      "Epoch 60/100\n",
      "\n",
      "Epoch 60: saving model to ../Models\\Age_NN7.hdf5\n",
      "107/107 - 61s - loss: 114.7768 - mae: 7.6997 - mse: 114.7768 - mape: 76.1849 - val_loss: 165.4892 - val_mae: 9.0450 - val_mse: 165.4892 - val_mape: 84.6844 - lr: 2.0339e-04 - 61s/epoch - 566ms/step\n",
      "Epoch 61/100\n",
      "\n",
      "Epoch 61: saving model to ../Models\\Age_NN7.hdf5\n",
      "107/107 - 63s - loss: 114.3207 - mae: 7.6902 - mse: 114.3207 - mape: 75.1828 - val_loss: 166.2751 - val_mae: 9.0752 - val_mse: 166.2751 - val_mape: 86.9771 - lr: 2.0000e-04 - 63s/epoch - 588ms/step\n",
      "Epoch 62/100\n",
      "\n",
      "Epoch 62: saving model to ../Models\\Age_NN7.hdf5\n",
      "107/107 - 58s - loss: 113.5897 - mae: 7.6692 - mse: 113.5897 - mape: 75.1843 - val_loss: 167.2292 - val_mae: 9.2179 - val_mse: 167.2292 - val_mape: 90.2144 - lr: 1.9672e-04 - 58s/epoch - 541ms/step\n",
      "Epoch 63/100\n",
      "\n",
      "Epoch 63: saving model to ../Models\\Age_NN7.hdf5\n",
      "107/107 - 62s - loss: 111.8008 - mae: 7.5924 - mse: 111.8008 - mape: 74.1528 - val_loss: 164.9873 - val_mae: 9.0368 - val_mse: 164.9873 - val_mape: 84.5194 - lr: 1.9355e-04 - 62s/epoch - 577ms/step\n",
      "Epoch 64/100\n",
      "\n",
      "Epoch 64: saving model to ../Models\\Age_NN7.hdf5\n",
      "107/107 - 57s - loss: 111.6034 - mae: 7.5940 - mse: 111.6034 - mape: 74.2448 - val_loss: 170.5270 - val_mae: 9.3660 - val_mse: 170.5270 - val_mape: 95.0186 - lr: 1.9048e-04 - 57s/epoch - 535ms/step\n",
      "Epoch 65/100\n",
      "\n",
      "Epoch 65: saving model to ../Models\\Age_NN7.hdf5\n",
      "107/107 - 57s - loss: 111.1426 - mae: 7.5955 - mse: 111.1426 - mape: 74.4311 - val_loss: 165.5250 - val_mae: 9.0556 - val_mse: 165.5250 - val_mape: 83.8629 - lr: 1.8750e-04 - 57s/epoch - 533ms/step\n",
      "Epoch 66/100\n",
      "\n",
      "Epoch 66: saving model to ../Models\\Age_NN7.hdf5\n",
      "107/107 - 59s - loss: 110.4445 - mae: 7.5637 - mse: 110.4445 - mape: 74.1163 - val_loss: 165.3598 - val_mae: 9.0531 - val_mse: 165.3598 - val_mape: 84.1483 - lr: 1.8462e-04 - 59s/epoch - 551ms/step\n",
      "Epoch 67/100\n",
      "\n",
      "Epoch 67: saving model to ../Models\\Age_NN7.hdf5\n",
      "107/107 - 65s - loss: 110.0060 - mae: 7.5345 - mse: 110.0060 - mape: 73.8416 - val_loss: 165.6038 - val_mae: 9.0727 - val_mse: 165.6038 - val_mape: 83.4397 - lr: 1.8182e-04 - 65s/epoch - 607ms/step\n",
      "Epoch 68/100\n",
      "\n",
      "Epoch 68: saving model to ../Models\\Age_NN7.hdf5\n",
      "107/107 - 71s - loss: 109.4893 - mae: 7.5346 - mse: 109.4893 - mape: 73.2708 - val_loss: 166.5167 - val_mae: 8.9695 - val_mse: 166.5167 - val_mape: 78.8256 - lr: 1.7910e-04 - 71s/epoch - 664ms/step\n"
     ]
    }
   ],
   "source": [
    "history = model_age.fit(\n",
    "    X_train_images, y_train_age,\n",
    "    epochs=100,\n",
    "    validation_data = (X_test_images, y_test_age),\n",
    "    batch_size=128,\n",
    "    verbose=2,\n",
    "    callbacks=[early_stop, checkpoint, schedule]\n",
    ")"
   ]
  },
  {
   "cell_type": "code",
   "execution_count": 37,
   "id": "77734416-a0cb-4e17-87c9-4e74b69aee3b",
   "metadata": {},
   "outputs": [
    {
     "name": "stdout",
     "output_type": "stream",
     "text": [
      "426/426 [==============================] - 15s 34ms/step\n",
      "120/120 [==============================] - 4s 32ms/step\n"
     ]
    },
    {
     "data": {
      "text/plain": [
       "7.3948679338093015"
      ]
     },
     "metadata": {},
     "output_type": "display_data"
    },
    {
     "data": {
      "text/plain": [
       "8.969506800205757"
      ]
     },
     "metadata": {},
     "output_type": "display_data"
    }
   ],
   "source": [
    "y_train_pred = model_age.predict(X_train_images)\n",
    "y_test_pred  = model_age.predict(X_test_images)\n",
    "\n",
    "display(mean_absolute_error(y_train_age,y_train_pred))\n",
    "display(mean_absolute_error(y_test_age,y_test_pred))"
   ]
  },
  {
   "cell_type": "code",
   "execution_count": 33,
   "id": "ca8b5277-34ac-4bb1-8a6c-a5d3dd4320e5",
   "metadata": {},
   "outputs": [
    {
     "name": "stdout",
     "output_type": "stream",
     "text": [
      "1/1 [==============================] - 0s 26ms/step\n"
     ]
    },
    {
     "data": {
      "text/plain": [
       "array([[25.59092]], dtype=float32)"
      ]
     },
     "metadata": {},
     "output_type": "display_data"
    },
    {
     "name": "stdout",
     "output_type": "stream",
     "text": [
      "1/1 [==============================] - 0s 26ms/step\n"
     ]
    },
    {
     "data": {
      "text/plain": [
       "array([[28.731276]], dtype=float32)"
      ]
     },
     "metadata": {},
     "output_type": "display_data"
    },
    {
     "name": "stdout",
     "output_type": "stream",
     "text": [
      "1/1 [==============================] - 0s 27ms/step\n"
     ]
    },
    {
     "data": {
      "text/plain": [
       "array([[46.988113]], dtype=float32)"
      ]
     },
     "metadata": {},
     "output_type": "display_data"
    },
    {
     "name": "stdout",
     "output_type": "stream",
     "text": [
      "1/1 [==============================] - 0s 25ms/step\n"
     ]
    },
    {
     "data": {
      "text/plain": [
       "array([[43.32]], dtype=float32)"
      ]
     },
     "metadata": {},
     "output_type": "display_data"
    },
    {
     "name": "stdout",
     "output_type": "stream",
     "text": [
      "1/1 [==============================] - 0s 27ms/step\n"
     ]
    },
    {
     "data": {
      "text/plain": [
       "array([[22.43469]], dtype=float32)"
      ]
     },
     "metadata": {},
     "output_type": "display_data"
    },
    {
     "name": "stdout",
     "output_type": "stream",
     "text": [
      "1/1 [==============================] - 0s 27ms/step\n"
     ]
    },
    {
     "data": {
      "text/plain": [
       "array([[55.310307]], dtype=float32)"
      ]
     },
     "metadata": {},
     "output_type": "display_data"
    },
    {
     "name": "stdout",
     "output_type": "stream",
     "text": [
      "1/1 [==============================] - 0s 29ms/step\n"
     ]
    },
    {
     "data": {
      "text/plain": [
       "array([[41.223095]], dtype=float32)"
      ]
     },
     "metadata": {},
     "output_type": "display_data"
    },
    {
     "name": "stdout",
     "output_type": "stream",
     "text": [
      "1/1 [==============================] - 0s 27ms/step\n"
     ]
    },
    {
     "data": {
      "text/plain": [
       "array([[35.03976]], dtype=float32)"
      ]
     },
     "metadata": {},
     "output_type": "display_data"
    },
    {
     "name": "stdout",
     "output_type": "stream",
     "text": [
      "1/1 [==============================] - 0s 23ms/step\n"
     ]
    },
    {
     "data": {
      "text/plain": [
       "array([[30.752754]], dtype=float32)"
      ]
     },
     "metadata": {},
     "output_type": "display_data"
    },
    {
     "name": "stdout",
     "output_type": "stream",
     "text": [
      "1/1 [==============================] - 0s 29ms/step\n"
     ]
    },
    {
     "data": {
      "text/plain": [
       "array([[54.448174]], dtype=float32)"
      ]
     },
     "metadata": {},
     "output_type": "display_data"
    },
    {
     "name": "stdout",
     "output_type": "stream",
     "text": [
      "1/1 [==============================] - 0s 26ms/step\n"
     ]
    },
    {
     "data": {
      "text/plain": [
       "array([[32.294304]], dtype=float32)"
      ]
     },
     "metadata": {},
     "output_type": "display_data"
    },
    {
     "name": "stdout",
     "output_type": "stream",
     "text": [
      "1/1 [==============================] - 0s 24ms/step\n"
     ]
    },
    {
     "data": {
      "text/plain": [
       "array([[22.935266]], dtype=float32)"
      ]
     },
     "metadata": {},
     "output_type": "display_data"
    }
   ],
   "source": [
    "display(model_age.predict(np.array([image_preprocess(\"../Data/Test/20Female.jpg\")])))\n",
    "display(model_age.predict(np.array([image_preprocess(\"../Data/Test/25Female1.jpg\")])))\n",
    "display(model_age.predict(np.array([image_preprocess(\"../Data/Test/25Female2.jpg\")])))\n",
    "display(model_age.predict(np.array([image_preprocess(\"../Data/Test/50Female1.jpg\")])))\n",
    "display(model_age.predict(np.array([image_preprocess(\"../Data/Test/50Female2.jpg\")])))\n",
    "display(model_age.predict(np.array([image_preprocess(\"../Data/Test/50Female3.jpg\")])))\n",
    "display(model_age.predict(np.array([image_preprocess(\"../Data/Test/50Female4.jpg\")])))\n",
    "\n",
    "display(model_age.predict(np.array([image_preprocess(\"../Data/Test/30Male1.jpg\")])))\n",
    "display(model_age.predict(np.array([image_preprocess(\"../Data/Test/30Male2.jpg\")])))\n",
    "display(model_age.predict(np.array([image_preprocess(\"../Data/Test/30Male3.jpg\")])))\n",
    "display(model_age.predict(np.array([image_preprocess(\"../Data/Test/40Male.jpg\")])))\n",
    "display(model_age.predict(np.array([image_preprocess(\"../Data/Test/50Male.jpg\")])))"
   ]
  },
  {
   "cell_type": "code",
   "execution_count": 231,
   "id": "7ad661ad-49a8-4550-bc83-fc1ea3cbe4da",
   "metadata": {},
   "outputs": [],
   "source": [
    "model_age = load_model(\"../Models/Age_NN3.hdf5\")"
   ]
  },
  {
   "cell_type": "code",
   "execution_count": 232,
   "id": "d7d344db-5724-44d4-8a5f-6383d3fcad07",
   "metadata": {},
   "outputs": [
    {
     "name": "stdout",
     "output_type": "stream",
     "text": [
      "426/426 [==============================] - 22s 51ms/step\n",
      "120/120 [==============================] - 6s 48ms/step\n"
     ]
    },
    {
     "data": {
      "text/plain": [
       "4.357551175066471"
      ]
     },
     "metadata": {},
     "output_type": "display_data"
    },
    {
     "data": {
      "text/plain": [
       "7.97575630665912"
      ]
     },
     "metadata": {},
     "output_type": "display_data"
    }
   ],
   "source": [
    "y_train_pred = model_age.predict(X_train_images)\n",
    "y_test_pred  = model_age.predict(X_test_images)\n",
    "\n",
    "display(mean_absolute_error(y_train_age,y_train_pred))\n",
    "display(mean_absolute_error(y_test_age,y_test_pred))"
   ]
  },
  {
   "cell_type": "markdown",
   "id": "591ac4ae-f63d-4bce-a534-c04026782913",
   "metadata": {
    "tags": []
   },
   "source": [
    "## Gender"
   ]
  },
  {
   "cell_type": "code",
   "execution_count": 216,
   "id": "6ca7755c-b2f6-443e-8da1-228776e5304e",
   "metadata": {
    "tags": []
   },
   "outputs": [
    {
     "name": "stdout",
     "output_type": "stream",
     "text": [
      "Model: \"sequential_43\"\n",
      "_________________________________________________________________\n",
      " Layer (type)                Output Shape              Param #   \n",
      "=================================================================\n",
      " conv2d_165 (Conv2D)         (None, 63, 63, 64)        320       \n",
      "                                                                 \n",
      " max_pooling2d_37 (MaxPoolin  (None, 31, 31, 64)       0         \n",
      " g2D)                                                            \n",
      "                                                                 \n",
      " conv2d_166 (Conv2D)         (None, 30, 30, 64)        16448     \n",
      "                                                                 \n",
      " max_pooling2d_38 (MaxPoolin  (None, 15, 15, 64)       0         \n",
      " g2D)                                                            \n",
      "                                                                 \n",
      " conv2d_167 (Conv2D)         (None, 14, 14, 64)        16448     \n",
      "                                                                 \n",
      " max_pooling2d_39 (MaxPoolin  (None, 7, 7, 64)         0         \n",
      " g2D)                                                            \n",
      "                                                                 \n",
      " flatten_30 (Flatten)        (None, 3136)              0         \n",
      "                                                                 \n",
      " dense_78 (Dense)            (None, 64)                200768    \n",
      "                                                                 \n",
      " dense_79 (Dense)            (None, 1)                 65        \n",
      "                                                                 \n",
      "=================================================================\n",
      "Total params: 234,049\n",
      "Trainable params: 234,049\n",
      "Non-trainable params: 0\n",
      "_________________________________________________________________\n"
     ]
    }
   ],
   "source": [
    "model_gender = Sequential()\n",
    "# First layer needs as many nodes as inputs\n",
    "model_gender.add(Conv2D(64,(2,2), activation = \"relu\", input_shape = (64,64,1)))\n",
    "model_gender.add(MaxPool2D((2,2)))\n",
    "model_gender.add(Conv2D(64,(2,2), activation = \"relu\"))\n",
    "model_gender.add(MaxPool2D((2,2)))\n",
    "model_gender.add(Conv2D(64,(2,2), activation = \"relu\"))\n",
    "model_gender.add(MaxPool2D((2,2)))\n",
    "model_gender.add(Flatten())\n",
    "model_gender.add(Dense(64, activation = \"relu\"))\n",
    "model_gender.add(Dense(1, activation = \"sigmoid\"))\n",
    "model_gender.compile(optimizer = \"adam\",\n",
    "              loss = \"binary_crossentropy\",\n",
    "              metrics = \"accuracy\")\n",
    "model_gender.summary()"
   ]
  },
  {
   "cell_type": "code",
   "execution_count": 211,
   "id": "f858a1ca-1253-4b80-a88b-24fb9f8d638f",
   "metadata": {},
   "outputs": [],
   "source": [
    "early_stop = EarlyStopping(patience=5)\n",
    "\n",
    "checkpoint_path = '../Models/Gender_NN14.hdf5'\n",
    "checkpoint = ModelCheckpoint(\n",
    "    filepath=checkpoint_path,\n",
    "    save_freq='epoch',\n",
    "    save_weights_only=False,\n",
    "    verbose=1\n",
    ")\n",
    "\n",
    "schedule = tf.keras.callbacks.LearningRateScheduler(scheduler)"
   ]
  },
  {
   "cell_type": "code",
   "execution_count": 217,
   "id": "d349ff10-a077-4f1b-b150-29623cabae6c",
   "metadata": {
    "collapsed": true,
    "jupyter": {
     "outputs_hidden": true
    },
    "tags": []
   },
   "outputs": [
    {
     "name": "stdout",
     "output_type": "stream",
     "text": [
      "Epoch 1/50\n",
      "\n",
      "Epoch 1: saving model to ../Models\\Gender_NN14.hdf5\n",
      "107/107 - 51s - loss: 0.6152 - accuracy: 0.6488 - val_loss: 0.5823 - val_accuracy: 0.6992 - lr: 0.0010 - 51s/epoch - 473ms/step\n",
      "Epoch 2/50\n",
      "\n",
      "Epoch 2: saving model to ../Models\\Gender_NN14.hdf5\n",
      "107/107 - 53s - loss: 0.5278 - accuracy: 0.7348 - val_loss: 0.5298 - val_accuracy: 0.7354 - lr: 0.0010 - 53s/epoch - 495ms/step\n",
      "Epoch 3/50\n",
      "\n",
      "Epoch 3: saving model to ../Models\\Gender_NN14.hdf5\n",
      "107/107 - 51s - loss: 0.4695 - accuracy: 0.7752 - val_loss: 0.4835 - val_accuracy: 0.7685 - lr: 0.0010 - 51s/epoch - 476ms/step\n",
      "Epoch 4/50\n",
      "\n",
      "Epoch 4: saving model to ../Models\\Gender_NN14.hdf5\n",
      "107/107 - 50s - loss: 0.4340 - accuracy: 0.7969 - val_loss: 0.4531 - val_accuracy: 0.7901 - lr: 0.0010 - 50s/epoch - 467ms/step\n",
      "Epoch 5/50\n",
      "\n",
      "Epoch 5: saving model to ../Models\\Gender_NN14.hdf5\n",
      "107/107 - 51s - loss: 0.3968 - accuracy: 0.8205 - val_loss: 0.4207 - val_accuracy: 0.8076 - lr: 0.0010 - 51s/epoch - 474ms/step\n",
      "Epoch 6/50\n",
      "\n",
      "Epoch 6: saving model to ../Models\\Gender_NN14.hdf5\n",
      "107/107 - 56s - loss: 0.3663 - accuracy: 0.8377 - val_loss: 0.4066 - val_accuracy: 0.8190 - lr: 9.0000e-04 - 56s/epoch - 522ms/step\n",
      "Epoch 7/50\n",
      "\n",
      "Epoch 7: saving model to ../Models\\Gender_NN14.hdf5\n",
      "107/107 - 55s - loss: 0.3349 - accuracy: 0.8508 - val_loss: 0.3985 - val_accuracy: 0.8273 - lr: 8.2500e-04 - 55s/epoch - 514ms/step\n",
      "Epoch 8/50\n",
      "\n",
      "Epoch 8: saving model to ../Models\\Gender_NN14.hdf5\n",
      "107/107 - 63s - loss: 0.3129 - accuracy: 0.8636 - val_loss: 0.4016 - val_accuracy: 0.8227 - lr: 7.6607e-04 - 63s/epoch - 587ms/step\n",
      "Epoch 9/50\n",
      "\n",
      "Epoch 9: saving model to ../Models\\Gender_NN14.hdf5\n",
      "107/107 - 57s - loss: 0.2857 - accuracy: 0.8771 - val_loss: 0.3686 - val_accuracy: 0.8424 - lr: 7.1819e-04 - 57s/epoch - 529ms/step\n",
      "Epoch 10/50\n",
      "\n",
      "Epoch 10: saving model to ../Models\\Gender_NN14.hdf5\n",
      "107/107 - 58s - loss: 0.2682 - accuracy: 0.8851 - val_loss: 0.3579 - val_accuracy: 0.8430 - lr: 6.7829e-04 - 58s/epoch - 546ms/step\n",
      "Epoch 11/50\n",
      "\n",
      "Epoch 11: saving model to ../Models\\Gender_NN14.hdf5\n",
      "107/107 - 58s - loss: 0.2515 - accuracy: 0.8963 - val_loss: 0.3639 - val_accuracy: 0.8440 - lr: 6.4438e-04 - 58s/epoch - 545ms/step\n",
      "Epoch 12/50\n",
      "\n",
      "Epoch 12: saving model to ../Models\\Gender_NN14.hdf5\n",
      "107/107 - 64s - loss: 0.2336 - accuracy: 0.9026 - val_loss: 0.3773 - val_accuracy: 0.8388 - lr: 6.1509e-04 - 64s/epoch - 601ms/step\n",
      "Epoch 13/50\n",
      "\n",
      "Epoch 13: saving model to ../Models\\Gender_NN14.hdf5\n",
      "107/107 - 56s - loss: 0.2249 - accuracy: 0.9053 - val_loss: 0.3595 - val_accuracy: 0.8487 - lr: 5.8946e-04 - 56s/epoch - 519ms/step\n",
      "Epoch 14/50\n",
      "\n",
      "Epoch 14: saving model to ../Models\\Gender_NN14.hdf5\n",
      "107/107 - 62s - loss: 0.2028 - accuracy: 0.9161 - val_loss: 0.3675 - val_accuracy: 0.8464 - lr: 5.6679e-04 - 62s/epoch - 575ms/step\n",
      "Epoch 15/50\n",
      "\n",
      "Epoch 15: saving model to ../Models\\Gender_NN14.hdf5\n",
      "107/107 - 57s - loss: 0.1908 - accuracy: 0.9217 - val_loss: 0.3572 - val_accuracy: 0.8508 - lr: 5.4655e-04 - 57s/epoch - 537ms/step\n",
      "Epoch 16/50\n",
      "\n",
      "Epoch 16: saving model to ../Models\\Gender_NN14.hdf5\n",
      "107/107 - 57s - loss: 0.1862 - accuracy: 0.9229 - val_loss: 0.3756 - val_accuracy: 0.8510 - lr: 5.2833e-04 - 57s/epoch - 534ms/step\n",
      "Epoch 17/50\n",
      "\n",
      "Epoch 17: saving model to ../Models\\Gender_NN14.hdf5\n",
      "107/107 - 57s - loss: 0.1706 - accuracy: 0.9310 - val_loss: 0.3758 - val_accuracy: 0.8526 - lr: 5.1182e-04 - 57s/epoch - 535ms/step\n",
      "Epoch 18/50\n",
      "\n",
      "Epoch 18: saving model to ../Models\\Gender_NN14.hdf5\n",
      "107/107 - 58s - loss: 0.1554 - accuracy: 0.9402 - val_loss: 0.3781 - val_accuracy: 0.8518 - lr: 4.9676e-04 - 58s/epoch - 538ms/step\n",
      "Epoch 19/50\n",
      "\n",
      "Epoch 19: saving model to ../Models\\Gender_NN14.hdf5\n",
      "107/107 - 58s - loss: 0.1451 - accuracy: 0.9439 - val_loss: 0.3944 - val_accuracy: 0.8490 - lr: 4.8296e-04 - 58s/epoch - 540ms/step\n",
      "Epoch 20/50\n",
      "\n",
      "Epoch 20: saving model to ../Models\\Gender_NN14.hdf5\n",
      "107/107 - 57s - loss: 0.1355 - accuracy: 0.9486 - val_loss: 0.3914 - val_accuracy: 0.8484 - lr: 4.7025e-04 - 57s/epoch - 532ms/step\n"
     ]
    }
   ],
   "source": [
    "history = model_gender.fit(\n",
    "    X_train_images, y_train_gender,\n",
    "    epochs=50,\n",
    "    validation_data = (X_test_images, y_test_gender),\n",
    "    batch_size=128,\n",
    "    verbose=2,\n",
    "    callbacks=[early_stop, checkpoint, schedule]\n",
    ")"
   ]
  },
  {
   "cell_type": "code",
   "execution_count": 38,
   "id": "c289d592-2279-48c7-a890-ecde12daa3f6",
   "metadata": {},
   "outputs": [
    {
     "ename": "NameError",
     "evalue": "name 'model_gender' is not defined",
     "output_type": "error",
     "traceback": [
      "\u001b[1;31m---------------------------------------------------------------------------\u001b[0m",
      "\u001b[1;31mNameError\u001b[0m                                 Traceback (most recent call last)",
      "Input \u001b[1;32mIn [38]\u001b[0m, in \u001b[0;36m<cell line: 1>\u001b[1;34m()\u001b[0m\n\u001b[1;32m----> 1\u001b[0m y_train_pred \u001b[38;5;241m=\u001b[39m \u001b[43mmodel_gender\u001b[49m\u001b[38;5;241m.\u001b[39mpredict(X_train_images)\n\u001b[0;32m      2\u001b[0m y_test_pred  \u001b[38;5;241m=\u001b[39m model_gender\u001b[38;5;241m.\u001b[39mpredict(X_test_images)\n\u001b[0;32m      5\u001b[0m \u001b[38;5;66;03m# This is for binary_crossentropy (1 neuron final output)\u001b[39;00m\n",
      "\u001b[1;31mNameError\u001b[0m: name 'model_gender' is not defined"
     ]
    }
   ],
   "source": [
    "y_train_pred = model_gender.predict(X_train_images)\n",
    "y_test_pred  = model_gender.predict(X_test_images)\n",
    "\n",
    "\n",
    "# This is for binary_crossentropy (1 neuron final output)\n",
    "y_train_pred2 = [int(round(y_train_pred[x][0],0)) for x in range(len(y_train_pred))]\n",
    "y_test_pred2 = [int(round(y_test_pred[x][0],0)) for x in range(len(y_test_pred))]\n",
    "\n",
    "\n",
    "# This is for sparse_categorical_crossestropy (2 neurons final output)\n",
    "# y_train_pred2 = np.argmax(y_train_pred, axis=1).reshape(-1,1)\n",
    "# y_test_pred2 = np.argmax(y_test_pred, axis=1).reshape(-1,1)\n",
    "\n",
    "print(\"Kappa score:\",cohen_kappa_score(y_train_gender, y_train_pred2))\n",
    "print(classification_report(y_train_gender, y_train_pred2, zero_division = True))\n",
    "print(\"Kappa score:\",cohen_kappa_score(y_test_gender, y_test_pred2))\n",
    "print(classification_report(y_test_gender, y_test_pred2, zero_division = True))"
   ]
  }
 ],
 "metadata": {
  "kernelspec": {
   "display_name": "Python 3 (ipykernel)",
   "language": "python",
   "name": "python3"
  },
  "language_info": {
   "codemirror_mode": {
    "name": "ipython",
    "version": 3
   },
   "file_extension": ".py",
   "mimetype": "text/x-python",
   "name": "python",
   "nbconvert_exporter": "python",
   "pygments_lexer": "ipython3",
   "version": "3.9.13"
  }
 },
 "nbformat": 4,
 "nbformat_minor": 5
}
